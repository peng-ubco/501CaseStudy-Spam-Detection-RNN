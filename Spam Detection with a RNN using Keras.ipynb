{
 "cells": [
  {
   "cell_type": "markdown",
   "metadata": {
    "id": "Caz3SftI2oSn"
   },
   "source": [
    "# Spam Detection with RNN\n",
    "This notebook was built for the course ENGR 501 -- *Deep learning and reinforcement learning for engineering*, as a sumplementary material of the RNN lectures, to show a Recurrent Neural Network (RNN) model can be used to distinguish spam from non-spam. The used dataset is the \"SMS Spam Collection\", which can be found at Kaggle under \"https://www.kaggle.com/ishansoni/sms-spam-collection-dataset\"."
   ]
  },
  {
   "cell_type": "markdown",
   "metadata": {
    "id": "1tMeImQQ2oSo"
   },
   "source": [
    "## Imports"
   ]
  },
  {
   "cell_type": "code",
   "execution_count": 2,
   "metadata": {
    "executionInfo": {
     "elapsed": 205,
     "status": "ok",
     "timestamp": 1678257375611,
     "user": {
      "displayName": "Pengxia Wu",
      "userId": "06372533848067580748"
     },
     "user_tz": 480
    },
    "id": "mRI5DglI2oSo"
   },
   "outputs": [],
   "source": [
    "import pandas as pd\n",
    "import numpy as np\n",
    "\n",
    "from keras.preprocessing.text import Tokenizer\n",
    "from tensorflow.keras.preprocessing.sequence import pad_sequences\n",
    "\n",
    "from keras.models import Sequential\n",
    "from keras.layers import Dense, SimpleRNN, LSTM, Embedding"
   ]
  },
  {
   "cell_type": "markdown",
   "metadata": {
    "id": "rsjD3S1y2oSq"
   },
   "source": [
    "## Read data"
   ]
  },
  {
   "cell_type": "code",
   "execution_count": 3,
   "metadata": {
    "colab": {
     "base_uri": "https://localhost:8080/",
     "height": 206
    },
    "executionInfo": {
     "elapsed": 186,
     "status": "ok",
     "timestamp": 1678257379789,
     "user": {
      "displayName": "Pengxia Wu",
      "userId": "06372533848067580748"
     },
     "user_tz": 480
    },
    "id": "CWXo3pr32oSq",
    "outputId": "83526fb1-d791-43ec-8edd-711a883ce057"
   },
   "outputs": [
    {
     "data": {
      "text/html": [
       "<div>\n",
       "<style scoped>\n",
       "    .dataframe tbody tr th:only-of-type {\n",
       "        vertical-align: middle;\n",
       "    }\n",
       "\n",
       "    .dataframe tbody tr th {\n",
       "        vertical-align: top;\n",
       "    }\n",
       "\n",
       "    .dataframe thead th {\n",
       "        text-align: right;\n",
       "    }\n",
       "</style>\n",
       "<table border=\"1\" class=\"dataframe\">\n",
       "  <thead>\n",
       "    <tr style=\"text-align: right;\">\n",
       "      <th></th>\n",
       "      <th>label</th>\n",
       "      <th>sms</th>\n",
       "    </tr>\n",
       "  </thead>\n",
       "  <tbody>\n",
       "    <tr>\n",
       "      <th>0</th>\n",
       "      <td>ham</td>\n",
       "      <td>Go until jurong point, crazy.. Available only ...</td>\n",
       "    </tr>\n",
       "    <tr>\n",
       "      <th>1</th>\n",
       "      <td>ham</td>\n",
       "      <td>Ok lar... Joking wif u oni...</td>\n",
       "    </tr>\n",
       "    <tr>\n",
       "      <th>2</th>\n",
       "      <td>spam</td>\n",
       "      <td>Free entry in 2 a wkly comp to win FA Cup fina...</td>\n",
       "    </tr>\n",
       "    <tr>\n",
       "      <th>3</th>\n",
       "      <td>ham</td>\n",
       "      <td>U dun say so early hor... U c already then say...</td>\n",
       "    </tr>\n",
       "    <tr>\n",
       "      <th>4</th>\n",
       "      <td>ham</td>\n",
       "      <td>Nah I don't think he goes to usf, he lives aro...</td>\n",
       "    </tr>\n",
       "  </tbody>\n",
       "</table>\n",
       "</div>"
      ],
      "text/plain": [
       "  label                                                sms\n",
       "0   ham  Go until jurong point, crazy.. Available only ...\n",
       "1   ham                      Ok lar... Joking wif u oni...\n",
       "2  spam  Free entry in 2 a wkly comp to win FA Cup fina...\n",
       "3   ham  U dun say so early hor... U c already then say...\n",
       "4   ham  Nah I don't think he goes to usf, he lives aro..."
      ]
     },
     "execution_count": 3,
     "metadata": {},
     "output_type": "execute_result"
    }
   ],
   "source": [
    "df = pd.read_csv('./spam.csv')\n",
    "df.head()"
   ]
  },
  {
   "cell_type": "markdown",
   "metadata": {
    "id": "AP8moXIo2oSr"
   },
   "source": [
    "## Create target-column\n",
    "Map text from label-column to integer (0/1) in new column"
   ]
  },
  {
   "cell_type": "code",
   "execution_count": 4,
   "metadata": {
    "executionInfo": {
     "elapsed": 312,
     "status": "ok",
     "timestamp": 1678257381761,
     "user": {
      "displayName": "Pengxia Wu",
      "userId": "06372533848067580748"
     },
     "user_tz": 480
    },
    "id": "gTjDwfxc2oSr"
   },
   "outputs": [],
   "source": [
    "df['target'] = df['label'].map( {'spam':1, 'ham':0 })"
   ]
  },
  {
   "cell_type": "markdown",
   "metadata": {
    "id": "dXv03gpZ2oSr"
   },
   "source": [
    "## Separate training set and testing set"
   ]
  },
  {
   "cell_type": "code",
   "execution_count": 5,
   "metadata": {
    "colab": {
     "base_uri": "https://localhost:8080/"
    },
    "executionInfo": {
     "elapsed": 203,
     "status": "ok",
     "timestamp": 1678257383191,
     "user": {
      "displayName": "Pengxia Wu",
      "userId": "06372533848067580748"
     },
     "user_tz": 480
    },
    "id": "R74YVpOA2oSr",
    "outputId": "0468b905-c082-4865-fc2d-a86a6df32600"
   },
   "outputs": [
    {
     "name": "stdout",
     "output_type": "stream",
     "text": [
      "(4458, 3) (1114, 3)\n"
     ]
    }
   ],
   "source": [
    "df_train = df.sample(frac=.8, random_state=11)\n",
    "df_test = df.drop(df_train.index)\n",
    "print(df_train.shape, df_test.shape)"
   ]
  },
  {
   "cell_type": "markdown",
   "metadata": {
    "id": "vPhgLzcb2oSs"
   },
   "source": [
    "## Prepare y_train, y_test"
   ]
  },
  {
   "cell_type": "code",
   "execution_count": 6,
   "metadata": {
    "colab": {
     "base_uri": "https://localhost:8080/"
    },
    "executionInfo": {
     "elapsed": 7,
     "status": "ok",
     "timestamp": 1678257385111,
     "user": {
      "displayName": "Pengxia Wu",
      "userId": "06372533848067580748"
     },
     "user_tz": 480
    },
    "id": "PUeCIQnJ2oSt",
    "outputId": "07206576-bad5-401c-fe88-e9ef02b10e0b"
   },
   "outputs": [
    {
     "name": "stdout",
     "output_type": "stream",
     "text": [
      "(4458,) (1114,)\n"
     ]
    }
   ],
   "source": [
    "y_train = df_train['target'].values\n",
    "y_test = df_test['target'].values\n",
    "print(y_train.shape, y_test.shape)"
   ]
  },
  {
   "cell_type": "markdown",
   "metadata": {
    "id": "AX66l4QC2oSu"
   },
   "source": [
    "## Prepare X_train, X_test"
   ]
  },
  {
   "cell_type": "code",
   "execution_count": 7,
   "metadata": {
    "executionInfo": {
     "elapsed": 160,
     "status": "ok",
     "timestamp": 1678257387038,
     "user": {
      "displayName": "Pengxia Wu",
      "userId": "06372533848067580748"
     },
     "user_tz": 480
    },
    "id": "pyUcPqvl2oSu"
   },
   "outputs": [
    {
     "name": "stdout",
     "output_type": "stream",
     "text": [
      "(4458,) (1114,)\n",
      "Thanks again for your reply today. When is ur visa coming in. And r u still buying the gucci and bags. My sister things are not easy, uncle john also has his own bills so i really need to think about how to make my own money. Later sha.\n"
     ]
    }
   ],
   "source": [
    "X_train = df_train['sms'].values\n",
    "X_test = df_test['sms'].values\n",
    "print(X_train.shape, X_test.shape)\n",
    "print(X_train[0])"
   ]
  },
  {
   "cell_type": "markdown",
   "metadata": {
    "id": "_ak_eMms2oSu"
   },
   "source": [
    "## Tokenize\n",
    "Create a `word_dict`, which maps the words to indexes, within the items are ordered by the most frequent words (they come first in the list)"
   ]
  },
  {
   "cell_type": "code",
   "execution_count": 8,
   "metadata": {
    "executionInfo": {
     "elapsed": 193,
     "status": "ok",
     "timestamp": 1678257388719,
     "user": {
      "displayName": "Pengxia Wu",
      "userId": "06372533848067580748"
     },
     "user_tz": 480
    },
    "id": "nQCN7kDm2oSu"
   },
   "outputs": [],
   "source": [
    "tokenizer = Tokenizer()\n",
    "tokenizer.fit_on_texts(X_train)\n",
    "\n",
    "word_dict = tokenizer.word_index\n",
    "\n",
    "# print(len(word_dict))\n",
    "# print(word_dict)\n",
    "\n",
    "# for key in word_dict.keys():\n",
    "#     print(key, word_dict[key])"
   ]
  },
  {
   "cell_type": "markdown",
   "metadata": {
    "id": "zm8NHyW52oSv"
   },
   "source": [
    "## Create index sequences from sentences (word sequences)\n",
    "\n",
    "Transfer the word sequences to indexes"
   ]
  },
  {
   "cell_type": "code",
   "execution_count": 9,
   "metadata": {
    "colab": {
     "base_uri": "https://localhost:8080/"
    },
    "executionInfo": {
     "elapsed": 160,
     "status": "ok",
     "timestamp": 1678257390927,
     "user": {
      "displayName": "Pengxia Wu",
      "userId": "06372533848067580748"
     },
     "user_tz": 480
    },
    "id": "CF6yAVJM2oSv",
    "outputId": "14c4cf85-393d-4297-e20c-fc62c8be91b2"
   },
   "outputs": [
    {
     "name": "stdout",
     "output_type": "stream",
     "text": [
      "[[172, 211, 12, 13, 87, 92, 45, 8, 32, 3799, 231, 9, 7, 86, 6, 81, 1020, 5, 3800, 7, 1999, 11, 635, 241, 21, 25, 436, 928, 1110, 178, 131, 206, 929, 2564, 23, 1, 154, 80, 2, 110, 82, 48, 2, 135, 11, 929, 227, 98, 1639], [257, 307, 2, 1426, 2565, 6, 33, 30, 1245, 1246, 15, 49, 5, 337, 709, 7, 1427, 1428, 581, 68, 34, 2000, 88, 2, 2001], [22, 636, 13, 283, 211, 7, 26, 3, 17, 94, 1429, 67], [13, 296, 2, 30, 18, 4, 2002, 1640, 491, 16, 22, 1247, 37, 930, 258, 183, 931, 671, 401, 349, 1111, 1112, 1113, 1114, 1021, 8, 4, 553, 360, 16], [99, 203, 166, 1, 184, 3, 117, 3801, 148, 2, 52, 48, 3802, 22]]\n"
     ]
    }
   ],
   "source": [
    "X_train_seq = tokenizer.texts_to_sequences(X_train) \n",
    "X_test_seq = tokenizer.texts_to_sequences(X_test)\n",
    "\n",
    "print(X_train_seq[:5])\n",
    "\n",
    "# print(X_train_seq[0])\n",
    "# print(f\"The length of the first sentence is: {len(X_train_seq[0])}\")\n",
    "# print(df_train.iloc[0,:])\n",
    "# for el in X_train_seq[0]:\n",
    "#     print(word_dict[el], end=' ')\n",
    "\n",
    "\n",
    "# print(X_train_seq[1])\n",
    "# print(f\"The length of the second sentence is: {len(X_train_seq[1])}\")\n",
    "\n",
    "# print(df_train.iloc[1,:])\n",
    "# for el in X_train_seq[1]:\n",
    "#     print(word_dict[el], end=' ')"
   ]
  },
  {
   "cell_type": "markdown",
   "metadata": {
    "id": "Q14ZDN_32oSv"
   },
   "source": [
    "## Create pads with fix length\n",
    "Maximum length is 20"
   ]
  },
  {
   "cell_type": "code",
   "execution_count": 10,
   "metadata": {
    "colab": {
     "base_uri": "https://localhost:8080/"
    },
    "executionInfo": {
     "elapsed": 208,
     "status": "ok",
     "timestamp": 1678257393636,
     "user": {
      "displayName": "Pengxia Wu",
      "userId": "06372533848067580748"
     },
     "user_tz": 480
    },
    "id": "3nP7CEuy2oSv",
    "outputId": "d466231e-d5f3-431f-c44a-e8d5420c3e0f"
   },
   "outputs": [
    {
     "name": "stdout",
     "output_type": "stream",
     "text": [
      "[[ 178  131  206  929 2564   23    1  154   80    2  110   82   48    2\n",
      "   135   11  929  227   98 1639]\n",
      " [   6   33   30 1245 1246   15   49    5  337  709    7 1427 1428  581\n",
      "    68   34 2000   88    2 2001]\n",
      " [  22  636   13  283  211    7   26    3   17   94 1429   67    0    0\n",
      "     0    0    0    0    0    0]\n",
      " [  22 1247   37  930  258  183  931  671  401  349 1111 1112 1113 1114\n",
      "  1021    8    4  553  360   16]\n",
      " [  99  203  166    1  184    3  117 3801  148    2   52   48 3802   22\n",
      "     0    0    0    0    0    0]]\n"
     ]
    },
    {
     "data": {
      "text/plain": [
       "(4458, 20)"
      ]
     },
     "execution_count": 10,
     "metadata": {},
     "output_type": "execute_result"
    }
   ],
   "source": [
    "X_train_pad = pad_sequences(X_train_seq, maxlen=20, padding='post') \n",
    "X_test_pad = pad_sequences(X_test_seq, maxlen=20, padding='post')\n",
    "print(X_train_pad[:5])\n",
    "X_train_pad.shape\n",
    "\n",
    "#Qs: what happened for the sentences shorter than maxlen=20 ? "
   ]
  },
  {
   "cell_type": "markdown",
   "metadata": {
    "id": "SSpmgN6P2oSw"
   },
   "source": [
    "## Create Keras-model\n",
    "Use a simple RNN or \"Long Short Term Memory\" (LSTM)"
   ]
  },
  {
   "cell_type": "code",
   "execution_count": 16,
   "metadata": {},
   "outputs": [],
   "source": [
    "import tensorflow as tf\n",
    "gpu_devices = tf.config.experimental.list_physical_devices('GPU')\n",
    "for device in gpu_devices:\n",
    "    tf.config.experimental.set_memory_growth(device, True)"
   ]
  },
  {
   "cell_type": "code",
   "execution_count": 17,
   "metadata": {
    "colab": {
     "base_uri": "https://localhost:8080/"
    },
    "executionInfo": {
     "elapsed": 470,
     "status": "ok",
     "timestamp": 1678257538448,
     "user": {
      "displayName": "Pengxia Wu",
      "userId": "06372533848067580748"
     },
     "user_tz": 480
    },
    "id": "jYn1OImO2oSw",
    "outputId": "7a212d1a-2027-4c4c-b540-ed7c82a039d9"
   },
   "outputs": [
    {
     "name": "stdout",
     "output_type": "stream",
     "text": [
      "Model: \"sequential_2\"\n",
      "_________________________________________________________________\n",
      " Layer (type)                Output Shape              Param #   \n",
      "=================================================================\n",
      " embedding_2 (Embedding)     (None, 20, 20)            159660    \n",
      "                                                                 \n",
      " lstm_2 (LSTM)               (None, 400)               673600    \n",
      "                                                                 \n",
      " dense_2 (Dense)             (None, 1)                 401       \n",
      "                                                                 \n",
      "=================================================================\n",
      "Total params: 833,661\n",
      "Trainable params: 833,661\n",
      "Non-trainable params: 0\n",
      "_________________________________________________________________\n"
     ]
    }
   ],
   "source": [
    "T = len(X_train_pad[1])  # 20\n",
    "V = len(word_dict) # 7982\n",
    "D = 20\n",
    "\n",
    "model = Sequential()\n",
    "model.add(Embedding(input_dim=V+1, output_dim=D, input_length=T)) # \"V+1\" since word index starts from 1\n",
    "# model.add(SimpleRNN(400))\n",
    "model.add(LSTM(400))\n",
    "model.add(Dense(1, activation='sigmoid'))\n",
    "\n",
    "model.compile(loss='binary_crossentropy', optimizer='adam', metrics=['accuracy'])\n",
    "model.summary()"
   ]
  },
  {
   "cell_type": "markdown",
   "metadata": {
    "id": "FR-5Xjjp2oSw"
   },
   "source": [
    "## Train model"
   ]
  },
  {
   "cell_type": "code",
   "execution_count": 18,
   "metadata": {
    "colab": {
     "base_uri": "https://localhost:8080/"
    },
    "executionInfo": {
     "elapsed": 47365,
     "status": "ok",
     "timestamp": 1678257587894,
     "user": {
      "displayName": "Pengxia Wu",
      "userId": "06372533848067580748"
     },
     "user_tz": 480
    },
    "id": "UKq1_lFQ2oSw",
    "outputId": "55b343b9-b1b7-4574-a57b-1cec168ca93b"
   },
   "outputs": [
    {
     "name": "stdout",
     "output_type": "stream",
     "text": [
      "Epoch 1/10\n",
      "70/70 [==============================] - 4s 38ms/step - loss: 0.2007 - accuracy: 0.9332 - val_loss: 0.0689 - val_accuracy: 0.9803\n",
      "Epoch 2/10\n",
      "70/70 [==============================] - 2s 34ms/step - loss: 0.0348 - accuracy: 0.9919 - val_loss: 0.0622 - val_accuracy: 0.9847\n",
      "Epoch 3/10\n",
      "70/70 [==============================] - 2s 35ms/step - loss: 0.0106 - accuracy: 0.9971 - val_loss: 0.0720 - val_accuracy: 0.9874\n",
      "Epoch 4/10\n",
      "70/70 [==============================] - 2s 35ms/step - loss: 0.0112 - accuracy: 0.9969 - val_loss: 0.0627 - val_accuracy: 0.9865\n",
      "Epoch 5/10\n",
      "70/70 [==============================] - 2s 33ms/step - loss: 0.0066 - accuracy: 0.9987 - val_loss: 0.1503 - val_accuracy: 0.9820\n",
      "Epoch 6/10\n",
      "70/70 [==============================] - 2s 32ms/step - loss: 9.5038e-04 - accuracy: 0.9998 - val_loss: 0.1229 - val_accuracy: 0.9820\n",
      "Epoch 7/10\n",
      "70/70 [==============================] - 2s 32ms/step - loss: 2.0893e-04 - accuracy: 1.0000 - val_loss: 0.1219 - val_accuracy: 0.9847\n",
      "Epoch 8/10\n",
      "70/70 [==============================] - 2s 32ms/step - loss: 3.7675e-05 - accuracy: 1.0000 - val_loss: 0.1360 - val_accuracy: 0.9829\n",
      "Epoch 9/10\n",
      "70/70 [==============================] - 2s 33ms/step - loss: 1.7071e-05 - accuracy: 1.0000 - val_loss: 0.1452 - val_accuracy: 0.9829\n",
      "Epoch 10/10\n",
      "70/70 [==============================] - 2s 35ms/step - loss: 1.1292e-05 - accuracy: 1.0000 - val_loss: 0.1522 - val_accuracy: 0.9829\n"
     ]
    }
   ],
   "source": [
    "history = model.fit(X_train_pad, y_train, epochs=10, batch_size=64, \n",
    "                    validation_data=(X_test_pad, y_test))"
   ]
  },
  {
   "cell_type": "markdown",
   "metadata": {
    "id": "NZxDRNiw2oSx"
   },
   "source": [
    "## Test-Estimation"
   ]
  },
  {
   "cell_type": "code",
   "execution_count": 19,
   "metadata": {
    "colab": {
     "base_uri": "https://localhost:8080/"
    },
    "executionInfo": {
     "elapsed": 351,
     "status": "ok",
     "timestamp": 1678257598274,
     "user": {
      "displayName": "Pengxia Wu",
      "userId": "06372533848067580748"
     },
     "user_tz": 480
    },
    "id": "rC6MAip62oSx",
    "outputId": "544c1c07-2e53-4356-b3cd-cf0cd6f20ed1"
   },
   "outputs": [
    {
     "name": "stdout",
     "output_type": "stream",
     "text": [
      "1/1 [==============================] - 0s 238ms/step\n"
     ]
    },
    {
     "data": {
      "text/plain": [
       "False"
      ]
     },
     "execution_count": 19,
     "metadata": {},
     "output_type": "execute_result"
    }
   ],
   "source": [
    "sms_test = ['This course is about deep learning']\n",
    "sms_seq = tokenizer.texts_to_sequences(sms_test)\n",
    "\n",
    "sms_pad = pad_sequences(sms_seq, maxlen=20, padding='post')\n",
    "tokenizer.index_word\n",
    "sms_pad\n",
    "predict_x=model.predict(sms_pad) \n",
    "predict_x\n",
    "classes_x = (predict_x[0, 0] > 0.5)\n",
    "classes_x"
   ]
  },
  {
   "cell_type": "markdown",
   "metadata": {
    "id": "Y-dVOWqm2oSx"
   },
   "source": [
    "... classified the text as no spam. Correct!"
   ]
  },
  {
   "cell_type": "code",
   "execution_count": null,
   "metadata": {
    "colab": {
     "base_uri": "https://localhost:8080/"
    },
    "executionInfo": {
     "elapsed": 207,
     "status": "ok",
     "timestamp": 1678257600588,
     "user": {
      "displayName": "Pengxia Wu",
      "userId": "06372533848067580748"
     },
     "user_tz": 480
    },
    "id": "uFU__yKI2oSx",
    "outputId": "920e4dcc-c035-45f5-fa19-0689a4736c13"
   },
   "outputs": [],
   "source": [
    "sms_test = ['Free service for everyone']\n",
    "sms_seq = tokenizer.texts_to_sequences(sms_test)\n",
    "\n",
    "sms_pad = pad_sequences(sms_seq, maxlen=20, padding='post')\n",
    "tokenizer.index_word\n",
    "sms_pad\n",
    "predict_x=model.predict(sms_pad) \n",
    "predict_x\n",
    "classes_x = (predict_x[0, 0] > 0.5)\n",
    "classes_x"
   ]
  },
  {
   "cell_type": "markdown",
   "metadata": {
    "id": "67WE-oX-2oSx"
   },
   "source": [
    "... classified the tet as spam. Correct again!"
   ]
  },
  {
   "cell_type": "code",
   "execution_count": null,
   "metadata": {
    "id": "H5fOhVIs2oSy"
   },
   "outputs": [],
   "source": []
  }
 ],
 "metadata": {
  "colab": {
   "provenance": []
  },
  "kernelspec": {
   "display_name": "tf",
   "language": "python",
   "name": "tf"
  },
  "language_info": {
   "codemirror_mode": {
    "name": "ipython",
    "version": 3
   },
   "file_extension": ".py",
   "mimetype": "text/x-python",
   "name": "python",
   "nbconvert_exporter": "python",
   "pygments_lexer": "ipython3",
   "version": "3.8.13"
  }
 },
 "nbformat": 4,
 "nbformat_minor": 1
}
