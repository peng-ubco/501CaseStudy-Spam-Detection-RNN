{
 "cells": [
  {
   "cell_type": "markdown",
   "metadata": {
    "id": "Caz3SftI2oSn"
   },
   "source": [
    "# Spam Detection with RNN\n",
    "This notebook was built for the course ENGR 501 -- *Deep learning and reinforcement learning for engineering*, as a sumplementary material of the RNN lectures, to show a Recurrent Neural Network (RNN) model can be used to distinguish spam from non-spam. The used dataset is the \"SMS Spam Collection\", which can be found at Kaggle under \"https://www.kaggle.com/ishansoni/sms-spam-collection-dataset\"."
   ]
  },
  {
   "cell_type": "markdown",
   "metadata": {
    "id": "1tMeImQQ2oSo"
   },
   "source": [
    "## Imports"
   ]
  },
  {
   "cell_type": "code",
   "execution_count": 1,
   "metadata": {
    "executionInfo": {
     "elapsed": 205,
     "status": "ok",
     "timestamp": 1678257375611,
     "user": {
      "displayName": "Pengxia Wu",
      "userId": "06372533848067580748"
     },
     "user_tz": 480
    },
    "id": "mRI5DglI2oSo"
   },
   "outputs": [
    {
     "name": "stderr",
     "output_type": "stream",
     "text": [
      "2023-03-07 22:44:38.244362: I tensorflow/core/util/util.cc:169] oneDNN custom operations are on. You may see slightly different numerical results due to floating-point round-off errors from different computation orders. To turn them off, set the environment variable `TF_ENABLE_ONEDNN_OPTS=0`.\n"
     ]
    }
   ],
   "source": [
    "import pandas as pd\n",
    "import numpy as np\n",
    "from sklearn.feature_extraction.text import CountVectorizer\n",
    "\n",
    "from keras.preprocessing.text import Tokenizer\n",
    "from tensorflow.keras.preprocessing.sequence import pad_sequences\n",
    "\n",
    "from keras.models import Sequential\n",
    "from keras.layers import Dense, SimpleRNN, LSTM, Embedding"
   ]
  },
  {
   "cell_type": "markdown",
   "metadata": {
    "id": "rsjD3S1y2oSq"
   },
   "source": [
    "## Read data"
   ]
  },
  {
   "cell_type": "code",
   "execution_count": 3,
   "metadata": {
    "colab": {
     "base_uri": "https://localhost:8080/",
     "height": 206
    },
    "executionInfo": {
     "elapsed": 186,
     "status": "ok",
     "timestamp": 1678257379789,
     "user": {
      "displayName": "Pengxia Wu",
      "userId": "06372533848067580748"
     },
     "user_tz": 480
    },
    "id": "CWXo3pr32oSq",
    "outputId": "83526fb1-d791-43ec-8edd-711a883ce057"
   },
   "outputs": [
    {
     "data": {
      "text/html": [
       "<div>\n",
       "<style scoped>\n",
       "    .dataframe tbody tr th:only-of-type {\n",
       "        vertical-align: middle;\n",
       "    }\n",
       "\n",
       "    .dataframe tbody tr th {\n",
       "        vertical-align: top;\n",
       "    }\n",
       "\n",
       "    .dataframe thead th {\n",
       "        text-align: right;\n",
       "    }\n",
       "</style>\n",
       "<table border=\"1\" class=\"dataframe\">\n",
       "  <thead>\n",
       "    <tr style=\"text-align: right;\">\n",
       "      <th></th>\n",
       "      <th>label</th>\n",
       "      <th>sms</th>\n",
       "    </tr>\n",
       "  </thead>\n",
       "  <tbody>\n",
       "    <tr>\n",
       "      <th>0</th>\n",
       "      <td>ham</td>\n",
       "      <td>Go until jurong point, crazy.. Available only ...</td>\n",
       "    </tr>\n",
       "    <tr>\n",
       "      <th>1</th>\n",
       "      <td>ham</td>\n",
       "      <td>Ok lar... Joking wif u oni...</td>\n",
       "    </tr>\n",
       "    <tr>\n",
       "      <th>2</th>\n",
       "      <td>spam</td>\n",
       "      <td>Free entry in 2 a wkly comp to win FA Cup fina...</td>\n",
       "    </tr>\n",
       "    <tr>\n",
       "      <th>3</th>\n",
       "      <td>ham</td>\n",
       "      <td>U dun say so early hor... U c already then say...</td>\n",
       "    </tr>\n",
       "    <tr>\n",
       "      <th>4</th>\n",
       "      <td>ham</td>\n",
       "      <td>Nah I don't think he goes to usf, he lives aro...</td>\n",
       "    </tr>\n",
       "  </tbody>\n",
       "</table>\n",
       "</div>"
      ],
      "text/plain": [
       "  label                                                sms\n",
       "0   ham  Go until jurong point, crazy.. Available only ...\n",
       "1   ham                      Ok lar... Joking wif u oni...\n",
       "2  spam  Free entry in 2 a wkly comp to win FA Cup fina...\n",
       "3   ham  U dun say so early hor... U c already then say...\n",
       "4   ham  Nah I don't think he goes to usf, he lives aro..."
      ]
     },
     "execution_count": 3,
     "metadata": {},
     "output_type": "execute_result"
    }
   ],
   "source": [
    "df = pd.read_csv('./spam.csv')\n",
    "df.head()"
   ]
  },
  {
   "cell_type": "markdown",
   "metadata": {
    "id": "AP8moXIo2oSr"
   },
   "source": [
    "## Create target-column\n",
    "Map text from label-column to integer (0/1) in new column"
   ]
  },
  {
   "cell_type": "code",
   "execution_count": 43,
   "metadata": {
    "executionInfo": {
     "elapsed": 312,
     "status": "ok",
     "timestamp": 1678257381761,
     "user": {
      "displayName": "Pengxia Wu",
      "userId": "06372533848067580748"
     },
     "user_tz": 480
    },
    "id": "gTjDwfxc2oSr"
   },
   "outputs": [],
   "source": [
    "df['target'] = df['label'].map( {'spam':1, 'ham':0 })"
   ]
  },
  {
   "cell_type": "markdown",
   "metadata": {
    "id": "dXv03gpZ2oSr"
   },
   "source": [
    "## Separate train- and test-data\n",
    "This time manually with df.sample"
   ]
  },
  {
   "cell_type": "code",
   "execution_count": 44,
   "metadata": {
    "colab": {
     "base_uri": "https://localhost:8080/"
    },
    "executionInfo": {
     "elapsed": 203,
     "status": "ok",
     "timestamp": 1678257383191,
     "user": {
      "displayName": "Pengxia Wu",
      "userId": "06372533848067580748"
     },
     "user_tz": 480
    },
    "id": "R74YVpOA2oSr",
    "outputId": "0468b905-c082-4865-fc2d-a86a6df32600"
   },
   "outputs": [
    {
     "name": "stdout",
     "output_type": "stream",
     "text": [
      "(4458, 3) (1114, 3)\n"
     ]
    }
   ],
   "source": [
    "## b) Trainings- und Testdaten separieren\n",
    "df_train = df.sample(frac=.8, random_state=11)\n",
    "df_test = df.drop(df_train.index)\n",
    "print(df_train.shape, df_test.shape)"
   ]
  },
  {
   "cell_type": "markdown",
   "metadata": {
    "id": "vPhgLzcb2oSs"
   },
   "source": [
    "## Create y-data for analysis"
   ]
  },
  {
   "cell_type": "code",
   "execution_count": 45,
   "metadata": {
    "colab": {
     "base_uri": "https://localhost:8080/"
    },
    "executionInfo": {
     "elapsed": 7,
     "status": "ok",
     "timestamp": 1678257385111,
     "user": {
      "displayName": "Pengxia Wu",
      "userId": "06372533848067580748"
     },
     "user_tz": 480
    },
    "id": "PUeCIQnJ2oSt",
    "outputId": "07206576-bad5-401c-fe88-e9ef02b10e0b"
   },
   "outputs": [
    {
     "data": {
      "text/plain": [
       "(1114,)"
      ]
     },
     "execution_count": 45,
     "metadata": {},
     "output_type": "execute_result"
    }
   ],
   "source": [
    "y_train = df_train['target'].values\n",
    "y_test = df_test['target'].values\n",
    "y_test.shape"
   ]
  },
  {
   "cell_type": "markdown",
   "metadata": {
    "id": "AX66l4QC2oSu"
   },
   "source": [
    "## Create x-data for analysis"
   ]
  },
  {
   "cell_type": "code",
   "execution_count": 46,
   "metadata": {
    "executionInfo": {
     "elapsed": 160,
     "status": "ok",
     "timestamp": 1678257387038,
     "user": {
      "displayName": "Pengxia Wu",
      "userId": "06372533848067580748"
     },
     "user_tz": 480
    },
    "id": "pyUcPqvl2oSu"
   },
   "outputs": [],
   "source": [
    "X_train = df_train['sms'].values\n",
    "X_test = df_test['sms'].values"
   ]
  },
  {
   "cell_type": "markdown",
   "metadata": {
    "id": "_ak_eMms2oSu"
   },
   "source": [
    "## Tokenize\n",
    "word_dict is a list, ordered by the most frequent words (they come first in the list)"
   ]
  },
  {
   "cell_type": "code",
   "execution_count": 47,
   "metadata": {
    "executionInfo": {
     "elapsed": 193,
     "status": "ok",
     "timestamp": 1678257388719,
     "user": {
      "displayName": "Pengxia Wu",
      "userId": "06372533848067580748"
     },
     "user_tz": 480
    },
    "id": "nQCN7kDm2oSu"
   },
   "outputs": [],
   "source": [
    "tokenizer = Tokenizer()\n",
    "tokenizer.fit_on_texts(X_train)\n",
    "word_dict = tokenizer.index_word\n",
    "#print(len(word_dict))\n",
    "#print(word_dict)\n",
    "\n",
    "#for key in word_dict.keys():\n",
    "#    print(key, word_dict[key])"
   ]
  },
  {
   "cell_type": "markdown",
   "metadata": {
    "id": "zm8NHyW52oSv"
   },
   "source": [
    "## Create sequences from sentences\n",
    "text_to_sequences puts the index-numbers from word_dict in the place of the words in the training- and test-data "
   ]
  },
  {
   "cell_type": "code",
   "execution_count": 48,
   "metadata": {
    "colab": {
     "base_uri": "https://localhost:8080/"
    },
    "executionInfo": {
     "elapsed": 160,
     "status": "ok",
     "timestamp": 1678257390927,
     "user": {
      "displayName": "Pengxia Wu",
      "userId": "06372533848067580748"
     },
     "user_tz": 480
    },
    "id": "CF6yAVJM2oSv",
    "outputId": "14c4cf85-393d-4297-e20c-fc62c8be91b2"
   },
   "outputs": [
    {
     "name": "stdout",
     "output_type": "stream",
     "text": [
      "[[172, 211, 12, 13, 87, 92, 45, 8, 32, 3799, 231, 9, 7, 86, 6, 81, 1020, 5, 3800, 7, 1999, 11, 635, 241, 21, 25, 436, 928, 1110, 178, 131, 206, 929, 2564, 23, 1, 154, 80, 2, 110, 82, 48, 2, 135, 11, 929, 227, 98, 1639], [257, 307, 2, 1426, 2565, 6, 33, 30, 1245, 1246, 15, 49, 5, 337, 709, 7, 1427, 1428, 581, 68, 34, 2000, 88, 2, 2001], [22, 636, 13, 283, 211, 7, 26, 3, 17, 94, 1429, 67], [13, 296, 2, 30, 18, 4, 2002, 1640, 491, 16, 22, 1247, 37, 930, 258, 183, 931, 671, 401, 349, 1111, 1112, 1113, 1114, 1021, 8, 4, 553, 360, 16], [99, 203, 166, 1, 184, 3, 117, 3801, 148, 2, 52, 48, 3802, 22]]\n",
      "label                                                   ham\n",
      "sms       Thanks again for your reply today. When is ur ...\n",
      "target                                                    0\n",
      "Name: 4460, dtype: object\n",
      "thanks again for your reply today when is ur visa coming in and r u still buying the gucci and bags my sister things are not easy uncle john also has his own bills so i really need to think about how to make my own money later sha "
     ]
    }
   ],
   "source": [
    "X_train_seq = tokenizer.texts_to_sequences(X_train)\n",
    "X_test_seq = tokenizer.texts_to_sequences(X_test)\n",
    "print(X_train_seq[:5])\n",
    "print(df_train.iloc[0,:])\n",
    "for el in X_train_seq[0]:\n",
    "    print(word_dict[el], end=' ')\n"
   ]
  },
  {
   "cell_type": "markdown",
   "metadata": {
    "id": "Q14ZDN_32oSv"
   },
   "source": [
    "## Create pads with fix length\n",
    "Maximum length is 20"
   ]
  },
  {
   "cell_type": "code",
   "execution_count": 49,
   "metadata": {
    "colab": {
     "base_uri": "https://localhost:8080/"
    },
    "executionInfo": {
     "elapsed": 208,
     "status": "ok",
     "timestamp": 1678257393636,
     "user": {
      "displayName": "Pengxia Wu",
      "userId": "06372533848067580748"
     },
     "user_tz": 480
    },
    "id": "3nP7CEuy2oSv",
    "outputId": "d466231e-d5f3-431f-c44a-e8d5420c3e0f"
   },
   "outputs": [
    {
     "data": {
      "text/plain": [
       "(4458, 20)"
      ]
     },
     "execution_count": 49,
     "metadata": {},
     "output_type": "execute_result"
    }
   ],
   "source": [
    "X_train_pad = pad_sequences(X_train_seq, maxlen=20, padding='post')\n",
    "X_test_pad = pad_sequences(X_test_seq, maxlen=20, padding='post')\n",
    "X_train_pad[:5]\n",
    "X_train_pad.shape"
   ]
  },
  {
   "cell_type": "markdown",
   "metadata": {
    "id": "SSpmgN6P2oSw"
   },
   "source": [
    "## Create Keras-model\n",
    "Of course a \"Long Short Term Memory\" (LSTM) is used"
   ]
  },
  {
   "cell_type": "code",
   "execution_count": 53,
   "metadata": {
    "colab": {
     "base_uri": "https://localhost:8080/"
    },
    "executionInfo": {
     "elapsed": 470,
     "status": "ok",
     "timestamp": 1678257538448,
     "user": {
      "displayName": "Pengxia Wu",
      "userId": "06372533848067580748"
     },
     "user_tz": 480
    },
    "id": "jYn1OImO2oSw",
    "outputId": "7a212d1a-2027-4c4c-b540-ed7c82a039d9"
   },
   "outputs": [
    {
     "name": "stdout",
     "output_type": "stream",
     "text": [
      "Model: \"sequential_3\"\n",
      "_________________________________________________________________\n",
      " Layer (type)                Output Shape              Param #   \n",
      "=================================================================\n",
      " embedding_3 (Embedding)     (None, 20, 20)            159660    \n",
      "                                                                 \n",
      " simple_rnn_2 (SimpleRNN)    (None, 400)               168400    \n",
      "                                                                 \n",
      " dense_2 (Dense)             (None, 1)                 401       \n",
      "                                                                 \n",
      "=================================================================\n",
      "Total params: 328,461\n",
      "Trainable params: 328,461\n",
      "Non-trainable params: 0\n",
      "_________________________________________________________________\n"
     ]
    }
   ],
   "source": [
    "laenge_pads = 20\n",
    "anz_woerter = 7982\n",
    "\n",
    "model = Sequential()\n",
    "model.add(Embedding(input_dim=anz_woerter+1, output_dim=20, input_length=laenge_pads))\n",
    "model.add(SimpleRNN(400))\n",
    "# model.add(LSTM(400))\n",
    "model.add(Dense(1, activation='sigmoid'))\n",
    "\n",
    "model.compile(loss='binary_crossentropy', optimizer='adam', metrics=['accuracy'])\n",
    "model.summary()"
   ]
  },
  {
   "cell_type": "markdown",
   "metadata": {
    "id": "FR-5Xjjp2oSw"
   },
   "source": [
    "## Train model"
   ]
  },
  {
   "cell_type": "code",
   "execution_count": 54,
   "metadata": {
    "colab": {
     "base_uri": "https://localhost:8080/"
    },
    "executionInfo": {
     "elapsed": 47365,
     "status": "ok",
     "timestamp": 1678257587894,
     "user": {
      "displayName": "Pengxia Wu",
      "userId": "06372533848067580748"
     },
     "user_tz": 480
    },
    "id": "UKq1_lFQ2oSw",
    "outputId": "55b343b9-b1b7-4574-a57b-1cec168ca93b"
   },
   "outputs": [
    {
     "name": "stdout",
     "output_type": "stream",
     "text": [
      "Epoch 1/10\n",
      "70/70 [==============================] - 8s 87ms/step - loss: 0.4319 - accuracy: 0.8611 - val_loss: 0.4055 - val_accuracy: 0.8645\n",
      "Epoch 2/10\n",
      "70/70 [==============================] - 4s 56ms/step - loss: 0.3818 - accuracy: 0.8663 - val_loss: 0.3495 - val_accuracy: 0.8645\n",
      "Epoch 3/10\n",
      "70/70 [==============================] - 4s 59ms/step - loss: 0.2478 - accuracy: 0.9076 - val_loss: 0.2290 - val_accuracy: 0.9291\n",
      "Epoch 4/10\n",
      "70/70 [==============================] - 5s 73ms/step - loss: 0.1656 - accuracy: 0.9520 - val_loss: 0.1326 - val_accuracy: 0.9578\n",
      "Epoch 5/10\n",
      "70/70 [==============================] - 5s 69ms/step - loss: 0.1185 - accuracy: 0.9681 - val_loss: 0.1230 - val_accuracy: 0.9632\n",
      "Epoch 6/10\n",
      "70/70 [==============================] - 4s 54ms/step - loss: 0.0702 - accuracy: 0.9782 - val_loss: 0.0850 - val_accuracy: 0.9695\n",
      "Epoch 7/10\n",
      "70/70 [==============================] - 4s 59ms/step - loss: 0.0685 - accuracy: 0.9760 - val_loss: 0.0738 - val_accuracy: 0.9749\n",
      "Epoch 8/10\n",
      "70/70 [==============================] - 6s 79ms/step - loss: 0.0499 - accuracy: 0.9832 - val_loss: 0.0749 - val_accuracy: 0.9749\n",
      "Epoch 9/10\n",
      "70/70 [==============================] - 4s 53ms/step - loss: 0.0637 - accuracy: 0.9805 - val_loss: 0.1261 - val_accuracy: 0.9515\n",
      "Epoch 10/10\n",
      "70/70 [==============================] - 4s 60ms/step - loss: 0.0512 - accuracy: 0.9861 - val_loss: 0.0896 - val_accuracy: 0.9677\n"
     ]
    }
   ],
   "source": [
    "history = model.fit(X_train_pad, y_train, epochs=10, batch_size=64, \n",
    "                        validation_data=(X_test_pad, y_test))"
   ]
  },
  {
   "cell_type": "markdown",
   "metadata": {
    "id": "NZxDRNiw2oSx"
   },
   "source": [
    "## Test-Estimation"
   ]
  },
  {
   "cell_type": "code",
   "execution_count": 55,
   "metadata": {
    "colab": {
     "base_uri": "https://localhost:8080/"
    },
    "executionInfo": {
     "elapsed": 351,
     "status": "ok",
     "timestamp": 1678257598274,
     "user": {
      "displayName": "Pengxia Wu",
      "userId": "06372533848067580748"
     },
     "user_tz": 480
    },
    "id": "rC6MAip62oSx",
    "outputId": "544c1c07-2e53-4356-b3cd-cf0cd6f20ed1"
   },
   "outputs": [
    {
     "name": "stdout",
     "output_type": "stream",
     "text": [
      "1/1 [==============================] - 0s 186ms/step\n"
     ]
    },
    {
     "data": {
      "text/plain": [
       "False"
      ]
     },
     "execution_count": 55,
     "metadata": {},
     "output_type": "execute_result"
    }
   ],
   "source": [
    "sms_test = ['Hi Paul, would you come around tonight']\n",
    "sms_seq = tokenizer.texts_to_sequences(sms_test)\n",
    "\n",
    "sms_pad = pad_sequences(sms_seq, maxlen=20, padding='post')\n",
    "tokenizer.index_word\n",
    "sms_pad\n",
    "predict_x=model.predict(sms_pad) \n",
    "predict_x\n",
    "classes_x = (predict_x[0, 0] > 0.5)\n",
    "classes_x"
   ]
  },
  {
   "cell_type": "markdown",
   "metadata": {
    "id": "Y-dVOWqm2oSx"
   },
   "source": [
    "... classified the text as no spam. Correct!"
   ]
  },
  {
   "cell_type": "code",
   "execution_count": 56,
   "metadata": {
    "colab": {
     "base_uri": "https://localhost:8080/"
    },
    "executionInfo": {
     "elapsed": 207,
     "status": "ok",
     "timestamp": 1678257600588,
     "user": {
      "displayName": "Pengxia Wu",
      "userId": "06372533848067580748"
     },
     "user_tz": 480
    },
    "id": "uFU__yKI2oSx",
    "outputId": "920e4dcc-c035-45f5-fa19-0689a4736c13"
   },
   "outputs": [
    {
     "name": "stdout",
     "output_type": "stream",
     "text": [
      "1/1 [==============================] - 0s 32ms/step\n"
     ]
    },
    {
     "data": {
      "text/plain": [
       "False"
      ]
     },
     "execution_count": 56,
     "metadata": {},
     "output_type": "execute_result"
    }
   ],
   "source": [
    "sms_test = ['Free SMS service for anyone']\n",
    "sms_seq = tokenizer.texts_to_sequences(sms_test)\n",
    "\n",
    "sms_pad = pad_sequences(sms_seq, maxlen=20, padding='post')\n",
    "tokenizer.index_word\n",
    "sms_pad\n",
    "predict_x=model.predict(sms_pad) \n",
    "predict_x\n",
    "classes_x = (predict_x[0, 0] > 0.5)\n",
    "classes_x"
   ]
  },
  {
   "cell_type": "markdown",
   "metadata": {
    "id": "67WE-oX-2oSx"
   },
   "source": [
    "... classified the tet as spam. Correct again!"
   ]
  },
  {
   "cell_type": "code",
   "execution_count": null,
   "metadata": {
    "id": "H5fOhVIs2oSy"
   },
   "outputs": [],
   "source": []
  }
 ],
 "metadata": {
  "colab": {
   "provenance": []
  },
  "kernelspec": {
   "display_name": "tf",
   "language": "python",
   "name": "tf"
  },
  "language_info": {
   "codemirror_mode": {
    "name": "ipython",
    "version": 3
   },
   "file_extension": ".py",
   "mimetype": "text/x-python",
   "name": "python",
   "nbconvert_exporter": "python",
   "pygments_lexer": "ipython3",
   "version": "3.8.13"
  }
 },
 "nbformat": 4,
 "nbformat_minor": 1
}
