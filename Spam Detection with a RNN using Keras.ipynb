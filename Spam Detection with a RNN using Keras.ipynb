{
 "cells": [
  {
   "cell_type": "markdown",
   "metadata": {
    "id": "Caz3SftI2oSn"
   },
   "source": [
    "# Spam Detection with RNN\n",
    "This notebook was built for the course ENGR 501 -- *Deep learning and reinforcement learning for engineering*, as a sumplementary material of the RNN lectures, to show a Recurrent Neural Network (RNN) model can be used to distinguish spam from non-spam. The used dataset is the \"SMS Spam Collection\", which can be found at Kaggle under \"https://www.kaggle.com/ishansoni/sms-spam-collection-dataset\"."
   ]
  },
  {
   "cell_type": "markdown",
   "metadata": {
    "id": "1tMeImQQ2oSo"
   },
   "source": [
    "## Imports"
   ]
  },
  {
   "cell_type": "code",
   "execution_count": 1,
   "metadata": {
    "executionInfo": {
     "elapsed": 205,
     "status": "ok",
     "timestamp": 1678257375611,
     "user": {
      "displayName": "Pengxia Wu",
      "userId": "06372533848067580748"
     },
     "user_tz": 480
    },
    "id": "mRI5DglI2oSo"
   },
   "outputs": [
    {
     "name": "stderr",
     "output_type": "stream",
     "text": [
      "2023-03-08 15:20:35.114469: I tensorflow/core/util/util.cc:169] oneDNN custom operations are on. You may see slightly different numerical results due to floating-point round-off errors from different computation orders. To turn them off, set the environment variable `TF_ENABLE_ONEDNN_OPTS=0`.\n"
     ]
    }
   ],
   "source": [
    "import pandas as pd\n",
    "import numpy as np\n",
    "\n",
    "from keras.preprocessing.text import Tokenizer\n",
    "from tensorflow.keras.preprocessing.sequence import pad_sequences\n",
    "\n",
    "from keras.models import Sequential\n",
    "from keras.layers import Dense, SimpleRNN, LSTM, Embedding"
   ]
  },
  {
   "cell_type": "markdown",
   "metadata": {
    "id": "rsjD3S1y2oSq"
   },
   "source": [
    "## Read data"
   ]
  },
  {
   "cell_type": "code",
   "execution_count": 2,
   "metadata": {
    "colab": {
     "base_uri": "https://localhost:8080/",
     "height": 206
    },
    "executionInfo": {
     "elapsed": 186,
     "status": "ok",
     "timestamp": 1678257379789,
     "user": {
      "displayName": "Pengxia Wu",
      "userId": "06372533848067580748"
     },
     "user_tz": 480
    },
    "id": "CWXo3pr32oSq",
    "outputId": "83526fb1-d791-43ec-8edd-711a883ce057"
   },
   "outputs": [
    {
     "data": {
      "text/html": [
       "<div>\n",
       "<style scoped>\n",
       "    .dataframe tbody tr th:only-of-type {\n",
       "        vertical-align: middle;\n",
       "    }\n",
       "\n",
       "    .dataframe tbody tr th {\n",
       "        vertical-align: top;\n",
       "    }\n",
       "\n",
       "    .dataframe thead th {\n",
       "        text-align: right;\n",
       "    }\n",
       "</style>\n",
       "<table border=\"1\" class=\"dataframe\">\n",
       "  <thead>\n",
       "    <tr style=\"text-align: right;\">\n",
       "      <th></th>\n",
       "      <th>label</th>\n",
       "      <th>sms</th>\n",
       "    </tr>\n",
       "  </thead>\n",
       "  <tbody>\n",
       "    <tr>\n",
       "      <th>0</th>\n",
       "      <td>ham</td>\n",
       "      <td>Go until jurong point, crazy.. Available only ...</td>\n",
       "    </tr>\n",
       "    <tr>\n",
       "      <th>1</th>\n",
       "      <td>ham</td>\n",
       "      <td>Ok lar... Joking wif u oni...</td>\n",
       "    </tr>\n",
       "    <tr>\n",
       "      <th>2</th>\n",
       "      <td>spam</td>\n",
       "      <td>Free entry in 2 a wkly comp to win FA Cup fina...</td>\n",
       "    </tr>\n",
       "    <tr>\n",
       "      <th>3</th>\n",
       "      <td>ham</td>\n",
       "      <td>U dun say so early hor... U c already then say...</td>\n",
       "    </tr>\n",
       "    <tr>\n",
       "      <th>4</th>\n",
       "      <td>ham</td>\n",
       "      <td>Nah I don't think he goes to usf, he lives aro...</td>\n",
       "    </tr>\n",
       "  </tbody>\n",
       "</table>\n",
       "</div>"
      ],
      "text/plain": [
       "  label                                                sms\n",
       "0   ham  Go until jurong point, crazy.. Available only ...\n",
       "1   ham                      Ok lar... Joking wif u oni...\n",
       "2  spam  Free entry in 2 a wkly comp to win FA Cup fina...\n",
       "3   ham  U dun say so early hor... U c already then say...\n",
       "4   ham  Nah I don't think he goes to usf, he lives aro..."
      ]
     },
     "execution_count": 2,
     "metadata": {},
     "output_type": "execute_result"
    }
   ],
   "source": [
    "df = pd.read_csv('./spam.csv')\n",
    "df.head()"
   ]
  },
  {
   "cell_type": "markdown",
   "metadata": {
    "id": "AP8moXIo2oSr"
   },
   "source": [
    "## Create target-column\n",
    "Map text from label-column to integer (0/1) in new column"
   ]
  },
  {
   "cell_type": "code",
   "execution_count": 3,
   "metadata": {
    "executionInfo": {
     "elapsed": 312,
     "status": "ok",
     "timestamp": 1678257381761,
     "user": {
      "displayName": "Pengxia Wu",
      "userId": "06372533848067580748"
     },
     "user_tz": 480
    },
    "id": "gTjDwfxc2oSr"
   },
   "outputs": [],
   "source": [
    "df['target'] = df['label'].map( {'spam':1, 'ham':0 })"
   ]
  },
  {
   "cell_type": "markdown",
   "metadata": {
    "id": "dXv03gpZ2oSr"
   },
   "source": [
    "## Separate training set and testing set"
   ]
  },
  {
   "cell_type": "code",
   "execution_count": 4,
   "metadata": {
    "colab": {
     "base_uri": "https://localhost:8080/"
    },
    "executionInfo": {
     "elapsed": 203,
     "status": "ok",
     "timestamp": 1678257383191,
     "user": {
      "displayName": "Pengxia Wu",
      "userId": "06372533848067580748"
     },
     "user_tz": 480
    },
    "id": "R74YVpOA2oSr",
    "outputId": "0468b905-c082-4865-fc2d-a86a6df32600"
   },
   "outputs": [
    {
     "name": "stdout",
     "output_type": "stream",
     "text": [
      "(4458, 3) (1114, 3)\n"
     ]
    }
   ],
   "source": [
    "df_train = df.sample(frac=.8, random_state=11)\n",
    "df_test = df.drop(df_train.index)\n",
    "print(df_train.shape, df_test.shape)"
   ]
  },
  {
   "cell_type": "markdown",
   "metadata": {
    "id": "vPhgLzcb2oSs"
   },
   "source": [
    "## Prepare y_train, y_test"
   ]
  },
  {
   "cell_type": "code",
   "execution_count": 5,
   "metadata": {
    "colab": {
     "base_uri": "https://localhost:8080/"
    },
    "executionInfo": {
     "elapsed": 7,
     "status": "ok",
     "timestamp": 1678257385111,
     "user": {
      "displayName": "Pengxia Wu",
      "userId": "06372533848067580748"
     },
     "user_tz": 480
    },
    "id": "PUeCIQnJ2oSt",
    "outputId": "07206576-bad5-401c-fe88-e9ef02b10e0b"
   },
   "outputs": [
    {
     "name": "stdout",
     "output_type": "stream",
     "text": [
      "(4458,) (1114,)\n"
     ]
    }
   ],
   "source": [
    "y_train = df_train['target'].values\n",
    "y_test = df_test['target'].values\n",
    "print(y_train.shape, y_test.shape)"
   ]
  },
  {
   "cell_type": "markdown",
   "metadata": {
    "id": "AX66l4QC2oSu"
   },
   "source": [
    "## Prepare X_train, X_test"
   ]
  },
  {
   "cell_type": "code",
   "execution_count": 6,
   "metadata": {
    "executionInfo": {
     "elapsed": 160,
     "status": "ok",
     "timestamp": 1678257387038,
     "user": {
      "displayName": "Pengxia Wu",
      "userId": "06372533848067580748"
     },
     "user_tz": 480
    },
    "id": "pyUcPqvl2oSu"
   },
   "outputs": [
    {
     "name": "stdout",
     "output_type": "stream",
     "text": [
      "(4458,) (1114,)\n",
      "Thanks again for your reply today. When is ur visa coming in. And r u still buying the gucci and bags. My sister things are not easy, uncle john also has his own bills so i really need to think about how to make my own money. Later sha.\n"
     ]
    }
   ],
   "source": [
    "X_train = df_train['sms'].values\n",
    "X_test = df_test['sms'].values\n",
    "print(X_train.shape, X_test.shape)\n",
    "print(X_train[0])"
   ]
  },
  {
   "cell_type": "markdown",
   "metadata": {
    "id": "_ak_eMms2oSu"
   },
   "source": [
    "## Tokenize\n",
    "Create a `word_dict`, which maps the words to indexes, within the items are ordered by the most frequent words (they come first in the list)"
   ]
  },
  {
   "cell_type": "code",
   "execution_count": 7,
   "metadata": {
    "executionInfo": {
     "elapsed": 193,
     "status": "ok",
     "timestamp": 1678257388719,
     "user": {
      "displayName": "Pengxia Wu",
      "userId": "06372533848067580748"
     },
     "user_tz": 480
    },
    "id": "nQCN7kDm2oSu"
   },
   "outputs": [
    {
     "name": "stdout",
     "output_type": "stream",
     "text": [
      "7982\n",
      "{'i': 1, 'to': 2, 'you': 3, 'a': 4, 'the': 5, 'u': 6, 'and': 7, 'is': 8, 'in': 9, 'me': 10, 'my': 11, 'for': 12, 'your': 13, 'it': 14, 'of': 15, 'call': 16, 'have': 17, 'on': 18, 'that': 19, '2': 20, 'are': 21, 'now': 22, 'so': 23, 'but': 24, 'not': 25, 'do': 26, 'at': 27, 'or': 28, 'can': 29, 'be': 30, \"i'm\": 31, 'ur': 32, 'will': 33, 'get': 34, 'if': 35, 'no': 36, 'just': 37, 'with': 38, 'this': 39, 'we': 40, '4': 41, 'gt': 42, 'lt': 43, 'up': 44, 'when': 45, 'ok': 46, 'from': 47, 'how': 48, 'all': 49, 'what': 50, 'free': 51, 'know': 52, 'out': 53, 'go': 54, 'good': 55, 'like': 56, 'then': 57, 'got': 58, 'come': 59, 'am': 60, 'was': 61, 'day': 62, 'only': 63, 'time': 64, 'love': 65, 'its': 66, 'there': 67, 'send': 68, 'he': 69, 'as': 70, 'want': 71, 'text': 72, 'one': 73, 'txt': 74, 'going': 75, 'by': 76, 'home': 77, 'sorry': 78, \"i'll\": 79, 'need': 80, 'still': 81, 'about': 82, 'lor': 83, 'back': 84, 'see': 85, 'r': 86, 'reply': 87, 'stop': 88, 'her': 89, 'da': 90, 'k': 91, 'today': 92, 'tell': 93, 'any': 94, 'mobile': 95, 'our': 96, 'n': 97, 'later': 98, 'she': 99, 'take': 100, 'please': 101, \"don't\": 102, 'pls': 103, 'hi': 104, 'dont': 105, 'new': 106, 'been': 107, 'phone': 108, 'hope': 109, 'think': 110, 'well': 111, 'they': 112, 'some': 113, 'here': 114, 'dear': 115, 'did': 116, 'an': 117, '1': 118, 'ì': 119, 'msg': 120, 'him': 121, 'week': 122, 'great': 123, 'who': 124, 'happy': 125, 'hey': 126, 'oh': 127, 'much': 128, 'night': 129, 'too': 130, 'has': 131, 'had': 132, 'claim': 133, 'where': 134, 'make': 135, \"it's\": 136, 'd': 137, 'work': 138, 'should': 139, 'way': 140, 'more': 141, 'number': 142, 'give': 143, 'e': 144, 'yes': 145, 'amp': 146, 'say': 147, 'message': 148, 'prize': 149, 'c': 150, 'already': 151, 'wat': 152, 'www': 153, 'really': 154, 'after': 155, 'right': 156, 'ask': 157, '3': 158, 'tomorrow': 159, 'yeah': 160, 'doing': 161, 'babe': 162, 'cash': 163, 'why': 164, 'said': 165, 'find': 166, 'miss': 167, 'let': 168, 'them': 169, 'meet': 170, 'b': 171, 'thanks': 172, 'would': 173, 'life': 174, 'morning': 175, 'anything': 176, '150p': 177, 'also': 178, 'care': 179, 'last': 180, 'contact': 181, 'cos': 182, 'min': 183, 'sent': 184, 'nokia': 185, 'pick': 186, 'im': 187, 'every': 188, 'win': 189, 'lol': 190, 'first': 191, 'urgent': 192, 'won': 193, 'very': 194, 'over': 195, 'sure': 196, 'us': 197, 't': 198, 'before': 199, 'com': 200, 'cant': 201, 'ya': 202, 's': 203, 'were': 204, \"i've\": 205, 'his': 206, 'nice': 207, 'something': 208, 'wait': 209, 'around': 210, 'again': 211, 'gonna': 212, 'customer': 213, 'keep': 214, \"can't\": 215, '5': 216, 'next': 217, 'off': 218, 'tone': 219, 'even': 220, '50': 221, 'soon': 222, 'could': 223, 'thing': 224, 'other': 225, 'someone': 226, 'money': 227, 'which': 228, 'sms': 229, 'place': 230, 'coming': 231, 'down': 232, 'many': 233, 'service': 234, 'uk': 235, 'chat': 236, 'feel': 237, 'buy': 238, 'wan': 239, 'x': 240, 'things': 241, 'waiting': 242, 'getting': 243, 'sleep': 244, 'went': 245, 'year': 246, 'told': 247, \"you're\": 248, 'late': 249, 'thk': 250, 'done': 251, 'tonight': 252, 'friends': 253, 'same': 254, 'v': 255, 'hello': 256, '18': 257, 'per': 258, 'gud': 259, 'haha': 260, \"that's\": 261, 'help': 262, 'use': 263, 'may': 264, 'always': 265, 'yet': 266, 'name': 267, 'holiday': 268, 'dun': 269, '16': 270, 'leave': 271, 'y': 272, 'mins': 273, 'thought': 274, 'ìï': 275, 'guaranteed': 276, 'try': 277, 'friend': 278, 'draw': 279, 'being': 280, '6': 281, 'heart': 282, 'house': 283, 'never': 284, 'people': 285, 'co': 286, 'smile': 287, 'cool': 288, 'man': 289, 'wish': 290, 'best': 291, 'meeting': 292, '7': 293, 'trying': 294, 'better': 295, 'chance': 296, 'lot': 297, 'stuff': 298, 'class': 299, \"didn't\": 300, 'live': 301, 'ah': 302, 'talk': 303, 'cs': 304, 'lunch': 305, 'line': 306, 'days': 307, 'thats': 308, 'mind': 309, 'å£1': 310, 'having': 311, 'liao': 312, 'ready': 313, 'few': 314, 'yup': 315, 'person': 316, 'enjoy': 317, 'fine': 318, 'eat': 319, 'special': 320, 'long': 321, 'quite': 322, 'half': 323, 'than': 324, 'job': 325, 'lar': 326, 'ill': 327, 'account': 328, 'car': 329, 'sir': 330, 'bit': 331, 'wk': 332, 'nothing': 333, 'shows': 334, '1st': 335, 'because': 336, 'latest': 337, '2nd': 338, 'finish': 339, 'receive': 340, 'guys': 341, 'might': 342, 'problem': 343, 'tv': 344, 'big': 345, 'watching': 346, 'check': 347, 'aight': 348, 'box': 349, 'world': 350, 'probably': 351, 'speak': 352, 'ringtone': 353, 'pa': 354, 'real': 355, 'yo': 356, 'god': 357, 'awarded': 358, 'birthday': 359, 'rate': 360, 'offer': 361, 'word': 362, 'start': 363, 'å£1000': 364, 'll': 365, 'cost': 366, 'month': 367, 'play': 368, 'two': 369, 'guess': 370, 'into': 371, 'reach': 372, '9': 373, 'xxx': 374, 'remember': 375, 'jus': 376, 'wanna': 377, 'leh': 378, 'working': 379, 'bt': 380, 'everything': 381, 'plan': 382, 'end': 383, 'minutes': 384, 'called': 385, 'enough': 386, 'luv': 387, 'face': 388, 'boy': 389, 'shall': 390, 'wont': 391, 'thank': 392, 'looking': 393, 'dad': 394, 'look': 395, 'sat': 396, 'bed': 397, 'does': 398, 'shopping': 399, 'm': 400, 'po': 401, 'shit': 402, 'ever': 403, 'missing': 404, 'girl': 405, '150ppm': 406, 'fun': 407, 'since': 408, 'hear': 409, 'dunno': 410, 'baby': 411, 'room': 412, 'actually': 413, 'kiss': 414, 'watch': 415, 'sweet': 416, 'without': 417, 'princess': 418, 'wot': 419, 'video': 420, 'price': 421, 'once': 422, 'didnt': 423, 'dinner': 424, 'attempt': 425, 'pay': 426, 'office': 427, 'camera': 428, 'another': 429, 'code': 430, 'bus': 431, 'dat': 432, 'while': 433, 'made': 434, 'early': 435, 'easy': 436, 'details': 437, 'landline': 438, 'den': 439, 'g': 440, 'selected': 441, 'hour': 442, 'forgot': 443, '8': 444, 'thanx': 445, 'put': 446, 'wif': 447, 'though': 448, 'apply': 449, 'until': 450, 'orange': 451, 'those': 452, 'dis': 453, 'between': 454, 'part': 455, '10': 456, 'okay': 457, 'town': 458, 'evening': 459, 'able': 460, 'tmr': 461, 'sexy': 462, 'texts': 463, \"how's\": 464, 'mail': 465, 'entry': 466, 'says': 467, '000': 468, 'weekend': 469, 'important': 470, 'school': 471, 'years': 472, 'abt': 473, 'asked': 474, 'plz': 475, 'most': 476, 'network': 477, 'words': 478, 'must': 479, 'wen': 480, 'afternoon': 481, 'weekly': 482, \"he's\": 483, 'little': 484, 'collection': 485, 'net': 486, 'worry': 487, 'xmas': 488, 'fuck': 489, 'maybe': 490, 'show': 491, 're': 492, 'award': 493, 'bring': 494, 'wife': 495, 'plus': 496, 'yesterday': 497, 'driving': 498, 'colour': 499, 'calls': 500, 'means': 501, 'havent': 502, 'shop': 503, '10p': 504, 'valid': 505, 'coz': 506, 'bad': 507, 'å£100': 508, 'true': 509, 'pain': 510, 'double': 511, 'times': 512, 'anyway': 513, 'stay': 514, 'sch': 515, 'order': 516, 'calling': 517, 'mob': 518, \"won't\": 519, 'ard': 520, 'collect': 521, 'family': 522, 'either': 523, 'chikku': 524, 'yours': 525, 'came': 526, 'wake': 527, 'missed': 528, 'alright': 529, 'hurt': 530, 'haf': 531, 'dude': 532, 'messages': 533, 'lei': 534, 'goes': 535, 'gift': 536, 'hair': 537, 'id': 538, 'makes': 539, 'music': 540, 'decimal': 541, 'saw': 542, 'tones': 543, 'game': 544, 'tried': 545, 'making': 546, 'nite': 547, 'noe': 548, 'ring': 549, 'online': 550, 'til': 551, 'guy': 552, 'national': 553, 'lose': 554, 'date': 555, 'food': 556, 'top': 557, 'saying': 558, 'bonus': 559, 'wanted': 560, 'aft': 561, 'trip': 562, 'juz': 563, 'hours': 564, 'hot': 565, 'angry': 566, 'wid': 567, 'eve': 568, 'feeling': 569, \"we're\": 570, 'left': 571, 'pm': 572, 'test': 573, 'question': 574, 'friendship': 575, 'book': 576, \"there's\": 577, 'else': 578, 'tot': 579, 'answer': 580, 'unsubscribe': 581, 'row': 582, 'movie': 583, 'final': 584, 'sae': 585, 'change': 586, 'yourself': 587, 'these': 588, 'update': 589, 'pic': 590, 'believe': 591, 'address': 592, 'taking': 593, 'comes': 594, 'happen': 595, 'full': 596, 'http': 597, 'sleeping': 598, \"haven't\": 599, 'å£5000': 600, '500': 601, \"she's\": 602, 'bored': 603, 'forget': 604, 'old': 605, 'simple': 606, 'pics': 607, 'delivery': 608, 'smoke': 609, 'close': 610, \"what's\": 611, 'run': 612, 'charge': 613, 'sad': 614, 'post': 615, 'drive': 616, 'ha': 617, 'join': 618, 'drink': 619, '08000930705': 620, 'goin': 621, '750': 622, 'å£2000': 623, 'await': 624, 'gd': 625, 'dreams': 626, 'busy': 627, '86688': 628, 'away': 629, 'brother': 630, 'de': 631, 'beautiful': 632, 'å£500': 633, '8007': 634, 'sister': 635, 'whats': 636, 'suite342': 637, '2lands': 638, 'choose': 639, 'gone': 640, 'each': 641, 'games': 642, 'neva': 643, 'tomo': 644, 'frnd': 645, 'open': 646, 'sis': 647, 'together': 648, 'available': 649, 'carlos': 650, 'knw': 651, 'camcorder': 652, 'okie': 653, 'rite': 654, 'land': 655, 'whatever': 656, 'wants': 657, 'finished': 658, 'hav': 659, 'todays': 660, 'oso': 661, 'found': 662, 'private': 663, 'points': 664, 'anytime': 665, 'pub': 666, 'services': 667, 'card': 668, 'both': 669, 'till': 670, 'ltd': 671, 'auction': 672, 'set': 673, 'prob': 674, 'decided': 675, 'fast': 676, 'msgs': 677, 'leaving': 678, 'head': 679, 'w': 680, 'f': 681, 'voucher': 682, 'walk': 683, 'type': 684, 'huh': 685, '100': 686, 'started': 687, 'awesome': 688, '12hrs': 689, 'used': 690, 'smiling': 691, 'cause': 692, 'thinking': 693, 'content': 694, 'mobileupd8': 695, 'bout': 696, 'email': 697, 'boytoy': 698, '\\x89û': 699, 'statement': 700, 'congrats': 701, 'anyone': 702, 'loving': 703, 'wit': 704, 'rs': 705, 'mean': 706, \"c's\": 707, 'lets': 708, 'news': 709, 'least': 710, 'story': 711, 'pobox': 712, 'tc': 713, 'club': 714, 'mates': 715, 'dating': 716, 'meant': 717, 'crazy': 718, 'lucky': 719, 'fri': 720, 'quiz': 721, 'opt': 722, 'caller': 723, 'vouchers': 724, 'ten': 725, 'tho': 726, 'telling': 727, 'lesson': 728, 'break': 729, 'txts': 730, 'second': 731, 'drop': 732, 'far': 733, 'sun': 734, 'expires': 735, 'pounds': 736, 'everyone': 737, 'course': 738, 'christmas': 739, 'xx': 740, 'wonderful': 741, 'wrong': 742, 'don': 743, 'minute': 744, 'happened': 745, \"''\": 746, 'alone': 747, \"doesn't\": 748, 'hit': 749, 'lots': 750, 'took': 751, 'needs': 752, 'girls': 753, 'talking': 754, 'whole': 755, 'dnt': 756, 'o': 757, 'cut': 758, 'å£250': 759, 'fr': 760, 'saturday': 761, '03': 762, 'mu': 763, 'gr8': 764, \"we'll\": 765, 'company': 766, 'nt': 767, 'touch': 768, 'friday': 769, 'phones': 770, '08000839402': 771, 'frm': 772, 'lovely': 773, 'balance': 774, 'chennai': 775, 'understand': 776, 'mum': 777, 'seeing': 778, \"you'll\": 779, 'identifier': 780, 'earlier': 781, 'project': 782, 'hard': 783, 'poly': 784, 'enter': 785, 'finally': 786, 'semester': 787, 'hand': 788, 'blue': 789, 'info': 790, '11': 791, 'college': 792, 'read': 793, 'takes': 794, 'hg': 795, 'oredi': 796, 'download': 797, 'yr': 798, 'frnds': 799, 'secret': 800, 'weeks': 801, 'yar': 802, 'mine': 803, 'freemsg': 804, 'bslvyl': 805, 'outside': 806, 'unlimited': 807, 'winner': 808, 'valued': 809, 'treat': 810, 'move': 811, 'b4': 812, 'comp': 813, 'mom': 814, 'tired': 815, 'å£2': 816, 'bath': 817, 'reason': 818, 'exam': 819, 'wil': 820, 'worth': 821, 'wana': 822, 'credit': 823, 'ago': 824, 'mrng': 825, 'fucking': 826, 'motorola': 827, 'grins': 828, 'charged': 829, 'fone': 830, 'rental': 831, 'sounds': 832, 'sunday': 833, 'lost': 834, 'difficult': 835, 'currently': 836, 'w1j6hl': 837, 'india': 838, 'hows': 839, 'fancy': 840, \"you've\": 841, 'st': 842, 'blood': 843, 'thinks': 844, 'wkly': 845, 'support': 846, 'sending': 847, 'sea': 848, 'search': 849, 'hee': 850, 'couple': 851, '2003': 852, 'bank': 853, 'un': 854, 'rest': 855, 'via': 856, 'hungry': 857, 'song': 858, 'å£3': 859, 'savamob': 860, 'offers': 861, 'through': 862, 'swing': 863, 'reading': 864, 'gas': 865, 'side': 866, 'kate': 867, 'kind': 868, 'ac': 869, 'sort': 870, \"isn't\": 871, 'ans': 872, 'lovable': 873, 'nope': 874, 'dream': 875, 'spend': 876, 'log': 877, 'gotta': 878, 'eh': 879, 'wap': 880, 'area': 881, \"wasn't\": 882, 'bcoz': 883, 'del': 884, 'empty': 885, 'call2optout': 886, 'march': 887, 'ends': 888, 'extra': 889, 'sound': 890, 'darlin': 891, 'gym': 892, 'asking': 893, 'crave': 894, 'information': 895, 'happiness': 896, 'smth': 897, 'knew': 898, '0800': 899, 'case': 900, 'safe': 901, 'listen': 902, 'point': 903, 'laptop': 904, 'welcome': 905, 'ass': 906, 'light': 907, 'abiola': 908, 'mah': 909, 'mayb': 910, '87066': 911, 'merry': 912, 'store': 913, 'whenever': 914, 'operator': 915, 'party': 916, 'hold': 917, 'player': 918, 'picking': 919, 'luck': 920, '800': 921, 'redeemed': 922, '04': 923, 'within': 924, 'ugh': 925, 'congratulations': 926, 'somebody': 927, 'uncle': 928, 'own': 929, '20p': 930, 'ntt': 931, 'reaching': 932, 'asap': 933, 'loved': 934, 'gal': 935, \"'\": 936, 'ni8': 937, 'rakhesh': 938, 'felt': 939, 'die': 940, 'doctor': 941, 'computer': 942, '20': 943, 'loads': 944, 'truth': 945, 'reward': 946, '12': 947, 'promise': 948, 'seriously': 949, 'deep': 950, 'poor': 951, 'askd': 952, 'their': 953, 'darren': 954, 'short': 955, 'jay': 956, 'press': 957, 'std': 958, 'checking': 959, 'hiya': 960, 'nobody': 961, \"i'd\": 962, 'confirm': 963, 'wow': 964, 'gave': 965, 'booked': 966, 'gn': 967, 'usf': 968, 'link': 969, 'invited': 970, '30': 971, 'laugh': 972, 'surprise': 973, 'forever': 974, 'th': 975, 'small': 976, 'cheap': 977, 'warm': 978, 'woke': 979, 'hmmm': 980, 'shower': 981, 'wonder': 982, 'paper': 983, 'ldn': 984, 'mate': 985, 'snow': 986, 'ldew': 987, 'fact': 988, 'clean': 989, 'age': 990, '\\x89ûò': 991, 'goodmorning': 992, 'knows': 993, 'slowly': 994, 'reveal': 995, 'father': 996, 'doesnt': 997, 'study': 998, 'txting': 999, 'custcare': 1000, 'red': 1001, 'slow': 1002, 'supposed': 1003, 'tonite': 1004, 'sick': 1005, 'park': 1006, 'immediately': 1007, 'nyt': 1008, 'pray': 1009, 'staying': 1010, 'complimentary': 1011, 'comuk': 1012, 'å£350': 1013, 'glad': 1014, 'ex': 1015, 'flag': 1016, 'wishing': 1017, 'na': 1018, 'cum': 1019, 'buying': 1020, '0870': 1021, 'plans': 1022, 'å£10': 1023, 'muz': 1024, 'thinkin': 1025, 'disturb': 1026, 'sex': 1027, 'rose': 1028, 'stupid': 1029, 'noon': 1030, 'add': 1031, 'fantastic': 1032, 'water': 1033, '11mths': 1034, 'direct': 1035, 'urself': 1036, 'wednesday': 1037, 'p': 1038, 'numbers': 1039, 'entered': 1040, 'etc': 1041, 'remove': 1042, 'goto': 1043, 'din': 1044, 'loan': 1045, 'less': 1046, 'self': 1047, 'starts': 1048, 'il': 1049, 'future': 1050, '02': 1051, 'unless': 1052, 'pound': 1053, 'using': 1054, 'valentine': 1055, 'ones': 1056, 'decide': 1057, 'street': 1058, 'others': 1059, 'eyes': 1060, 'bluetooth': 1061, 'fault': 1062, 'realy': 1063, 'reached': 1064, 'bathe': 1065, 'å£800': 1066, 'hmm': 1067, 'oops': 1068, 'usual': 1069, 'otherwise': 1070, 'seen': 1071, 'itself': 1072, 'aha': 1073, 'almost': 1074, 'mon': 1075, 'lessons': 1076, 'sitting': 1077, 'match': 1078, 'opinion': 1079, 'iam': 1080, '4u': 1081, 'rply': 1082, 'vl': 1083, 'ar': 1084, 'giving': 1085, 'admirer': 1086, 'em': 1087, 'getzed': 1088, 'wine': 1089, 'quick': 1090, 'police': 1091, 'worries': 1092, 'medical': 1093, 'sub': 1094, 'mr': 1095, 'sometimes': 1096, 'rcvd': 1097, 'ipod': 1098, 'convey': 1099, 'met': 1100, '2nite': 1101, 'questions': 1102, 'mm': 1103, 'joined': 1104, 'credits': 1105, 'ho': 1106, 'ts': 1107, 'starting': 1108, 'weekends': 1109, 'john': 1110, '1327': 1111, 'croydon': 1112, 'cr9': 1113, '5wb': 1114, 'walking': 1115, 'some1': 1116, 'ringtones': 1117, 'moral': 1118, 'loyalty': 1119, 'excellent': 1120, 'notice': 1121, 'å£200': 1122, 'sim': 1123, 'door': 1124, 'quality': 1125, 'however': 1126, 'parents': 1127, 'especially': 1128, 'round': 1129, 'completely': 1130, '50p': 1131, 'nah': 1132, 'user': 1133, 'honey': 1134, 'gay': 1135, '08712460324': 1136, 'å£900': 1137, 'anymore': 1138, 'registered': 1139, 'showing': 1140, 'mistake': 1141, 'login': 1142, 'sunshine': 1143, 'lazy': 1144, 'power': 1145, 'hop': 1146, 'tel': 1147, 'sky': 1148, 'weed': 1149, '06': 1150, 'worried': 1151, 'training': 1152, 'voice': 1153, 'funny': 1154, 'hospital': 1155, 'thru': 1156, 'sucks': 1157, 'gets': 1158, 'pretty': 1159, 'costa': 1160, 'sol': 1161, 'studying': 1162, 'pass': 1163, 'moment': 1164, 'sony': 1165, 'meh': 1166, 'tuesday': 1167, 'seems': 1168, 'loves': 1169, 'catch': 1170, 'mo': 1171, 'awaiting': 1172, 'heard': 1173, 'xy': 1174, 'january': 1175, 'sale': 1176, 'save': 1177, 'cup': 1178, 'lemme': 1179, 'mobiles': 1180, 'yep': 1181, \"you'd\": 1182, 'drugs': 1183, 'style': 1184, 'al': 1185, \"where's\": 1186, 'silent': 1187, 'yahoo': 1188, 'mode': 1189, 'mrt': 1190, 'wondering': 1191, 'cd': 1192, 'children': 1193, 'polys': 1194, 'accept': 1195, 'film': 1196, 'cuz': 1197, 'following': 1198, 'tickets': 1199, 'frens': 1200, 'forwarded': 1201, 'hoping': 1202, 'miracle': 1203, 'cute': 1204, 'specially': 1205, '7pm': 1206, 'no1': 1207, 'leaves': 1208, 'normal': 1209, 'rock': 1210, 'men': 1211, 'meaning': 1212, 'insurance': 1213, 'rain': 1214, 'comin': 1215, 'across': 1216, 'mother': 1217, 'wun': 1218, 'tampa': 1219, 'dogging': 1220, 'tuition': 1221, 'running': 1222, 'age16': 1223, 'daddy': 1224, '150': 1225, 'logo': 1226, 'cheers': 1227, 'complete': 1228, 'slave': 1229, 'boss': 1230, 'valentines': 1231, 'deal': 1232, 'menu': 1233, 'representative': 1234, 'malaria': 1235, 'hurry': 1236, 'bid': 1237, 'situation': 1238, 'england': 1239, 'copy': 1240, '10am': 1241, 'ave': 1242, 'somewhere': 1243, 'excuse': 1244, 'kept': 1245, 'informed': 1246, '08707509020': 1247, 'hell': 1248, 'txtauction': 1249, 'tenerife': 1250, 'moan': 1251, 'goodnight': 1252, 'rent': 1253, 'months': 1254, 'sell': 1255, 'pc': 1256, 'hai': 1257, 'shd': 1258, 'movies': 1259, 'personal': 1260, 'aiyah': 1261, 'write': 1262, 'lmao': 1263, 'inviting': 1264, '62468': 1265, 'sign': 1266, 'click': 1267, 'station': 1268, 'isnt': 1269, 'correct': 1270, 'fantasies': 1271, 'hotel': 1272, 'interested': 1273, \"u'll\": 1274, 'planned': 1275, 'yoga': 1276, 'wer': 1277, 'dey': 1278, 'longer': 1279, 'instead': 1280, 'envelope': 1281, 'figure': 1282, '8th': 1283, 'discount': 1284, '00': 1285, 'awake': 1286, \"u're\": 1287, 'yijue': 1288, 'return': 1289, 'space': 1290, 'bother': 1291, 'fb': 1292, '3030': 1293, 'nigeria': 1294, 'monday': 1295, 'arrange': 1296, 'kinda': 1297, '09050090044': 1298, 'toclaim': 1299, 'pobox334': 1300, 'stockport': 1301, 'sk38xh': 1302, 'costå£1': 1303, 'max10mins': 1304, 'train': 1305, 'appreciate': 1306, 'keeping': 1307, 'swt': 1308, 'library': 1309, 'hr': 1310, 'ge': 1311, \"u've\": 1312, 'earth': 1313, 'sofa': 1314, 'died': 1315, 'slept': 1316, 'cinema': 1317, 'don\\x89û÷t': 1318, 'process': 1319, 'password': 1320, 'mood': 1321, 'spent': 1322, 'loverboy': 1323, 'nights': 1324, 'coffee': 1325, 'shuhui': 1326, 'onto': 1327, 'maid': 1328, 'murderer': 1329, 'murdered': 1330, 'closed': 1331, 'including': 1332, 'happens': 1333, 'trouble': 1334, 'omg': 1335, 'page': 1336, 'orchard': 1337, 'weight': 1338, 'reference': 1339, 'depends': 1340, 'dog': 1341, 'maximize': 1342, 'forward': 1343, 'character': 1344, 'yrs': 1345, 'pix': 1346, 'role': 1347, 'lookin': 1348, 'charity': 1349, 'under': 1350, 'midnight': 1351, 'group': 1352, 'paid': 1353, 'lover': 1354, 'none': 1355, 'review': 1356, 'ish': 1357, 'nxt': 1358, 'plenty': 1359, 'fingers': 1360, 'model': 1361, 'holla': 1362, 'cell': 1363, 'bill': 1364, 'mark': 1365, \"they're\": 1366, '36504': 1367, 'bucks': 1368, '3g': 1369, 'damn': 1370, 'l8r': 1371, 'ended': 1372, 'idea': 1373, 'changed': 1374, 'feels': 1375, 'arrive': 1376, \"who's\": 1377, 'sunny': 1378, 'inc': 1379, \"wat's\": 1380, 'eg': 1381, '25p': 1382, 'doin': 1383, 'possible': 1384, 'amazing': 1385, 'law': 1386, 'tht': 1387, 'pizza': 1388, 'meds': 1389, 'sense': 1390, 'players': 1391, 'planning': 1392, 'omw': 1393, 'handset': 1394, 'ladies': 1395, 'stand': 1396, 'against': 1397, 'yay': 1398, '25': 1399, 'report': 1400, 'during': 1401, 'single': 1402, 'black': 1403, 'official': 1404, '08718720201': 1405, 'looks': 1406, '4th': 1407, 'callertune': 1408, 'become': 1409, 'cancel': 1410, 'facebook': 1411, 'rates': 1412, 'texting': 1413, 'tncs': 1414, 'high': 1415, 'expensive': 1416, 'bb': 1417, 'bak': 1418, 'cake': 1419, '2day': 1420, 'buzz': 1421, 'cover': 1422, 'visit': 1423, 'kano': 1424, 'matches': 1425, 'euro2004': 1426, 'results': 1427, 'daily': 1428, 'beer': 1429, '86021': 1430, 'energy': 1431, 'vote': 1432, 'contract': 1433, 'scream': 1434, 'paying': 1435, 'past': 1436, 'askin': 1437, 'ahead': 1438, \"b'day\": 1439, 'cry': 1440, 'december': 1441, 'checked': 1442, 'opportunity': 1443, 'serious': 1444, 'fixed': 1445, 'fall': 1446, 'bag': 1447, 'bye': 1448, 'boo': 1449, 'photo': 1450, 'list': 1451, 'waking': 1452, 'trust': 1453, 'cancer': 1454, 'receipt': 1455, 'childish': 1456, 'track': 1457, 'marriage': 1458, 'brand': 1459, 'yogasana': 1460, 'sit': 1461, 'aftr': 1462, 'plane': 1463, 'students': 1464, 'mid': 1465, 'fetch': 1466, 'alex': 1467, 'unsub': 1468, 'wats': 1469, '3510i': 1470, 'ate': 1471, 'campus': 1472, 'kallis': 1473, 'å£150': 1474, 'pobox84': 1475, 'naughty': 1476, 'cartoon': 1477, 'listening': 1478, 'definitely': 1479, 'kick': 1480, 'internet': 1481, 'o2': 1482, 'terms': 1483, 'alrite': 1484, 'aiyo': 1485, 'learn': 1486, 'smiles': 1487, 'surfing': 1488, 'num': 1489, 'respond': 1490, 'themob': 1491, 'sport': 1492, 'stylish': 1493, 'prabha': 1494, 'tariffs': 1495, 'selling': 1496, 'jst': 1497, 'sec': 1498, 'thurs': 1499, 'boring': 1500, 'naked': 1501, 'vikky': 1502, 'simply': 1503, 'xchat': 1504, 'bf': 1505, 'wiv': 1506, 'woman': 1507, 'tyler': 1508, 'stock': 1509, 'pete': 1510, 'dead': 1511, 'exactly': 1512, 'cine': 1513, 'announcement': 1514, 'freephone': 1515, 'urawinner': 1516, 'apartment': 1517, 'wed': 1518, 'cheaper': 1519, 'weather': 1520, 'cold': 1521, 'liked': 1522, 'hopefully': 1523, 'basically': 1524, 'umma': 1525, '2004': 1526, 'linerental': 1527, 'marry': 1528, 'rather': 1529, 'la': 1530, 'imma': 1531, 'asleep': 1532, 'relax': 1533, 'different': 1534, 'searching': 1535, 'ice': 1536, 'cc': 1537, 'j': 1538, 'yun': 1539, 'spl': 1540, 'hate': 1541, 'turns': 1542, 'random': 1543, 'raining': 1544, 'pilates': 1545, 'matter': 1546, 'due': 1547, '21': 1548, 'egg': 1549, 'eating': 1550, 'current': 1551, 'broke': 1552, 'pussy': 1553, 'zed': 1554, 'tat': 1555, 'looked': 1556, 'thnk': 1557, 'connection': 1558, 'recently': 1559, 'i\\x89û÷m': 1560, 'dvd': 1561, 'pleasure': 1562, 'pleased': 1563, 'izzit': 1564, 'joke': 1565, 'pobox36504w45wq': 1566, \"let's\": 1567, 'w45wq': 1568, 'norm150p': 1569, 'putting': 1570, 'relation': 1571, 'cal': 1572, 'advice': 1573, 'ip4': 1574, '5we': 1575, '530': 1576, 'fyi': 1577, 'tear': 1578, 'mp3': 1579, 'hl': 1580, 'feb': 1581, 'country': 1582, '82277': 1583, 'boston': 1584, 'allah': 1585, 'boys': 1586, 'rays': 1587, 'torch': 1588, 'fat': 1589, 'eerie': 1590, 'london': 1591, 'jordan': 1592, 'five': 1593, 'ages': 1594, 'dint': 1595, 'regards': 1596, 'flower': 1597, 'gee': 1598, 'bedroom': 1599, 'cafe': 1600, 'sing': 1601, 'inside': 1602, 'spree': 1603, \"t's\": 1604, 'inclusive': 1605, 'sup': 1606, 'ending': 1607, 'horrible': 1608, 'geeee': 1609, 'cds': 1610, 'request': 1611, 'brings': 1612, 'ahmad': 1613, 'local': 1614, 'worse': 1615, 'present': 1616, 'mad': 1617, 'pongal': 1618, 'eng': 1619, 'ticket': 1620, '3rd': 1621, 'nature': 1622, 'website': 1623, 'spook': 1624, 'advance': 1625, 'english': 1626, 'truly': 1627, 'hurts': 1628, 'myself': 1629, 'surely': 1630, 'replying': 1631, 'married': 1632, 'rooms': 1633, 'wishes': 1634, 'bold': 1635, 'lift': 1636, 'tells': 1637, 'share': 1638, 'sha': 1639, 'fantasy': 1640, '7250i': 1641, 'w1jhl': 1642, 'fix': 1643, 'teeth': 1644, 'faster': 1645, 'fighting': 1646, 'access': 1647, 'fullonsms': 1648, 'towards': 1649, 'replied': 1650, 'member': 1651, '81151': 1652, '4t': 1653, 'tcs': 1654, 'cw25wx': 1655, 'yan': 1656, 'jiu': 1657, 'subscriber': 1658, 'delivered': 1659, 'singles': 1660, 'flat': 1661, 'kids': 1662, 'colleagues': 1663, \"today's\": 1664, 'horny': 1665, 'package': 1666, 'url': 1667, 'yetunde': 1668, 'entitled': 1669, '08002986906': 1670, 'locations': 1671, 'porn': 1672, '24': 1673, 'hrs': 1674, 'result': 1675, 'issues': 1676, 'pin': 1677, 'italian': 1678, 'research': 1679, 'drug': 1680, '80062': 1681, 'joking': 1682, 'oni': 1683, 'cannot': 1684, 'bcums': 1685, 'affection': 1686, 'kettoda': 1687, 'manda': 1688, 'lead': 1689, '250': 1690, 'air': 1691, 'exciting': 1692, 'activities': 1693, 'whether': 1694, 'hip': 1695, 'kb': 1696, 'height': 1697, 'confidence': 1698, 'february': 1699, 'holding': 1700, 'activate': 1701, 'version': 1702, 'team': 1703, 'milk': 1704, '300': 1705, 'workin': 1706, 'bloomberg': 1707, 'derek': 1708, 'thangam': 1709, 'coins': 1710, '6hrs': 1711, 'willing': 1712, \"we've\": 1713, 'spoken': 1714, 'atm': 1715, 'timing': 1716, '85023': 1717, 'romantic': 1718, 'church': 1719, 'arcade': 1720, 'sam': 1721, 'masters': 1722, 'happening': 1723, 'arms': 1724, 'uni': 1725, 'ive': 1726, 'wanting': 1727, 'mite': 1728, 'chinese': 1729, 'darling': 1730, 'waste': 1731, 'sighs': 1732, 'usually': 1733, 'fifteen': 1734, 'appointment': 1735, 'babes': 1736, 'except': 1737, 'radio': 1738, \"'t\": 1739, 'sonyericsson': 1740, 'fool': 1741, 'losing': 1742, '60p': 1743, 'whom': 1744, 'returns': 1745, 'rd': 1746, 'eatin': 1747, 'wylie': 1748, 'taken': 1749, 'sugar': 1750, 'answers': 1751, 'flights': 1752, 'sometime': 1753, 'works': 1754, 'murder': 1755, 'acc': 1756, 'greet': 1757, 'bitch': 1758, 'public': 1759, 'govt': 1760, 'instituitions': 1761, 'quote': 1762, 'intelligent': 1763, 'ttyl': 1764, 'rush': 1765, 'seemed': 1766, 'regret': 1767, 'ma': 1768, 'costs': 1769, 'assume': 1770, 'common': 1771, 'freak': 1772, 'hostel': 1773, 'gals': 1774, 'imagine': 1775, 'note': 1776, 'cream': 1777, 'unique': 1778, 'jada': 1779, 'kusruthi': 1780, 'matured': 1781, 'msgrcvdhg': 1782, 'posted': 1783, 'dollars': 1784, 'gives': 1785, 'expect': 1786, 'holder': 1787, 'airport': 1788, 'urgnt': 1789, 'aint': 1790, 'tea': 1791, \"mom's\": 1792, 'practice': 1793, 'kisses': 1794, 'songs': 1795, 'pictures': 1796, 'enjoyed': 1797, 'pack': 1798, 'thts': 1799, 'rem': 1800, 'needed': 1801, 'file': 1802, 'teach': 1803, \"did't\": 1804, 'fight': 1805, 'sura': 1806, 'infernal': 1807, 'exact': 1808, 'comedy': 1809, 'bowl': 1810, 'frndship': 1811, 'dropped': 1812, 'lady': 1813, 'social': 1814, 'jesus': 1815, 'moon': 1816, 'six': 1817, '08712405020': 1818, 'videophones': 1819, 'videochat': 1820, 'java': 1821, 'dload': 1822, 'noline': 1823, 'rentl': 1824, 'bx420': 1825, \"'ll\": 1826, 'living': 1827, 'wtf': 1828, 'site': 1829, 'budget': 1830, 'cha': 1831, 'q': 1832, 'sp': 1833, 'experience': 1834, 'nyc': 1835, 'legal': 1836, 'ref': 1837, 'å£4': 1838, 'bay': 1839, \"joy's\": 1840, 'evng': 1841, 'green': 1842, 'tkts': 1843, 'guide': 1844, 'brought': 1845, 'stopped': 1846, 'smart': 1847, 'optout': 1848, 'pod': 1849, '80488': 1850, 'gettin': 1851, 'sen': 1852, 'released': 1853, 'thursday': 1854, 'hunny': 1855, 'adult': 1856, 'choice': 1857, 'closer': 1858, 'lik': 1859, 'er': 1860, 'uncles': 1861, 'atlanta': 1862, '1x150p': 1863, 'unable': 1864, '434': 1865, 'ppm': 1866, '4get': 1867, '05': 1868, '3qxj9': 1869, '08702840625': 1870, '9ae': 1871, 'charges': 1872, 'along': 1873, 'befor': 1874, 'thatåõs': 1875, 'iz': 1876, 'unsold': 1877, 'barely': 1878, 'si': 1879, 'places': 1880, 'afraid': 1881, 'picked': 1882, 'indian': 1883, 'system': 1884, 'understanding': 1885, 'begin': 1886, 'south': 1887, 'qatar': 1888, \"hasn't\": 1889, 'loss': 1890, 'vomit': 1891, 'laid': 1892, \"uk's\": 1893, 'wet': 1894, 'nvm': 1895, 'action': 1896, 'step': 1897, 'shortly': 1898, 'amount': 1899, 'moms': 1900, 'strong': 1901, 'city': 1902, 'ignore': 1903, 'bahamas': 1904, 'buns': 1905, 'yer': 1906, '84199': 1907, 'box39822': 1908, 'w111wx': 1909, '83600': 1910, 'wonders': 1911, '7th': 1912, '6th': 1913, '5th': 1914, 'personality': 1915, 'salary': 1916, 'upto': 1917, 'obviously': 1918, 'jess': 1919, 'settled': 1920, 'june': 1921, 'problems': 1922, '40gb': 1923, '08712300220': 1924, 'standard': 1925, 'app': 1926, 'roger': 1927, 'com1win150ppmx3age16': 1928, 'vary': 1929, 'santa': 1930, 'idiot': 1931, 'diet': 1932, 'hook': 1933, 'textpod': 1934, 'heavy': 1935, 'nimya': 1936, 'bloody': 1937, 'ym': 1938, 'ntwk': 1939, '08001950382': 1940, 'contacted': 1941, 'belly': 1942, 'remind': 1943, 'sed': 1944, 'giv': 1945, \"wouldn't\": 1946, 'followed': 1947, 'yuo': 1948, 'tihs': 1949, '9pm': 1950, \"aren't\": 1951, 'idk': 1952, 'howz': 1953, 'screaming': 1954, 'persons': 1955, 'near': 1956, 'receiving': 1957, 'fa': 1958, '87121': 1959, 'straight': 1960, 'transaction': 1961, '440': 1962, 'surprised': 1963, 'bought': 1964, 'subscription': 1965, 'battery': 1966, 'mths': 1967, 'doc': 1968, 'shirt': 1969, 'hw': 1970, 'å£400': 1971, 'inches': 1972, 'clock': 1973, 'deleted': 1974, 'spending': 1975, 'teaches': 1976, 'easier': 1977, 'biz': 1978, 'aathi': 1979, 'queen': 1980, 'upset': 1981, \"couldn't\": 1982, 'btw': 1983, 'wnt': 1984, 'quit': 1985, 'careful': 1986, 'sooner': 1987, 'theatre': 1988, 'gm': 1989, 'hmv': 1990, 'laughing': 1991, 'respect': 1992, 'pg': 1993, 'addicted': 1994, 'lecture': 1995, 'grl': 1996, 'april': 1997, '2optout': 1998, 'bags': 1999, 'euro': 2000, '83222': 2001, 'reality': 2002, 'ì©': 2003, '900': 2004, 'super': 2005, 'fightng': 2006, 'dificult': 2007, '1000s': 2008, '80082': 2009, 'sender': 2010, 'ran': 2011, 'saved': 2012, 'boost': 2013, 'dave': 2014, '5000': 2015, 'dearly': 2016, 'aiyar': 2017, 'netcollex': 2018, 'pie': 2019, 'tease': 2020, 'armand': 2021, 'dare': 2022, 'received': 2023, 'various': 2024, 'garage': 2025, 'centre': 2026, 'ordered': 2027, 'hardcore': 2028, 'birla': 2029, 'soft': 2030, 'argument': 2031, 'display': 2032, 'upload': 2033, 'hahaha': 2034, 'brain': 2035, 'market': 2036, '84025': 2037, 'snake': 2038, 'bite': 2039, 'takin': 2040, 'philosophy': 2041, 'machan': 2042, 'alive': 2043, 'football': 2044, 'jazz': 2045, 'exe': 2046, 'teacher': 2047, 'moji': 2048, 'greetings': 2049, 'se': 2050, 'shoot': 2051, 'falls': 2052, 'booking': 2053, 'hols': 2054, 'med': 2055, 'drinks': 2056, 'register': 2057, 'score': 2058, 'vodka': 2059, 'deliveredtomorrow': 2060, 'wkend': 2061, 'journey': 2062, 'center': 2063, 'box97n7qp': 2064, 'anyways': 2065, 'chechi': 2066, 'bat': 2067, 'innings': 2068, 'm263uz': 2069, 'subs': 2070, 'regular': 2071, 'ful': 2072, 'shy': 2073, 'irritating': 2074, 'temple': 2075, 'tomarrow': 2076, 'drivin': 2077, 'tt': 2078, 'dai': 2079, '0': 2080, 'fathima': 2081, 'mnth': 2082, 'cook': 2083, 'profit': 2084, 'cardiff': 2085, '2go': 2086, 'lounge': 2087, 'twelve': 2088, 'pissed': 2089, \"week's\": 2090, 'tb': 2091, 'mmm': 2092, 'yummy': 2093, 'texted': 2094, 'period': 2095, 'xuhui': 2096, 'shesil': 2097, 'wisdom': 2098, 'alwys': 2099, 'newest': 2100, 'selection': 2101, 'fit': 2102, 'soryda': 2103, 'sory': 2104, 'meal': 2105, '2stoptxt': 2106, 'regarding': 2107, 'intro': 2108, 'valid12hrs': 2109, 'booty': 2110, 'bin': 2111, '1000': 2112, 'fuckin': 2113, 'nat': 2114, '150pm': 2115, 'likely': 2116, 'google': 2117, 'teasing': 2118, 'downloads': 2119, 'okey': 2120, 'tour': 2121, 'sheets': 2122, 'dubsack': 2123, 'picture': 2124, 'ache': 2125, 'yeh': 2126, 'indians': 2127, 'spk': 2128, '4mths': 2129, 'mobilesdirect': 2130, '08000938767': 2131, 'or2stoptxt': 2132, '542': 2133, 'buff': 2134, 'hint': 2135, 'ron': 2136, 'roommates': 2137, 'cleaning': 2138, 'certainly': 2139, 'cat': 2140, 'male': 2141, '5p': 2142, 'ic': 2143, 'doors': 2144, 'contents': 2145, 'stress': 2146, '3d': 2147, \"blake's\": 2148, 'realized': 2149, 'embarassed': 2150, 'slap': 2151, 'speed': 2152, 'pink': 2153, 'purpose': 2154, 'å£75': 2155, 'homeowners': 2156, 'tenants': 2157, 'previously': 2158, 'refused': 2159, '1956669': 2160, \"'help'\": 2161, 'haiz': 2162, 'madam': 2163, 'kerala': 2164, 'deliver': 2165, 'tick': 2166, 'doggy': 2167, 'business': 2168, 'morn': 2169, 'likes': 2170, 'dislikes': 2171, 'popped': 2172, 'stomach': 2173, 'walmart': 2174, 'messenger': 2175, 'playing': 2176, 'ad': 2177, '2mrw': 2178, 'california': 2179, 'frying': 2180, 'university': 2181, 'standing': 2182, 'escape': 2183, 'files': 2184, 'skype': 2185, 'floor': 2186, 'provided': 2187, '9ja': 2188, 'verify': 2189, 'outstanding': 2190, 'august': 2191, 'belovd': 2192, 'enemy': 2193, 'toa': 2194, 'payoh': 2195, 'thanksgiving': 2196, 'credited': 2197, 'photos': 2198, 'discuss': 2199, \"ain't\": 2200, 'yor': 2201, 'fill': 2202, 'vijay': 2203, 'suite': 2204, 'directly': 2205, 'abi': 2206, 'schedule': 2207, 'smokes': 2208, 'that\\x89û÷s': 2209, 'death': 2210, 'advise': 2211, 'recent': 2212, 'å£1500': 2213, 'affairs': 2214, 'gap': 2215, 'happend': 2216, 'twice': 2217, 'addie': 2218, 'art': 2219, 'stranger': 2220, 'nan': 2221, 'body': 2222, 'season': 2223, 'among': 2224, 'headache': 2225, 'keys': 2226, 'appt': 2227, 'suggest': 2228, 'lotr': 2229, 'totally': 2230, 'oic': 2231, 'textcomp': 2232, 'recd': 2233, 'cust': 2234, 'basic': 2235, 'beyond': 2236, 'switch': 2237, 'csbcm4235wc1n3xx': 2238, 'maxå£7': 2239, 'peace': 2240, 'weird': 2241, 'bein': 2242, 'diff': 2243, 'travel': 2244, 'subscribed': 2245, '84128': 2246, 'tis': 2247, '09063458130': 2248, 'polyph': 2249, 'accordingly': 2250, '87575': 2251, 'txtin': 2252, '4info': 2253, \"jay's\": 2254, 'invite': 2255, 'gary': 2256, 'meetin': 2257, 'buzy': 2258, 'valuable': 2259, 'carry': 2260, 'apparently': 2261, '2000': 2262, 'essential': 2263, 'argh': 2264, 'insha': 2265, '09': 2266, 'fren': 2267, 'confirmed': 2268, 'solve': 2269, 'arrested': 2270, 'brilliant': 2271, 'oz': 2272, 'upgrade': 2273, '0207': 2274, 'vry': 2275, 'express': 2276, 'books': 2277, 'bishan': 2278, '87131': 2279, '0845': 2280, \"she'll\": 2281, \"'til\": 2282, 'wedding': 2283, '08718727870': 2284, 'road': 2285, 'chicken': 2286, 'interesting': 2287, 'saucy': 2288, 'celeb': 2289, 'pocketbabe': 2290, 'postcode': 2291, 'decision': 2292, 'm26': 2293, '3uz': 2294, 'flirt': 2295, 'uks': 2296, 'it\\x89û÷s': 2297, '80182': 2298, '08452810073': 2299, 'letters': 2300, 'painful': 2301, 'incident': 2302, '2005': 2303, 'eaten': 2304, 'term': 2305, 'minmobsmorelkpobox177hp51fl': 2306, 'roast': 2307, 'option': 2308, 'dot': 2309, 'cruise': 2310, 'chillin': 2311, 'ubi': 2312, 'throat': 2313, 'foreign': 2314, 'stamps': 2315, '18yrs': 2316, \"dsn't\": 2317, '15': 2318, 'wah': 2319, 'def': 2320, 'conditions': 2321, 'ru': 2322, 'considering': 2323, 'potential': 2324, 'drunk': 2325, '80878': 2326, '08715705022': 2327, 'response': 2328, 'aiya': 2329, 'i\\x89û÷ll': 2330, 'sorting': 2331, 'names': 2332, '87077': 2333, '220': 2334, 'cm2': 2335, 'transfered': 2336, 'bathing': 2337, 'senthil': 2338, 'nw': 2339, 'jan': 2340, 'networks': 2341, 'whenevr': 2342, 'birth': 2343, 'realize': 2344, 'proof': 2345, \"shouldn't\": 2346, 'supply': 2347, 'str': 2348, 'lifetime': 2349, 'wc1n3xx': 2350, 'roads': 2351, 'citizen': 2352, 'fave': 2353, 'white': 2354, 'changes': 2355, 'impossible': 2356, 'eight': 2357, 'rude': 2358, 'audition': 2359, 'remembered': 2360, 'inform': 2361, 'born': 2362, 'fancies': 2363, 'gently': 2364, 'bloo': 2365, 'ese': 2366, 'handle': 2367, 'temp': 2368, 'bright': 2369, 'birds': 2370, 'largest': 2371, 'ec2a': 2372, 'guilty': 2373, '0871': 2374, 'box95qu': 2375, 'wud': 2376, 'wear': 2377, 'tm': 2378, 'swimming': 2379, 'kadeem': 2380, 'fair': 2381, '88039': 2382, 'skilgme': 2383, 'shorter': 2384, 'wherever': 2385, 'failed': 2386, 'billed': 2387, 'partner': 2388, 'gbp': 2389, '3mins': 2390, 'halloween': 2391, 'mas': 2392, 'interview': 2393, '87021': 2394, 'callers': 2395, 'scared': 2396, 'include': 2397, 'often': 2398, 'xavier': 2399, '83355': 2400, 'bugis': 2401, 'voda': 2402, 'quoting': 2403, 'competition': 2404, 'caring': 2405, 'lect': 2406, 'chosen': 2407, 'nap': 2408, 'husband': 2409, 'successfully': 2410, 'erm': 2411, 'passed': 2412, 'accidentally': 2413, 'donåõt': 2414, 'created': 2415, 'fills': 2416, 'cbe': 2417, 'sore': 2418, 'cornwall': 2419, 'iåõm': 2420, 'seconds': 2421, 'passionate': 2422, 'boye': 2423, 'career': 2424, 'goal': 2425, 'arsenal': 2426, 'shot': 2427, 'tessy': 2428, 'favor': 2429, 'shijas': 2430, 'gautham': 2431, 'female': 2432, 'ride': 2433, 'spanish': 2434, 'somethin': 2435, 'total': 2436, 'moved': 2437, 'in2': 2438, 'joy': 2439, 'cross': 2440, 'morphine': 2441, 'bro': 2442, 'taunton': 2443, 'explain': 2444, 'bringing': 2445, 'seem': 2446, 'hanging': 2447, 'storming': 2448, 'phne': 2449, 'wt': 2450, 'margaret': 2451, 'girlfrnd': 2452, 'grahmbell': 2453, 'invnted': 2454, 'telphone': 2455, 'miles': 2456, 'cock': 2457, 'cleared': 2458, 'grand': 2459, 'pple': 2460, 'pending': 2461, 'transfer': 2462, 'three': 2463, 'anti': 2464, 'stops': 2465, 'wins': 2466, '21st': 2467, '89555': 2468, 'textoperator': 2469, 'ummmmmaah': 2470, 'distance': 2471, 'pieces': 2472, 'prepare': 2473, 'dark': 2474, 'moby': 2475, 'dick': 2476, 'itz': 2477, 'catching': 2478, 'eggs': 2479, 'software': 2480, 'roommate': 2481, 'management': 2482, 'caught': 2483, 'issue': 2484, 'lab': 2485, 'gudnite': 2486, 'dry': 2487, 'fell': 2488, 'anywhere': 2489, 'walls': 2490, 'callså£1': 2491, 'sipix': 2492, 'digital': 2493, 'vodafone': 2494, 'executive': 2495, 'reasons': 2496, 'successful': 2497, 'celebrate': 2498, 'reminder': 2499, 'lonely': 2500, 'fever': 2501, \"he'll\": 2502, 'alert': 2503, 'series': 2504, 'concert': 2505, 'key': 2506, 'medicine': 2507, 'esplanade': 2508, 'waitin': 2509, 'returned': 2510, 'generally': 2511, 'norm': 2512, 'letter': 2513, 'dictionary': 2514, '28': 2515, 've': 2516, 'raise': 2517, \"''ok''\": 2518, 'minuts': 2519, 'latr': 2520, 'bigger': 2521, 'seven': 2522, '29': 2523, 'asks': 2524, '09066362231': 2525, 'claire': 2526, 'revealed': 2527, 'remains': 2528, 'k52': 2529, 'jamster': 2530, 'technical': 2531, 'petrol': 2532, 'missin': 2533, 'blow': 2534, 'science': 2535, 'msging': 2536, 'sports': 2537, 'challenge': 2538, 'supervisor': 2539, 'hug': 2540, 'tape': 2541, 'abta': 2542, 'perfect': 2543, 'spoke': 2544, '87239': 2545, 'ringtoneking': 2546, 'lines': 2547, 'ure': 2548, 'ben': 2549, 'added': 2550, 'collected': 2551, 'apologise': 2552, 'cabin': 2553, 'cam': 2554, 'leona': 2555, 'tom': 2556, 'speechless': 2557, 'winning': 2558, 'crab': 2559, 'footprints': 2560, 'tirupur': 2561, 'record': 2562, 'women': 2563, 'bills': 2564, 'kickoff': 2565, 'bedrm': 2566, 'behind': 2567, 'åð': 2568, 'selfish': 2569, 'shame': 2570, 'blame': 2571, 'yunny': 2572, 'replacement': 2573, 'favourite': 2574, 'thm': 2575, 'wn': 2576, 'cn': 2577, 'instantly': 2578, 'drinking': 2579, 'hv': 2580, 'nokia6650': 2581, 'ctxt': 2582, 'mtmsg': 2583, 'prem': 2584, '09061743806': 2585, 'box326': 2586, '88600': 2587, 'chart': 2588, \"did'nt\": 2589, '08700621170150p': 2590, 'american': 2591, 'singing': 2592, 'grave': 2593, 'desperate': 2594, 'pages': 2595, 'figures': 2596, 'thot': 2597, 'tok': 2598, 'superb': 2599, 'ph': 2600, 'exhaust': 2601, 'chatting': 2602, 'jacket': 2603, 'discreet': 2604, 'vip': 2605, 'mini': 2606, 'staff': 2607, 'divorce': 2608, 'ganesh': 2609, 'dress': 2610, 'appreciated': 2611, 'map': 2612, 'apart': 2613, '165': 2614, 'noun': 2615, '08718730666': 2616, 'goodo': 2617, 'reverse': 2618, 'cheating': 2619, 'mathematics': 2620, 'receivea': 2621, '09061701461': 2622, 'kl341': 2623, 'mmmmm': 2624, 'creepy': 2625, 'bet': 2626, 'everywhere': 2627, 'cousin': 2628, 'partnership': 2629, 'printed': 2630, 'upstairs': 2631, 'shore': 2632, 'breathe': 2633, 'karaoke': 2634, 'aeronautics': 2635, 'professors': 2636, 'calld': 2637, 'aeroplane': 2638, 'ws': 2639, 'hurried': 2640, 'dollar': 2641, 'lives': 2642, 'trade': 2643, 'consider': 2644, 'bruce': 2645, 'scold': 2646, 'yest': 2647, 'docs': 2648, 'china': 2649, 'transport': 2650, 'bday': 2651, 'definite': 2652, 'nos': 2653, 'stamped': 2654, '113': 2655, 'bray': 2656, 'wicklow': 2657, 'eire': 2658, 'gamestar': 2659, 'active': 2660, 'å£250k': 2661, 'scoring': 2662, '88088': 2663, 'sac': 2664, 'hundred': 2665, 'slice': 2666, 'terrible': 2667, 'huge': 2668, '447797706009': 2669, 'careers': 2670, 'taylor': 2671, 'worst': 2672, 'reckon': 2673, 'requests': 2674, 'nitros': 2675, 'moves': 2676, 'speaking': 2677, 'expression': 2678, 'bird': 2679, 'billion': 2680, 'shoppin': 2681, 'quickly': 2682, 'excuses': 2683, 'di': 2684, 'costing': 2685, 'settings': 2686, '08712101358': 2687, 'nic': 2688, 'tons': 2689, '09061790121': 2690, '4eva': 2691, 'event': 2692, 'difference': 2693, 'piss': 2694, 'remain': 2695, 'rcv': 2696, 'sleepin': 2697, 'tension': 2698, 'innocent': 2699, 'suzy': 2700, 'nydc': 2701, 'oil': 2702, \"when's\": 2703, 'hill': 2704, 'sleepwell': 2705, '8am': 2706, 'silently': 2707, 'drms': 2708, 'connect': 2709, 'waheed': 2710, 'gossip': 2711, 'funky': 2712, '82468': 2713, 'superior': 2714, 'department': 2715, 'conform': 2716, 'desires': 2717, 'managed': 2718, '6months': 2719, 'n9dx': 2720, 'doesn': 2721, 'canada': 2722, 'effects': 2723, 'gorgeous': 2724, 'finishes': 2725, 'survey': 2726, 'touched': 2727, '09050001808': 2728, 'm95': 2729, 'gona': 2730, 'planet': 2731, 'cancelled': 2732, 'greatest': 2733, 'courage': 2734, 'bear': 2735, 'defeat': 2736, 'waited': 2737, '69698': 2738, 'mca': 2739, 'ground': 2740, 'gimme': 2741, 'drinkin': 2742, 'members': 2743, 'iouri': 2744, 'dokey': 2745, '200': 2746, 'tech': 2747, 'curious': 2748, 'aww': 2749, 'literally': 2750, 'loud': 2751, 'ques': 2752, 'suits': 2753, \"roommate's\": 2754, 'impatient': 2755, 'paris': 2756, 'kicks': 2757, 'slightly': 2758, 'fav': 2759, 'darlings': 2760, 'wld': 2761, '0825': 2762, 'sux': 2763, 'forum': 2764, 'voicemail': 2765, 'hugs': 2766, 'snogs': 2767, 'rumour': 2768, 'meanwhile': 2769, 'purse': 2770, '2marrow': 2771, '4d': 2772, 'ability': 2773, 'answered': 2774, 'slippers': 2775, '08709222922': 2776, '8p': 2777, 'peak': 2778, 'å£6': 2779, 'signing': 2780, 'dorm': 2781, 'avatar': 2782, 'flies': 2783, 'xxxmobilemovieclub': 2784, 'answering': 2785, 'kg': 2786, 'weigh': 2787, 'flash': 2788, 'jealous': 2789, 'loose': 2790, 'shld': 2791, 'stretch': 2792, 'misbehaved': 2793, '786': 2794, 'unredeemed': 2795, '45239': 2796, 'lf56': 2797, 'mahal': 2798, 'furniture': 2799, 'fret': 2800, 'west': 2801, 'coast': 2802, 'kindly': 2803, 'rgds': 2804, 'nahi': 2805, 'zindgi': 2806, 'wo': 2807, 'jo': 2808, 'pickle': 2809, 'four': 2810, '\\rham': 2811, 'cooked': 2812, 'relatives': 2813, 'treated': 2814, 'sharing': 2815, 'value': 2816, 'continue': 2817, 'lotta': 2818, 'cars': 2819, 'moving': 2820, 'goodnoon': 2821, 'vomiting': 2822, 'itåõs': 2823, 'tight': 2824, 'parked': 2825, 'piece': 2826, 'favorite': 2827, 'kent': 2828, 'vale': 2829, 'posts': 2830, 'forgiven': 2831, 'talks': 2832, 'prey': 2833, 'devouring': 2834, 'exhausted': 2835, 'annoying': 2836, 'vivek': 2837, 'anythin': 2838, 'hor': 2839, 'dime': 2840, 'practical': 2841, 'wating': 2842, 'spare': 2843, 'classes': 2844, 'expecting': 2845, 'recovery': 2846, 'blind': 2847, 'dates': 2848, 'hide': 2849, 'premium': 2850, 'wallpaper': 2851, 'strange': 2852, 'knackered': 2853, 'exams': 2854, 'restaurant': 2855, 'iscoming': 2856, 'alfie': 2857, \"moon's\": 2858, 'm8s': 2859, 'nokias': 2860, '08701417012': 2861, 'begging': 2862, '910': 2863, 'messy': 2864, 'laundry': 2865, 'underwear': 2866, '61610': 2867, '08712400602450p': 2868, 'tones2you': 2869, 'msn': 2870, 'acl03530150pm': 2871, 'favour': 2872, 'commercial': 2873, 'dear1': 2874, 'best1': 2875, 'clos1': 2876, 'lvblefrnd': 2877, 'jstfrnd': 2878, 'cutefrnd': 2879, 'lifpartnr': 2880, 'swtheart': 2881, 'bstfrnd': 2882, 'fish': 2883, 'fake': 2884, 'joanna': 2885, 'tank': 2886, 'depressed': 2887, 'cherish': 2888, 'mojibiola': 2889, 'potato': 2890, 'tortilla': 2891, 'format': 2892, 'everyday': 2893, 'smoking': 2894, 'ruining': 2895, 'clear': 2896, 'skyped': 2897, 'kz': 2898, 'given': 2899, 'ultimatum': 2900, 'countin': 2901, 'aburo': 2902, '09066364589': 2903, 'responce': 2904, \"1's\": 2905, 'lie': 2906, 'desert': 2907, \"priscilla's\": 2908, 'fan': 2909, 'freefone': 2910, 'ikea': 2911, 'yelling': 2912, 'hm': 2913, 'mall': 2914, 'drunken': 2915, 'poker': 2916, 'phoned': 2917, 'ding': 2918, 'settle': 2919, '88877': 2920, 'gang': 2921, 'resume': 2922, 'farm': 2923, 'mummy': 2924, 'diamonds': 2925, 'speedchat': 2926, 'å£1250': 2927, '09071512433': 2928, '050703': 2929, 'callcost': 2930, 'mobilesvary': 2931, 'silence': 2932, 'blessed': 2933, 'color': 2934, 'stars': 2935, 'peaceful': 2936, 'distract': 2937, 'cud': 2938, '8077': 2939, 'miserable': 2940, 'chest': 2941, 'infections': 2942, 'bone': 2943, 'yellow': 2944, 'wks': 2945, 'luvs': 2946, 'praying': 2947, 'apo': 2948, 'recognise': 2949, 'confused': 2950, 'helpline': 2951, '08706091795': 2952, 'epsilon': 2953, 'sem': 2954, 'modules': 2955, 'dem': 2956, 'quiet': 2957, 'eveb': 2958, 'cochin': 2959, 'iq': 2960, 'forevr': 2961, 'ela': 2962, 'everybody': 2963, 'mental': 2964, 'clearly': 2965, 'bruv': 2966, 'rewarding': 2967, 'brothas': 2968, 'lil': 2969, 'dedicated': 2970, 'dedicate': 2971, 'ansr': 2972, 'tyrone': 2973, 'perhaps': 2974, 'lays': 2975, 'interest': 2976, 'schools': 2977, 'inch': 2978, 'location': 2979, 'wrk': 2980, 'prince': 2981, 'elaine': 2982, 'questioned': 2983, 'cooking': 2984, 'gardener': 2985, 'vegetables': 2986, 'neighbour': 2987, 'ths': 2988, '153': 2989, 'july': 2990, 'purity': 2991, 'aunty': 2992, '86888': 2993, 'subscribe6gbp': 2994, '3hrs': 2995, 'txtstop': 2996, 'jerry': 2997, 'irritates': 2998, 'fails': 2999, 'vth': 3000, 'telugu': 3001, '09058099801': 3002, 'b4190604': 3003, '7876150ppm': 3004, '2waxsto': 3005, 'major': 3006, 'subpoly': 3007, '81618': 3008, 'repeat': 3009, 'instructions': 3010, 'title': 3011, 'dracula': 3012, 'titles': 3013, 'ghost': 3014, 'addamsfa': 3015, 'munsters': 3016, 'exorcist': 3017, 'twilight': 3018, 'inshah': 3019, 'racing': 3020, 'rice': 3021, 'river': 3022, 'beloved': 3023, 'driver': 3024, 'free2day': 3025, \"george's\": 3026, '89080': 3027, '0870241182716': 3028, 'spoiled': 3029, 'textbuddy': 3030, 'gaytextbuddy': 3031, '89693': 3032, 'gf': 3033, 'sweetie': 3034, 'gentle': 3035, 'ey': 3036, 'calm': 3037, 'up4': 3038, 'wifi': 3039, 'fastest': 3040, 'growing': 3041, 'shelf': 3042, 'violence': 3043, 'dirty': 3044, 'lies': 3045, 'pig': 3046, 'attend': 3047, 'sarcasm': 3048, '31': 3049, 'juicy': 3050, '2morro': 3051, 'repair': 3052, 'foot': 3053, 'penis': 3054, 'ideal': 3055, 'normally': 3056, 'onion': 3057, 'fire': 3058, 'av': 3059, 'bck': 3060, 'dan': 3061, 'eastenders': 3062, 'compare': 3063, 'herself': 3064, 'violet': 3065, 'tulip': 3066, 'lily': 3067, 'wkent': 3068, '150p16': 3069, 'pimples': 3070, 'engin': 3071, 'wiskey': 3072, 'brandy': 3073, 'rum': 3074, 'gin': 3075, 'scotch': 3076, 'shampain': 3077, 'kudi': 3078, 'yarasu': 3079, 'dhina': 3080, 'vaazhthukkal': 3081, 'correction': 3082, 'hardly': 3083, '22': 3084, 'durban': 3085, 'potter': 3086, 'phoenix': 3087, 'harry': 3088, 'readers': 3089, 'knock': 3090, 'whose': 3091, 'evry': 3092, '26': 3093, 'helen': 3094, '27': 3095, 'allowed': 3096, 'lo': 3097, 'oreo': 3098, 'truffles': 3099, 'closes': 3100, '09066350750': 3101, 'ibiza': 3102, 'sk3': 3103, '8wp': 3104, 'cheer': 3105, 'properly': 3106, 'edge': 3107, 'tms': 3108, 'widelive': 3109, 'index': 3110, 'wml': 3111, 'name1': 3112, 'name2': 3113, 'mobno': 3114, 'adam': 3115, '07123456789': 3116, 'txtno': 3117, 'ads': 3118, 'removed': 3119, 'banks': 3120, 'differ': 3121, 'rofl': 3122, '09066612661': 3123, 'hol': 3124, 'confuses': 3125, 'chill': 3126, 'trains': 3127, 'warning': 3128, 'affair': 3129, 'hsbc': 3130, 'thgt': 3131, 'otside': 3132, 'british': 3133, 'hotels': 3134, 'sw73ss': 3135, 'downloaded': 3136, 'installing': 3137, 'remembr': 3138, 'capital': 3139, 'control': 3140, 'massive': 3141, '40': 3142, 'sigh': 3143, 'paperwork': 3144, 'nervous': 3145, 'knowing': 3146, 'album': 3147, '08002888812': 3148, 'count': 3149, 'tests': 3150, 'kid': 3151, 'subs16': 3152, '1win150ppmx3': 3153, 'petey': 3154, 'nit': 3155, 'moments': 3156, 'northampton': 3157, '24hrs': 3158, 'swiss': 3159, 'crore': 3160, 'village': 3161, 'lane': 3162, 'monthly': 3163, 'rich': 3164, 'politicians': 3165, 'rights': 3166, 'position': 3167, 'range': 3168, 'bootydelious': 3169, 'jolly': 3170, 'flaky': 3171, 'necklace': 3172, 'spring': 3173, 'maturity': 3174, 'mmmmmm': 3175, 'nasty': 3176, 'slo': 3177, 'sells': 3178, 'mids': 3179, 'satisfy': 3180, 'randy': 3181, 'tissco': 3182, 'tayseer': 3183, 'probs': 3184, 'hon': 3185, '0808': 3186, '145': 3187, '4742': 3188, '9am': 3189, '11pm': 3190, 'gastroenteritis': 3191, 'replace': 3192, 'reduce': 3193, 'limiting': 3194, 'illness': 3195, 'burns': 3196, 'concentrate': 3197, 'papers': 3198, '69696': 3199, '3lp': 3200, 'parking': 3201, 'spell': 3202, 'cappuccino': 3203, 'juan': 3204, '872': 3205, 'connections': 3206, 'building': 3207, 'coat': 3208, 'tomorro': 3209, '80608': 3210, 'movietrivia': 3211, '08712405022': 3212, 'outta': 3213, 'silver': 3214, 'scotland': 3215, 'pool': 3216, '630': 3217, 'trips': 3218, 'bids': 3219, 'gain': 3220, 'soup': 3221, 'summer': 3222, 'tscs087147403231winawk': 3223, '50perwksub': 3224, 'sathya': 3225, 'chasing': 3226, 'callfreefone': 3227, '08081560665': 3228, 'ofå£2000': 3229, '07786200117': 3230, 'effect': 3231, 'swoop': 3232, 'oi': 3233, 'previous': 3234, 'tsunamis': 3235, 'howard': 3236, '30ish': 3237, 'meets': 3238, 'tirunelvali': 3239, 'cashto': 3240, '08000407165': 3241, 'getstop': 3242, '88222': 3243, 'php': 3244, '114': 3245, '14': 3246, 'tcr': 3247, 'w1': 3248, 'absolutly': 3249, 'membership': 3250, 'virgin': 3251, 'records': 3252, 'mystery': 3253, 'smsco': 3254, 'approx': 3255, '08701417012150p': 3256, 'wind': 3257, 'natural': 3258, 'ms': 3259, 'indyarocks': 3260, 'nok': 3261, 'oru': 3262, 'chances': 3263, 'csh11': 3264, '6days': 3265, 'tsandcs': 3266, 'cuddling': 3267, 'king': 3268, 'theory': 3269, 'lousy': 3270, 'bluff': 3271, 'sake': 3272, 'parco': 3273, 'nb': 3274, '3100': 3275, 'mis': 3276, '930': 3277, '021': 3278, '3680': 3279, \"god's\": 3280, 'sweetheart': 3281, 'monkeys': 3282, 'plaza': 3283, '125gift': 3284, 'tlp': 3285, 'slide': 3286, 'clothes': 3287, '09066364311': 3288, 'cuddle': 3289, 'demand': 3290, 'indeed': 3291, 'application': 3292, 'airtel': 3293, 'processed': 3294, 'jason': 3295, 'telephone': 3296, 'mails': 3297, 'twenty': 3298, 'jia': 3299, 'mtmsgrcvd18': 3300, 'suntec': 3301, 'gaps': 3302, '13': 3303, 'painting': 3304, 'secretly': 3305, 'datebox1282essexcm61xn': 3306, \"'maangalyam\": 3307, 'alaipayuthe': 3308, 'panic': 3309, 'lyfu': 3310, 'lyf': 3311, 'ali': 3312, 'ke': 3313, 'program': 3314, 'meow': 3315, 'havin': 3316, 'loveme': 3317, 'agree': 3318, 'ipad': 3319, 'macho': 3320, '6pm': 3321, 'bud': 3322, 'hella': 3323, 'cheat': 3324, 'woulda': 3325, 'held': 3326, 'apps': 3327, '09061702893': 3328, 'scores': 3329, 'butt': 3330, 'hang': 3331, 'wipro': 3332, 'handed': 3333, 'goodnite': 3334, 'stuck': 3335, 'middle': 3336, 'henry': 3337, 'liverpool': 3338, 'force': 3339, 'ee': 3340, 'gr8prizes': 3341, 'hoped': 3342, 'tough': 3343, 'gravity': 3344, 'carefully': 3345, 'lion': 3346, \"everybody's\": 3347, 'preferably': 3348, 'doubt': 3349, 'parent': 3350, \"weekend's\": 3351, 'craziest': 3352, 'improve': 3353, 'creep': 3354, 'reboot': 3355, 'symbol': 3356, 'pobox45w2tg150p': 3357, 'lido': 3358, 'thoughts': 3359, 'breath': 3360, 'named': 3361, 'steve': 3362, 'havenåõt': 3363, 'blackberry': 3364, 'calicut': 3365, 'tree': 3366, 'films': 3367, 'didn\\x89û÷t': 3368, 'christ': 3369, 'we\\x89û÷re': 3370, 'konw': 3371, 'waht': 3372, 'rael': 3373, 'gving': 3374, 'exmpel': 3375, 'jsut': 3376, 'evrey': 3377, 'splleing': 3378, 'wrnog': 3379, 'sitll': 3380, 'raed': 3381, 'wihtuot': 3382, 'ayn': 3383, 'mitsake': 3384, 'keeps': 3385, 'explicit': 3386, 'secs': 3387, '02073162414': 3388, 'allow': 3389, 'nearly': 3390, 'makin': 3391, 'borrow': 3392, 'rang': 3393, '700': 3394, 'necessarily': 3395, 'lock': 3396, '08718738001': 3397, 'invest': 3398, 'u4': 3399, 'crap': 3400, 'borin': 3401, 'adore': 3402, '07734396839': 3403, 'ibh': 3404, 'nokia6600': 3405, 'talent': 3406, 'ppl': 3407, 'randomly': 3408, 'owns': 3409, 'reminding': 3410, 'adoring': 3411, 'pandy': 3412, 'fear': 3413, '08718726270': 3414, 'hrishi': 3415, 'rule': 3416, \"08452810075over18's\": 3417, 'shu': 3418, 'g696ga': 3419, 'stores': 3420, 'mb': 3421, 'x49': 3422, '09065989182': 3423, 'vday': 3424, 'desparate': 3425, 'tablets': 3426, 'callback': 3427, 'natalja': 3428, 'nat27081980': 3429, 'evn': 3430, 'stones': 3431, 'atlast': 3432, 'responsibility': 3433, 'specific': 3434, '674': 3435, 'hubby': 3436, 'tee': 3437, 'duchess': 3438, '008704050406': 3439, 'behave': 3440, 'admin': 3441, 'poop': 3442, 'gpu': 3443, 'several': 3444, 'size': 3445, 'ta': 3446, 'becoz': 3447, 'onwards': 3448, 'prospects': 3449, '09065171142': 3450, 'stopsms': 3451, '08': 3452, 'sarasota': 3453, 'unnecessarily': 3454, 'railway': 3455, 'channel': 3456, 'abj': 3457, 'bell': 3458, 'stayin': 3459, 'sorted': 3460, 'jenny': 3461, 'lately': 3462, 'conducts': 3463, 'boat': 3464, 'prescription': 3465, 'practicing': 3466, 'admit': 3467, 'edu': 3468, 'secretary': 3469, 'blessing': 3470, 'prof': 3471, 'student': 3472, 'wave': 3473, 'asp': 3474, 'items': 3475, '09061221061': 3476, '28days': 3477, 'box177': 3478, 'm221bp': 3479, '2yr': 3480, 'warranty': 3481, 'på£3': 3482, '99': 3483, 'en': 3484, 'windows': 3485, 'shut': 3486, '1hr': 3487, 'delay': 3488, 'jd': 3489, 'accounts': 3490, 'ear': 3491, 'slp': 3492, 'muah': 3493, 'officially': 3494, 'dial': 3495, 'woot': 3496, \"mum's\": 3497, 'garbage': 3498, 'caroline': 3499, 'bless': 3500, 'frog': 3501, 'pattern': 3502, 'cared': 3503, '21870000': 3504, 'mailbox': 3505, 'messaging': 3506, '09056242159': 3507, 'retrieve': 3508, 'dining': 3509, 'ne': 3510, 'tonights': 3511, 'wishin': 3512, 'refilled': 3513, 'inr': 3514, 'keralacircle': 3515, 'prepaid': 3516, 'kr': 3517, \"there're\": 3518, 'table': 3519, 'spider': 3520, 'salon': 3521, 'responding': 3522, 'diwali': 3523, 'batch': 3524, 'cookies': 3525, 'soiree': 3526, 'faggy': 3527, 'lacs': 3528, 'combine': 3529, 'east': 3530, '09066358152': 3531, 'prompts': 3532, 'whr': 3533, 'maga': 3534, 'avoiding': 3535, '0776xxxxxxx': 3536, 'ranjith': 3537, 'hes': 3538, 'jokin': 3539, 'privacy': 3540, 'necessary': 3541, 'math': 3542, 'screen': 3543, 'arts': 3544, 'annie': 3545, 'bread': 3546, 'serving': 3547, 'sue': 3548, '81303': 3549, 'eurodisinc': 3550, 'trav': 3551, 'aco': 3552, 'entry41': 3553, 'morefrmmob': 3554, 'shracomorsglsuplt': 3555, 'ls1': 3556, '3aj': 3557, 'understood': 3558, 'sheffield': 3559, 'argue': 3560, 'urn': 3561, 'beware': 3562, '169': 3563, '6031': 3564, 'wearing': 3565, 'shock': 3566, 'follow': 3567, 'manage': 3568, 'bears': 3569, 'division': 3570, 'push': 3571, 'claims': 3572, 'slots': 3573, 'sarcastic': 3574, 'simpler': 3575, 'magical': 3576, 'mmmm': 3577, 'pushes': 3578, 'honeybee': 3579, 'sweetest': 3580, 'laughed': 3581, 'havnt': 3582, 'crack': 3583, 'jokes': 3584, 'disconnect': 3585, \"'terrorist'\": 3586, 'confirmd': 3587, 'verified': 3588, 'cnn': 3589, 'ibn': 3590, 'jaya': 3591, 'strike': 3592, 'grow': 3593, 'youre': 3594, 'web': 3595, '2stop': 3596, 'ptbo': 3597, '07xxxxxxxxx': 3598, 'window': 3599, 'blur': 3600, '09058094599': 3601, 'odi': 3602, 'eta': 3603, 'tap': 3604, 'spile': 3605, 'broad': 3606, 'canal': 3607, 'blu': 3608, 'gent': 3609, '09064012160': 3610, 'shirts': 3611, 'gold': 3612, 'logos': 3613, 'shoving': 3614, '2morow': 3615, 'history': 3616, 'filled': 3617, '5min': 3618, 'paragon': 3619, 'mokka': 3620, 'ruin': 3621, 'amongst': 3622, 'bros': 3623, 'enuff': 3624, 'habit': 3625, 'tlk': 3626, 'nus': 3627, 'teaching': 3628, 'wkg': 3629, 'coping': 3630, 'å£1450': 3631, 'evenings': 3632, 'causing': 3633, '447801259231': 3634, '09058094597': 3635, 'pan': 3636, 'lick': 3637, 'mouth': 3638, 'yck': 3639, 'mumtaz': 3640, \"mumtaz's\": 3641, 'measure': 3642, 'gender': 3643, 'vewy': 3644, 'chain': 3645, 'agalla': 3646, 'housewives': 3647, '0871750': 3648, '77': 3649, 'landlines': 3650, '123': 3651, 'plm': 3652, 'messaged': 3653, 'xxxx': 3654, 'cares': 3655, '326': 3656, 'mesages': 3657, 'siva': 3658, '08712402050': 3659, '10ppm': 3660, 'ag': 3661, 'promo': 3662, '2u': 3663, 'turn': 3664, 'heater': 3665, 'cme': 3666, 'pouts': 3667, 'stomps': 3668, 'feet': 3669, 'horo': 3670, 'boyfriend': 3671, 'hun': 3672, 'h': 3673, 'dance': 3674, '10k': 3675, '121': 3676, 'tog': 3677, 'mono': 3678, 'tscs': 3679, 'skillgame': 3680, '1winaweek': 3681, '150ppermesssubscription': 3682, 'lyk': 3683, 'slip': 3684, '89545': 3685, '087187262701': 3686, '50gbp': 3687, 'mtmsg18': 3688, 'os': 3689, '4fil': 3690, '41685': 3691, '07': 3692, 'sar': 3693, 'weak': 3694, '82242': 3695, 'edison': 3696, 'rightly': 3697, 'wise': 3698, 'viva': 3699, 'original': 3700, '3gbp': 3701, 'block': 3702, 'child': 3703, 'mcat': 3704, 'callin': 3705, 'captain': 3706, 'toshiba': 3707, 'incredible': 3708, 'o2fwd': 3709, '18p': 3710, 'stick': 3711, 'rec': 3712, 'shipped': 3713, 'opinions': 3714, 'freedom': 3715, 'gentleman': 3716, 'dignity': 3717, 'calculation': 3718, 'waves': 3719, 'dr': 3720, 'le': 3721, 'constantly': 3722, 'mix': 3723, '85069': 3724, 'usher': 3725, 'britney': 3726, 'fml': 3727, 'amy': 3728, 'lip': 3729, 'whos': 3730, 'bottom': 3731, 'shipping': 3732, 'violated': 3733, 'turning': 3734, 'telly': 3735, 'kappa': 3736, 'soul': 3737, 'crisis': 3738, 'kidz': 3739, 'tooo': 3740, \"'simple'\": 3741, 'propose': 3742, 'wrc': 3743, 'rally': 3744, 'lucozade': 3745, 'royal': 3746, 'didnåõt': 3747, 'interflora': 3748, 'mth': 3749, 'donate': 3750, 'sends': 3751, 'oooh': 3752, '8552': 3753, 'constant': 3754, 'wrote': 3755, 'wasted': 3756, 'unemployed': 3757, 'attached': 3758, 'sunlight': 3759, 'maneesha': 3760, \"we'd\": 3761, 'satisfied': 3762, 'toll': 3763, 'genius': 3764, '7ish': 3765, 'sary': 3766, 'belive': 3767, 'setting': 3768, 'unknown': 3769, 'å£50': 3770, 'å£5': 3771, 'raj': 3772, 'academic': 3773, 'ofice': 3774, 'hands': 3775, '88066': 3776, 'prefer': 3777, 'clever': 3778, \"dat's\": 3779, 'txt82228': 3780, 'kay': 3781, 'shoes': 3782, 'opening': 3783, 'castor': 3784, 'picsfree1': 3785, 'flame': 3786, 'colours': 3787, 'becomes': 3788, 'nowadays': 3789, 'aom': 3790, 'convinced': 3791, 'aka': 3792, 'pap': 3793, 'sight': 3794, 'threats': 3795, 'lucy': 3796, 'goldviking': 3797, '762': 3798, 'visa': 3799, 'gucci': 3800, 'offline': 3801, \"anjola's\": 3802, '140': 3803, 'ìä': 3804, '180': 3805, 'uawake': 3806, 'feellikw': 3807, 'justfound': 3808, 'aletter': 3809, 'thatmum': 3810, 'gotmarried': 3811, '4thnov': 3812, 'ourbacks': 3813, 'fuckinnice': 3814, 'runs': 3815, 'stone': 3816, 'citylink': 3817, 'murali': 3818, 'significance': 3819, 'neighbors': 3820, 'rimac': 3821, 'solihull': 3822, 'restrictions': 3823, 'buddys': 3824, 'propsd': 3825, 'gv': 3826, 'lv': 3827, 'lttrs': 3828, 'threw': 3829, 'aproach': 3830, 'dt': 3831, 'truck': 3832, 'speeding': 3833, \"'hw\": 3834, 'shouted': 3835, 'thy': 3836, 'lived': 3837, 'happily': 3838, '2gthr': 3839, 'evrydy': 3840, 'accessible': 3841, '08709501522': 3842, '139': 3843, 'la3': 3844, '2wu': 3845, 'rats': 3846, 'themes': 3847, 'shanil': 3848, 'exchanged': 3849, 'uncut': 3850, 'diamond': 3851, 'dino': 3852, '09066361921': 3853, 'ecstasy': 3854, 'mushy': 3855, 'embarrassed': 3856, 'imin': 3857, 'dontmatter': 3858, 'urgoin': 3859, 'outl8r': 3860, 'exp': 3861, '30apr': 3862, 'tescos': 3863, 'wee': 3864, 'inconsiderate': 3865, 'nag': 3866, 'recession': 3867, 'hence': 3868, \"month's\": 3869, 'oclock': 3870, 'bash': 3871, 'cupboard': 3872, 'eek': 3873, 'tacos': 3874, 'stuffs': 3875, 'drastic': 3876, 'priya': 3877, 'teresa': 3878, 'dec': 3879, \"you'ld\": 3880, 'bam': 3881, 'aid': 3882, 'usmle': 3883, 'barring': 3884, 'sudden': 3885, 'influx': 3886, 'mallika': 3887, 'sherawat': 3888, 'sized': 3889, 'grateful': 3890, 'happier': 3891, 'walked': 3892, 'doesnåõt': 3893, 'accommodation': 3894, 'global': 3895, 'phb1': 3896, '08700435505150p': 3897, 'replacing': 3898, 'sexychat': 3899, '69200': 3900, 'chrgd': 3901, '2exit': 3902, 'worlds': 3903, '83110': 3904, 'taste': 3905, 'cheetos': 3906, 'placed': 3907, 'barbie': 3908, \"ken's\": 3909, 'elaborating': 3910, 'safety': 3911, 'aspects': 3912, 'semi': 3913, 'natalie': 3914, 'natalie2k9': 3915, 'rebtel': 3916, 'firefox': 3917, 'lower': 3918, 'watched': 3919, 'plural': 3920, 'brainless': 3921, 'doll': 3922, 'vehicle': 3923, 'sariyag': 3924, 'madoke': 3925, 'barolla': 3926, 'floppy': 3927, 'snappy': 3928, 'praps': 3929, 'lists': 3930, 'olympics': 3931, 'tram': 3932, 'vic': 3933, 'lighters': 3934, 'web2mobile': 3935, 'txt250': 3936, 'box139': 3937, 'la32wu': 3938, 'txtx': 3939, 'fetching': 3940, 'arngd': 3941, 'walkin': 3942, 'unfortuntly': 3943, 'bites': 3944, 'dancing': 3945, 'frnt': 3946, 'sayin': 3947, 'webpage': 3948, 'dawns': 3949, 'refreshed': 3950, 'debating': 3951, 'lennon': 3952, 'related': 3953, 'arul': 3954, 'excused': 3955, 'downs': 3956, 'fletcher': 3957, 'zhong': 3958, 'qing': 3959, 'act': 3960, '80086': 3961, 'txttowin': 3962, \"idea's\": 3963, 'anyplaces': 3964, \"phone's\": 3965, 'vibrate': 3966, 'acting': 3967, 'prone': 3968, 'noisy': 3969, 'burger': 3970, 'killing': 3971, 'problematic': 3972, 'arguing': 3973, 'gonnamissu': 3974, 'postcard': 3975, 'buttheres': 3976, 'aboutas': 3977, 'merememberin': 3978, 'asthere': 3979, 'ofsi': 3980, 'breakin': 3981, 'yaxx': 3982, 'batsman': 3983, 'lasagna': 3984, 'alcohol': 3985, 'safely': 3986, 'breadstick': 3987, '44': 3988, '7732584351': 3989, 'marking': 3990, 'overtime': 3991, 'nigpun': 3992, '09066362220': 3993, 'assumed': 3994, 'eightish': 3995, 'carpark': 3996, 'factory': 3997, 'sentiment': 3998, 'rowdy': 3999, 'attitude': 4000, 'attractive': 4001, 'purchases': 4002, 'ana': 4003, 'sathy': 4004, 'rto': 4005, 'oga': 4006, 'jos': 4007, 'piggy': 4008, 'esaplanade': 4009, 'naal': 4010, 'eruku': 4011, 'splashmobile': 4012, 'subscrition': 4013, '300p': 4014, 'geeeee': 4015, 'invaders': 4016, 'orig': 4017, 'console': 4018, 'purchase': 4019, 'waheeda': 4020, 'checkin': 4021, 'paypal': 4022, 'voila': 4023, 'pockets': 4024, 'explicitly': 4025, 'nora': 4026, 'jaykwon': 4027, 'thuglyfe': 4028, 'falconerf': 4029, 'åè10': 4030, 'evey': 4031, 'electricity': 4032, 'abeg': 4033, 'sponsors': 4034, 'versus': 4035, 'allday': 4036, 'coulda': 4037, 'ilol': 4038, 'personally': 4039, 'wuldnt': 4040, 'predicte': 4041, \"'doctors'\": 4042, 'reminds': 4043, 'bsn': 4044, 'advising': 4045, 'aah': 4046, 'lovly': 4047, 'ew': 4048, 'unconvinced': 4049, 'elaborate': 4050, 'willpower': 4051, 'chgs': 4052, 'terror': 4053, 'cruel': 4054, 'decent': 4055, 'joker': 4056, 'jolt': 4057, 'wheellock': 4058, 'showered': 4059, \"er'ything\": 4060, 'heat': 4061, 'applyed': 4062, 'resuming': 4063, 'minimum': 4064, 'reapply': 4065, 'worc': 4066, 'foregate': 4067, 'shrub': 4068, 'timings': 4069, 'panren': 4070, 'paru': 4071, 'antha': 4072, 'corrct': 4073, 'dane': 4074, 'whatsup': 4075, 'ours': 4076, 'liver': 4077, 'wasnåõt': 4078, 'spouse': 4079, 'pmt': 4080, 'sumthin': 4081, '4give': 4082, 'shldxxxx': 4083, 'whens': 4084, 'syria': 4085, 'brighten': 4086, 'firsg': 4087, 'multimedia': 4088, '80160': 4089, 'txt43': 4090, 'borderline': 4091, 'although': 4092, 'baig': 4093, 'watches': 4094, 'cantdo': 4095, 'anythingtomorrow': 4096, 'myparents': 4097, 'aretaking': 4098, 'outfor': 4099, 'katexxx': 4100, 'noice': 4101, '3230': 4102, 'textbook': 4103, 'algorithms': 4104, 'edition': 4105, 'grasp': 4106, 'fights': 4107, 'skint': 4108, 'fancied': 4109, 'bevies': 4110, 'waz': 4111, 'othrs': 4112, 'spoon': 4113, 'watchng': 4114, 'comfey': 4115, 'hf8': 4116, 'blowing': 4117, 'cards': 4118, 'pre': 4119, 'sacked': 4120, 'deepest': 4121, 'darkest': 4122, '09094646631': 4123, '09050000460': 4124, 'j89': 4125, 'box245c2150pm': 4126, 'impressively': 4127, 'sensible': 4128, 'screamed': 4129, 'attended': 4130, 'mittelschmertz': 4131, 'paracetamol': 4132, 'headset': 4133, 'adp': 4134, 'raglan': 4135, 'edward': 4136, 'cricket': 4137, 'closeby': 4138, 'dancin': 4139, 'cutest': 4140, 'f4q': 4141, 'receipts\\x89ûówell': 4142, 'what\\x89û÷s': 4143, \"ryan's\": 4144, 'swashbuckling': 4145, 'anthony': 4146, '50s': 4147, 'alot': 4148, 'manual': 4149, 'reset': 4150, 'troubleshooting': 4151, 'ax': 4152, 'casualty': 4153, 'stuff42moro': 4154, 'includes': 4155, 'ryan': 4156, 'spontaneously': 4157, 'goodevening': 4158, 'legs': 4159, \"dealer's\": 4160, 'å£79': 4161, '08704439680ts': 4162, 'kane': 4163, 'shud': 4164, '1stchoice': 4165, '08707808226': 4166, 'chillaxin': 4167, 'spun': 4168, 'wrld': 4169, 'nearby': 4170, 'cliffs': 4171, 'balls': 4172, 'rounder': 4173, 'required': 4174, 'netflix': 4175, 'disastrous': 4176, 'lanre': 4177, \"fakeye's\": 4178, 'eckankar': 4179, 'ccna': 4180, 'zoom': 4181, 'diddy': 4182, 'neighbor': 4183, 'toothpaste': 4184, 'raiden': 4185, 'pleasant': 4186, 'statements': 4187, 'welp': 4188, 'lifting': 4189, '08719181503': 4190, 'signal': 4191, 'neither': 4192, 'unusual': 4193, 'waaaat': 4194, 'lololo': 4195, 'mathews': 4196, 'tait': 4197, 'edwards': 4198, 'anderson': 4199, 'programs': 4200, 'puts': 4201, 'perspective': 4202, 'lay': 4203, 'bimbo': 4204, \"ugo's\": 4205, 'snatch': 4206, 'payments': 4207, 'fedex': 4208, '1405': 4209, '1680': 4210, '1843': 4211, 'worms': 4212, 'renewal': 4213, 'famous': 4214, 'develop': 4215, \"'anything'\": 4216, 'unconditionally': 4217, 'temper': 4218, \"'married'\": 4219, 'returning': 4220, 'hockey': 4221, 'elections': 4222, 'shouldn\\x89û÷t': 4223, 'dentist': 4224, 'shining': 4225, 'consistently': 4226, 'practicum': 4227, 'links': 4228, 'ears': 4229, 'imp': 4230, 'hittng': 4231, 'reflex': 4232, 'vitamin': 4233, 'qjkgighjjgcbl': 4234, 'accomodations': 4235, 'cave': 4236, 'offered': 4237, 'embarassing': 4238, 'infront': 4239, 'enc': 4240, 'evo': 4241, 'magic': 4242, 'peoples': 4243, '07742676969': 4244, '08719180248': 4245, 'ovulation': 4246, 'strips': 4247, 'postal': 4248, \"ìï'll\": 4249, 'disturbance': 4250, 'dlf': 4251, 'premarica': 4252, 'waqt': 4253, 'pehle': 4254, 'naseeb': 4255, 'zyada': 4256, 'kisi': 4257, 'ko': 4258, 'kuch': 4259, 'milta': 4260, 'hum': 4261, 'sochte': 4262, 'ham': 4263, 'jeetey': 4264, 'hairdressers': 4265, 'beforehand': 4266, 'salmon': 4267, \"ashley's\": 4268, 'risks': 4269, 'benefits': 4270, 'motivating': 4271, 'brisk': 4272, 'walks': 4273, 'chop': 4274, 'childporn': 4275, 'honeymoon': 4276, 'outfit': 4277, 'nìâte': 4278, 'ball': 4279, 'spin': 4280, \"l'm\": 4281, 'exposed': 4282, '08708800282': 4283, 'lyrics': 4284, 'deserve': 4285, 'sunroof': 4286, 'reg': 4287, 'ciao': 4288, 'above': 4289, 'grooved': 4290, 'doke': 4291, 'dressed': 4292, 'laying': 4293, 'wrks': 4294, 'oyster': 4295, 'sashimi': 4296, 'rumbling': 4297, 'parkin': 4298, 'approve': 4299, 'panalam': 4300, 'attending': 4301, 'cozy': 4302, 'slaaaaave': 4303, 'summon': 4304, 'roomate': 4305, 'graduated': 4306, '2years': 4307, 'strain': 4308, 'escalator': 4309, 'passes': 4310, '08704439680': 4311, 'exorcism': 4312, 'emily': 4313, 'hellogorgeous': 4314, 'lst': 4315, 'nitw': 4316, 'texd': 4317, 'hopeu': 4318, '4ward': 4319, 'jaz': 4320, 'dodgey': 4321, 'rodds1': 4322, 'aberdeen': 4323, 'united': 4324, 'kingdom': 4325, 'img': 4326, 'icmb3cktz8r7': 4327, 'possibility': 4328, 'tmrw': 4329, 'finishing': 4330, 'manageable': 4331, 'performance': 4332, 'calculated': 4333, 'panther': 4334, 'sugababes': 4335, 'zebra': 4336, 'animation': 4337, 'badass': 4338, 'hoody': 4339, 'posting': 4340, 'fran': 4341, 'janx': 4342, 'dads': 4343, 'maps': 4344, 'southern': 4345, 'tnc': 4346, 'com1win150ppmx3age16subscription': 4347, 'annoncement': 4348, '07046744435': 4349, 'lyricalladie': 4350, 'hmmross': 4351, 'wined': 4352, 'dined': 4353, 'bridge': 4354, 'lager': 4355, 'computers': 4356, 'cheesy': 4357, 'frosty': 4358, 'snowman': 4359, 'delete': 4360, 'tag': 4361, 'throw': 4362, 'bras': 4363, 'strewn': 4364, 'pillows': 4365, 'hvae': 4366, '09061701444': 4367, 'supose': 4368, 'babysit': 4369, 'famamus': 4370, 'cereals': 4371, 'gari': 4372, 'svc': 4373, '69988': 4374, 'hasbro': 4375, 'jump': 4376, 'hoops': 4377, '850': 4378, '650': 4379, 'restock': 4380, 'lolnice': 4381, 'reffering': 4382, 'getiing': 4383, 'hunt': 4384, 'freaking': 4385, 'myspace': 4386, 'logged': 4387, 'infact': 4388, 'ger': 4389, 'toking': 4390, 'syd': 4391, 'tix': 4392, 'smokin': 4393, 'loans': 4394, 'stressed': 4395, 'correctly': 4396, 'surya': 4397, 'pokkiri': 4398, 'okors': 4399, 'ratio': 4400, 'huiming': 4401, 'disc': 4402, 'poking': 4403, 'nowhere': 4404, 'ikno': 4405, 'doesdiscount': 4406, 'shitinnit': 4407, 'justify': 4408, 'copies': 4409, 'apes': 4410, 'corporation': 4411, 'intentions': 4412, 'minus': 4413, 'paragraphs': 4414, 'firmware': 4415, 'praveesh': 4416, 'delicious': 4417, 'we\\x89û÷ll': 4418, 'taka': 4419, 'premier': 4420, 'cts': 4421, 'employee': 4422, 'logging': 4423, 'geoenvironmental': 4424, 'implications': 4425, 'ahhhh': 4426, 'woken': 4427, 'hiding': 4428, 'yalrigu': 4429, 'heltini': 4430, 'iyo': 4431, 'kothi': 4432, 'shared': 4433, 'uttered': 4434, 'trusting': 4435, '08006344447': 4436, 'poet': 4437, 'imagination': 4438, 'jontin': 4439, 'spelled': 4440, 'caps': 4441, 'mess': 4442, 'bullshit': 4443, 'heavily': 4444, 'honestly': 4445, 'promptly': 4446, 'burnt': 4447, 'young': 4448, 'pei': 4449, '09050001295': 4450, 'a21': 4451, 'seeking': 4452, 'opposed': 4453, 'stays': 4454, 'ors': 4455, 'stool': 4456, 'raping': 4457, 'dudes': 4458, 'wasnt': 4459, 'gnarls': 4460, 'barkleys': 4461, 'fassyole': 4462, 'blacko': 4463, 'londn': 4464, '087123002209am': 4465, 'actual': 4466, 'harder': 4467, 'nbme': 4468, '09065174042': 4469, '07821230901': 4470, 'pen': 4471, 'biro': 4472, 'brother\\x89û÷s': 4473, 'scraped': 4474, 'barrel': 4475, 'misfits': 4476, 'bcum': 4477, 'stressful': 4478, 'pisces': 4479, 'aquarius': 4480, '09066368753': 4481, '97n7qp': 4482, 'whore': 4483, 'unbelievable': 4484, 'shitload': 4485, '80155': 4486, 'swap': 4487, 'chatter': 4488, 'chat80155': 4489, 'rcd': 4490, 'rgent': 4491, 'millers': 4492, 'musical': 4493, 'isaiah': 4494, 'lightly': 4495, 'custom': 4496, 'checkboxes': 4497, '30pm': 4498, 'woah': 4499, 'realising': 4500, 'reasonable': 4501, 'perumbavoor': 4502, 'cheese': 4503, 'fires': 4504, 'ripped': 4505, 'clubmoby': 4506, '08717509990': 4507, 'printer': 4508, 'groovy': 4509, 'groovying': 4510, 'antibiotic': 4511, 'abdomen': 4512, 'gynae': 4513, 'follows': 4514, 'subsequent': 4515, \"i'ma\": 4516, 'coco': 4517, 'poo': 4518, 'rajini': 4519, '83435': 4520, 'blanket': 4521, 'module': 4522, 'humanities': 4523, 'pansy': 4524, 'jungle': 4525, \"carlos'll\": 4526, 'prsn': 4527, 'somtimes': 4528, 'saves': 4529, 'nothin': 4530, 'cherthala': 4531, 'bfore': 4532, 'tmorow': 4533, 'engaged': 4534, 'hppnss': 4535, 'sorrow': 4536, 'goodfriend': 4537, 'north': 4538, 'carolina': 4539, 'texas': 4540, 'gre': 4541, 'crammed': 4542, 'onum': 4543, 'hep': 4544, 'immunisation': 4545, 'completed': 4546, 'classmates': 4547, 'polyphonic': 4548, 'pt2': 4549, 'retard': 4550, 'srsly': 4551, 'yi': 4552, 'sliding': 4553, 'baaaaaaaabe': 4554, 'videos': 4555, 'shsex': 4556, 'netun': 4557, 'fgkslpopw': 4558, 'fgkslpo': 4559, 'attracts': 4560, 'lib': 4561, \"finn's\": 4562, 'mouse': 4563, 'desk': 4564, 'beverage': 4565, 'pist': 4566, 'copied': 4567, 'algarve': 4568, 'identification': 4569, 'tp': 4570, 'disturbing': 4571, 'trash': 4572, '82324': 4573, 'figuring': 4574, 'dramatic': 4575, 'maggi': 4576, 'mee': 4577, 'ukp': 4578, '09061790125': 4579, 'gods': 4580, 'blessings': 4581, 'signin': 4582, 'taxt': 4583, 'massage': 4584, 'tie': 4585, 'pos': 4586, 'lool': 4587, 'dabooks': 4588, 'aslamalaikkum': 4589, 'tohar': 4590, 'beeen': 4591, 'muht': 4592, 'albi': 4593, 'mufti': 4594, 'mahfuuz': 4595, 'haircut': 4596, 'breezy': 4597, 'bbq': 4598, '6ish': 4599, 'unclaimed': 4600, '09066368327': 4601, 'closingdate04': 4602, 'claimcode': 4603, 'm39m51': 4604, '50pmmorefrommobile2bremoved': 4605, 'mobypobox734ls27yf': 4606, 'perf': 4607, 'heaven': 4608, 'r836': 4609, '09065069154': 4610, 'grocers': 4611, 'wright': 4612, 'fly': 4613, 'general': 4614, 'ias': 4615, 'upgrdcentre': 4616, '9153': 4617, '26th': 4618, 'puttin': 4619, 'musthu': 4620, 'gamb': 4621, 'rejected': 4622, \"'wnevr\": 4623, 'fal': 4624, 'fals': 4625, 'yen': 4626, 'madodu': 4627, 'nav': 4628, 'pretsorginta': 4629, 'nammanna': 4630, 'pretsovru': 4631, 'alwa': 4632, '2814032': 4633, '3xå£150pw': 4634, 'eå£nd': 4635, 'christmassy': 4636, 'lingerie': 4637, 'bridal': 4638, 'petticoatdreams': 4639, 'weddingfriend': 4640, 'urgh': 4641, 'coach': 4642, 'smells': 4643, 'chip': 4644, 'duvet': 4645, 'predictive': 4646, 'horse': 4647, 'cloud': 4648, 'symptoms': 4649, 'smashed': 4650, 'dent': 4651, 'kills': 4652, 'payback': 4653, 'skateboarding': 4654, 'despite': 4655, 'thrown': 4656, 'winds': 4657, 'bandages': 4658, 'rob': 4659, 'mack': 4660, 'theater': 4661, 'thin': 4662, 'arguments': 4663, 'fed': 4664, 'himso': 4665, 'tues': 4666, '85222': 4667, 'winnersclub': 4668, '84': 4669, 'gbp1': 4670, \"treatin'\": 4671, 'treacle': 4672, 'sonetimes': 4673, 'rough': 4674, 'ajith': 4675, 'downon': 4676, 'theacusations': 4677, 'itxt': 4678, 'iwana': 4679, 'wotu': 4680, 'thew': 4681, 'haventcn': 4682, 'nething': 4683, 'blanked': 4684, '83021': 4685, 'suffers': 4686, 'rearrange': 4687, 'dormitory': 4688, 'astronomer': 4689, 'starer': 4690, 'election': 4691, 'recount': 4692, 'hitler': 4693, 'eleven': 4694, 'clover': 4695, 'toughest': 4696, 'misundrstud': 4697, 'corect': 4698, 'speling': 4699, 'selflessness': 4700, 'bognor': 4701, 'splendid': 4702, 'someplace': 4703, 'stands': 4704, 'nitz': 4705, 'staring': 4706, \"basket's\": 4707, 'nordstrom': 4708, 'bare': 4709, 'passion': 4710, '09099726481': 4711, 'dena': 4712, 'consent': 4713, 'forms': 4714, 'jp': 4715, 'mofo': 4716, 'route': 4717, 'path': 4718, 'appear': 4719, 'front': 4720, 'paths': 4721, '449071512431': 4722, 'vco': 4723, 'ffffuuuuuuu': 4724, 'lakhs': 4725, 'cosign': 4726, 'lit': 4727, 'upping': 4728, 'grams': 4729, 'wahala': 4730, 'stu': 4731, 'truble': 4732, 'evone': 4733, 'hates': 4734, '09090204448': 4735, 'minded': 4736, 'aå£1': 4737, 'minapn': 4738, 'ls278bb': 4739, 'kaiez': 4740, 'beta': 4741, '09058094507': 4742, 'gauge': 4743, \"patty's\": 4744, 'abstract': 4745, 'beauty': 4746, 'jen': 4747, 'dresser': 4748, 'incomm': 4749, 'playin': 4750, 'studyn': 4751, '0871277810810': 4752, 'errors': 4753, 'difficulties': 4754, 'meive': 4755, 'gotany': 4756, '67441233': 4757, 'irene': 4758, 'ere': 4759, 'bus8': 4760, '65': 4761, '61': 4762, '66': 4763, '382': 4764, 'cres': 4765, '6ph': 4766, '5wkg': 4767, 'ì¬n': 4768, 'swollen': 4769, 'glands': 4770, 'amla': 4771, '1mega': 4772, 'pixels': 4773, '3optical': 4774, '5digital': 4775, 'dooms': 4776, 'oxygen': 4777, 'resort': 4778, 'roller': 4779, '\\x89ûïharry': 4780, 'tkls': 4781, 'stoptxtstopå£1': 4782, '2nights': 4783, 'uve': 4784, 'wildest': 4785, 'emotion': 4786, 'prayrs': 4787, 'othrwise': 4788, 'donno': 4789, 'scorable': 4790, 'soc': 4791, 'tddnewsletter': 4792, 'emc1': 4793, 'thedailydraw': 4794, 'dozens': 4795, 'prizeswith': 4796, \"mine's\": 4797, \"anybody's\": 4798, 'tactful': 4799, '08714714011': 4800, 'ip': 4801, 'minecraft': 4802, 'server': 4803, 'thesmszone': 4804, 'anonymous': 4805, 'masked': 4806, 'abuse': 4807, 'refund': 4808, 'i\\x89û÷ve': 4809, 'salt': 4810, 'rub': 4811, 'wounds': 4812, 'drama': 4813, 'struggling': 4814, 'ego': 4815, \"'if\": 4816, \"invited'\": 4817, 'necessity': 4818, 'reppurcussions': 4819, 'nigro': 4820, \"dip's\": 4821, 'prominent': 4822, 'cheek': 4823, 'stability': 4824, 'tranquility': 4825, 'vibrant': 4826, 'colourful': 4827, 'operate': 4828, 'motherfucker': 4829, 'hugging': 4830, 'computerless': 4831, 'phone750': 4832, '08000776320': 4833, 'converted': 4834, 'appeal': 4835, 'thriller': 4836, 'director': 4837, 'mac': 4838, '07090298926': 4839, '9307622': 4840, 'scenery': 4841, 'samus': 4842, 'shoulders': 4843, 'specify': 4844, 'domain': 4845, 'nusstu': 4846, 'powerful': 4847, 'weapon': 4848, 'occupy': 4849, \"'heart'\": 4850, '078': 4851, 'soo': 4852, 'muchxxlove': 4853, 'locaxx': 4854, 'brin': 4855, 'sheet': 4856, '1b6a5ecef91ff9': 4857, '37819': 4858, 'true18': 4859, '0430': 4860, 'jul': 4861, 'drivby': 4862, '0quit': 4863, 'edrunk': 4864, 'iff': 4865, 'pthis': 4866, 'senrd': 4867, 'dnot': 4868, 'dancce': 4869, 'drum': 4870, 'basq': 4871, 'ihave': 4872, '2nhite': 4873, 'ros': 4874, 'xxxxxxx': 4875, 'enters': 4876, 'hhahhaahahah': 4877, 'nig': 4878, 'leonardo': 4879, 'complementary': 4880, 'wa14': 4881, '2px': 4882, 'buffet': 4883, 'earn': 4884, 'surgical': 4885, 'emergency': 4886, 'unfolds': 4887, 'sacrifice': 4888, 'rahul': 4889, 'dengra': 4890, 'unintentionally': 4891, 'snowboarding': 4892, 'pocay': 4893, 'wocay': 4894, '2morrowxxxx': 4895, 'lk': 4896, 'clash': 4897, 'supplies': 4898, 'dogbreath': 4899, 'sounding': 4900, 'shun': 4901, 'bian': 4902, 'glass': 4903, 'exhibition': 4904, 'pdate': 4905, 'yhl': 4906, 'pookie': 4907, '02072069400': 4908, 'bx': 4909, '526': 4910, 'palm': 4911, 'prolly': 4912, 'gray': 4913, 'listn': 4914, 'watevr': 4915, 'callon': 4916, 'mistakes': 4917, 'misscall': 4918, 'frndz': 4919, '6missed': 4920, 'gibbs': 4921, 'mike': 4922, 'hussey': 4923, 'specialisation': 4924, 'labor': 4925, 'shakara': 4926, 'beggar': 4927, 'gut': 4928, 'wrenching': 4929, 'cramps': 4930, 'breaking': 4931, 'cstore': 4932, 'thousands': 4933, 'tattoos': 4934, 'mmmmmmm': 4935, 'snuggles': 4936, 'contented': 4937, 'whispers': 4938, 'chastity': 4939, 'device': 4940, 'beatings': 4941, '08715203694': 4942, '40533': 4943, 'flirting': 4944, 'fired': 4945, 'como': 4946, 'listened2the': 4947, 'plaid': 4948, 'air1': 4949, 'hilarious': 4950, 'boughtåóbraindanceåóa': 4951, 'ofstuff': 4952, 'aphexåõs': 4953, 'abel': 4954, 'tensed': 4955, 'swatch': 4956, '116': 4957, '4the': 4958, 'tagged': 4959, 'gained': 4960, 'pressure': 4961, 'limits': 4962, 'rupaul': 4963, 'tool': 4964, 'pride': 4965, 'grownup': 4966, 'theyre': 4967, 'hospitals': 4968, 'noiåõm': 4969, 'avent': 4970, 'js': 4971, 'dhoni': 4972, 'rocks': 4973, 'meaningless': 4974, 'skyving': 4975, 'uniform': 4976, '69855': 4977, 'stopbcm': 4978, 'sf': 4979, 'sporadically': 4980, 'bc': 4981, \"'an\": 4982, \"quote''\": 4983, '2u2': 4984, 'directors': 4985, 'lac': 4986, 'deposited': 4987, \"'taxless'\": 4988, 'jobs': 4989, 'delhi': 4990, 'suply': 4991, 'projects': 4992, 'imf': 4993, 'blocked': 4994, 'corrupt': 4995, 'itna': 4996, 'karo': 4997, 'ki': 4998, 'pura': 4999, 'padhe': 5000, 'massages': 5001, 'authorise': 5002, 'payment': 5003, 'thet': 5004, 'skinny': 5005, 'casting': 5006, 'appendix': 5007, '32': 5008, '8000930705': 5009, 'miiiiiiissssssssss': 5010, 'avoid': 5011, 'missunderstding': 5012, \"one's\": 5013, 'token': 5014, 'liking': 5015, 'apnt': 5016, '5pm': 5017, '9996': 5018, '14thmarch': 5019, 'availa': 5020, 'robinson': 5021, 'easiest': 5022, 'barcelona': 5023, 'lara': 5024, 'yeesh': 5025, 'quiteamuzing': 5026, 'thatåõscool': 5027, 'ibored': 5028, 'filthyguys': 5029, '4msgs': 5030, 'mila': 5031, 'age23': 5032, 'blonde': 5033, 'mtalk': 5034, '69866': 5035, '30pp': 5036, '5free': 5037, 'increments': 5038, 'help08718728876': 5039, 'buffy': 5040, 'qlynnbv': 5041, 'help08700621170150p': 5042, 'onam': 5043, 'sirji': 5044, 'tata': 5045, 'aig': 5046, 'nhs': 5047, '2b': 5048, 'terminated': 5049, 'inconvenience': 5050, '09058097218': 5051, 'ls15hb': 5052, 'notified': 5053, 'marketing': 5054, '84122': 5055, '08450542832': 5056, 'resolution': 5057, 'frank': 5058, 'doinat': 5059, 'uv': 5060, 'causes': 5061, 'mutations': 5062, 'sunscreen': 5063, 'thesedays': 5064, 'conveying': 5065, 'command': 5066, 'wendy': 5067, 'thx': 5068, '07732584351': 5069, 'rodger': 5070, 'testing': 5071, 'sayy': 5072, 'belligerent': 5073, 'breeze': 5074, 'fresh': 5075, 'twittering': 5076, 'rayan': 5077, 'macleran': 5078, 'collapsed': 5079, 'satanic': 5080, 'imposter': 5081, 'destiny': 5082, 'starshine': 5083, 'sips': 5084, 'performed': 5085, 'entrepreneurs': 5086, 'giggle': 5087, 'possibly': 5088, 'person2die': 5089, 'nvq': 5090, 'auntie': 5091, 'huai': 5092, '07808726822': 5093, '9758': 5094, 'mc': 5095, 'voted': 5096, 'stairs': 5097, 'phews': 5098, 'dammit': 5099, 'jjc': 5100, 'tendencies': 5101, 'absence': 5102, 'jacuzzi': 5103, 'sos': 5104, 'stil': 5105, 'fucked': 5106, 'tobed': 5107, '430': 5108, 'fffff': 5109, 'concentration': 5110, \"shade's\": 5111, 'highest': 5112, 'å£54': 5113, 'maximum': 5114, 'å£71': 5115, '83383': 5116, 'ploughing': 5117, 'pile': 5118, 'ironing': 5119, 'chinky': 5120, 'yummmm': 5121, 'åòharry': 5122, 'dehydrated': 5123, 'machi': 5124, 'useful': 5125, 'wallet': 5126, 'tbs': 5127, 'persolvo': 5128, 'sept': 5129, 'forå£38': 5130, 'kath': 5131, 'manchester': 5132, 'length': 5133, 'fringe': 5134, 'lips': 5135, 'aust': 5136, 'bk': 5137, 'bec': 5138, 'resent': 5139, 'error': 5140, 'queries': 5141, 'customersqueries': 5142, 'netvision': 5143, 'uncomfortable': 5144, 'fifty': 5145, '09095350301': 5146, 'erotic': 5147, 'ecstacy': 5148, 'evaluation': 5149, 'hooked': 5150, 'loosu': 5151, 'careless': 5152, 'blastin': 5153, 'occur': 5154, 'rajnikant': 5155, 'ocean': 5156, 'sunoco': 5157, 'kit': 5158, 'strip': 5159, '1013': 5160, 'ig11': 5161, 'oja': 5162, 'install': 5163, 'browse': 5164, 'artists': 5165, '08712103738': 5166, 't91': 5167, '09057039994': 5168, 'headstart': 5169, 'rummer': 5170, 'recognises': 5171, 'reserve': 5172, 'thirunelvali': 5173, 'tackle': 5174, 'rg21': 5175, '4jx': 5176, 'beth': 5177, 'aunts': 5178, 'charlie': 5179, '09058094455': 5180, 'spacebucks': 5181, 'jackpot': 5182, '81010': 5183, 'dbuk': 5184, 'lccltd': 5185, '4403ldnw1a7rw18': 5186, '09061104283': 5187, '50pm': 5188, 'narcotics': 5189, 'bunch': 5190, 'lotto': 5191, 'ducking': 5192, 'chinchillas': 5193, 'dizzamn': 5194, 'suitemates': 5195, 'kitty': 5196, 'shaved': 5197, 'hcl': 5198, 'requires': 5199, 'freshers': 5200, 'suman': 5201, 'telephonic': 5202, 'nimbomsons': 5203, 'initiate': 5204, \"'melle\": 5205, 'melle': 5206, 'minnaminunginte': 5207, 'nurungu': 5208, 'vettam': 5209, 'flatter': 5210, 'pints': 5211, 'carlin': 5212, 'youåõre': 5213, 'kaila': 5214, 'pai': 5215, 'seh': 5216, 'toilet': 5217, 'stolen': 5218, 'cops': 5219, 'ps': 5220, 'grown': 5221, '9755': 5222, 'gota': 5223, 'placement': 5224, 'sleeps': 5225, 'drizzling': 5226, 'packing': 5227, 'cheyyamo': 5228, 'lord': 5229, 'rings': 5230, 'soundtrack': 5231, 'stdtxtrate': 5232, 'lingo': 5233, 'jiayin': 5234, '08714712379': 5235, 'cheque': 5236, \"fuck's\": 5237, 'tallahassee': 5238, 'merely': 5239, 'relationship': 5240, 'wherevr': 5241, 'gudnyt': 5242, '08712402972': 5243, 'responsibilities': 5244, 'thanx4': 5245, 'cer': 5246, 'uploaded': 5247, '07801543489': 5248, 'latests': 5249, 'llc': 5250, 'ny': 5251, 'usa': 5252, 'mt': 5253, 'msgrcvd18': 5254, 'vill': 5255, '1030': 5256, 'orc': 5257, 'fondly': 5258, '1225': 5259, 'å£50award': 5260, 'uworld': 5261, 'qbank': 5262, 'assessment': 5263, 'inever': 5264, 'presnts': 5265, 'bcz': 5266, 'jeevithathile': 5267, 'irulinae': 5268, 'neekunna': 5269, 'prakasamanu': 5270, 'sneham': 5271, 'prakasam': 5272, 'ennal': 5273, \"'that\": 5274, 'mns': 5275, \"is'love'\": 5276, 'icic': 5277, 'pee': 5278, 'bottle': 5279, 'amused': 5280, 'reception': 5281, 'leg': 5282, 'musta': 5283, 'overdid': 5284, 'gaze': 5285, 'amanda': 5286, 'regard': 5287, 'renewing': 5288, 'upgrading': 5289, 'subject': 5290, 'bar': 5291, 'badrith': 5292, 'ammae': 5293, 'steering': 5294, 'velly': 5295, 'charles': 5296, 'jap': 5297, 'plum': 5298, 'smacks': 5299, 'annoyin': 5300, '08718723815': 5301, 'jewelry': 5302, 'covers': 5303, 'convincing': 5304, '3650': 5305, '09066382422': 5306, '300603': 5307, 'bcm4284': 5308, 'chic': 5309, 'declare': 5310, \"no's\": 5311, 'broadband': 5312, 'installation': 5313, 'woodland': 5314, 'avenue': 5315, 'parish': 5316, 'magazine': 5317, 'prasanth': 5318, 'ettans': 5319, 'wuld': 5320, 'everyboy': 5321, 'xxxxxxxx': 5322, 'denying': 5323, 'ofcourse': 5324, 'spys': 5325, '09071517866': 5326, '150ppmpobox10183bhamb64xe': 5327, 'coherently': 5328, 'heehee': 5329, 'ibhltd': 5330, 'ldnw15h': 5331, 'goods': 5332, 'dessert': 5333, 'unmits': 5334, '08715203685': 5335, '4xx26': 5336, 'hearing': 5337, \"s'fine\": 5338, 'spreadsheet': 5339, 'determine': 5340, 'entire': 5341, 'scrumptious': 5342, 'gloucesterroad': 5343, 'uup': 5344, 'wall': 5345, '09065394514': 5346, 'mandan': 5347, 'korean': 5348, \"leona's\": 5349, 'topic': 5350, '09077818151': 5351, 'calls1': 5352, '50ppm': 5353, '30s': 5354, 'santacalling': 5355, 'loo': 5356, 'ed': 5357, 'ams': 5358, 'thus': 5359, 'yalru': 5360, 'astne': 5361, 'innu': 5362, 'mundhe': 5363, 'halla': 5364, 'bilo': 5365, 'edhae': 5366, 'ovr': 5367, 'vargu': 5368, 'fried': 5369, 'spares': 5370, 'looovvve': 5371, '1apple': 5372, '1tulsi': 5373, 'leaf': 5374, '1lemon': 5375, '1cup': 5376, 'problms': 5377, 'litres': 5378, 'watr': 5379, 'diseases': 5380, 'snd': 5381, 'shattered': 5382, 'tex': 5383, 'mecause': 5384, 'werebored': 5385, 'okden': 5386, 'uin': 5387, 'soundåõs': 5388, 'likeyour': 5389, 'gr8fun': 5390, 'updat': 5391, 'countinlots': 5392, 'xxxxx': 5393, 'karnan': 5394, \"harish's\": 5395, 'transfred': 5396, 'acnt': 5397, 'mumhas': 5398, 'beendropping': 5399, 'theplace': 5400, 'adress': 5401, 'fatty': 5402, 'weekdays': 5403, 'nails': 5404, 'missionary': 5405, 'gei': 5406, 'tron': 5407, 'dl': 5408, 'doesn\\x89û÷t': 5409, 'useless': 5410, 'diesel': 5411, 'scratches': 5412, 'punto': 5413, 'realise': 5414, 'backwards': 5415, 'cartons': 5416, 'shelves': 5417, 'prasad': 5418, 'enufcredeit': 5419, 'tocall': 5420, 'ileave': 5421, 'muhommad': 5422, 'penny': 5423, '08718738034': 5424, '09061701939': 5425, 's89': 5426, 'sundayish': 5427, 'varaya': 5428, 'elaya': 5429, 'canåõt': 5430, 'isnåõt': 5431, 'shite': 5432, 'kip': 5433, 'weightloss': 5434, 'ebay': 5435, 'afternon': 5436, 'interviews': 5437, 'occurs': 5438, 'treadmill': 5439, 'craigslist': 5440, 'scarcasim': 5441, 'sophas': 5442, 'secondary': 5443, 'applying': 5444, 'ogunrinde': 5445, 'starving': 5446, 'lavender': 5447, '7634': 5448, '7684': 5449, 'wondarfull': 5450, 'financial': 5451, 'soz': 5452, 'imat': 5453, 'mums': 5454, '2moro': 5455, 'eviction': 5456, 'spiral': 5457, 'michael': 5458, 'riddance': 5459, 'lou': 5460, 'gailxx': 5461, 'sentence': 5462, 'educational': 5463, 'thasa': 5464, 'messed': 5465, 'yards': 5466, 'bergkamp': 5467, 'margin': 5468, '78': 5469, 'falling': 5470, 'smeone': 5471, 'poortiyagi': 5472, 'odalebeku': 5473, 'hanumanji': 5474, 'hanuman': 5475, 'bajarangabali': 5476, 'maruti': 5477, 'pavanaputra': 5478, 'sankatmochan': 5479, 'ramaduth': 5480, 'mahaveer': 5481, 'janarige': 5482, 'ivatte': 5483, 'kalisidare': 5484, 'olage': 5485, 'ondu': 5486, 'keluviri': 5487, 'maretare': 5488, 'inde': 5489, 'dodda': 5490, 'problum': 5491, 'nalli': 5492, 'siguviri': 5493, 'idu': 5494, 'matra': 5495, 'neglet': 5496, '8800': 5497, 'psp': 5498, '087016248': 5499, 'alternative': 5500, \"term's\": 5501, 'regretted': 5502, 'showr': 5503, '820554ad0a1705572711': 5504, 'trueåác': 5505, 'ringtoneåá': 5506, \"it'll\": 5507, 'samantha': 5508, 'guitar': 5509, 'impress': 5510, 'doug': 5511, 'realizes': 5512, 'wlcome': 5513, 'intrude': 5514, 'burial': 5515, 'swell': 5516, 'recharged': 5517, 'sum': 5518, 'lucyxx': 5519, 'peach': 5520, 'tasts': 5521, 'lush': 5522, 'hu': 5523, 'navigate': 5524, 'choosing': 5525, 'require': 5526, 'guidance': 5527, \"it'snot\": 5528, \"child's\": 5529, 'unintentional': 5530, 'nonetheless': 5531, 'guessing': 5532, 'guessed': 5533, 'laready': 5534, 'studies': 5535, 'anyones': 5536, 'mag': 5537, 'avo': 5538, '09066368470': 5539, '09050000332': 5540, 'rstm': 5541, 'sw7': 5542, '3ss': 5543, 'ortxt': 5544, 'disappointment': 5545, 'optimistic': 5546, 'tiring': 5547, 'concentrating': 5548, 'dolls': 5549, 'patrick': 5550, 'swayze': 5551, '07808247860': 5552, '08719899229': 5553, '40411': 5554, 'shrek': 5555, 'popping': 5556, 'ibuprofens': 5557, 'proper': 5558, 'tongued': 5559, \"how're\": 5560, 'throwing': 5561, 'deciding': 5562, 'dorothy': 5563, 'kiefer': 5564, 'granite': 5565, 'explosive': 5566, 'nasdaq': 5567, 'cdgt': 5568, 'helloooo': 5569, 'welcomes': 5570, 'sd': 5571, '49': 5572, 'bundle': 5573, 'deals': 5574, 'avble': 5575, 'mf': 5576, '09050000928': 5577, 'relieved': 5578, 'westonzoyland': 5579, 'matric': 5580, 'steam': 5581, 'attraction': 5582, 'sorrows': 5583, 'proove': 5584, 'praises': 5585, 'curry': 5586, 'makiing': 5587, 'sambar': 5588, 'wrkin': 5589, 'creative': 5590, 'port': 5591, 'manky': 5592, 'scouse': 5593, 'travelling': 5594, 'inmind': 5595, 'recreation': 5596, 'bookedthe': 5597, 'hut': 5598, 'sabarish': 5599, 'rv': 5600, 'rvx': 5601, 'kilos': 5602, \"'hex'\": 5603, '3mobile': 5604, 'chatlines': 5605, 'inclu': 5606, 'servs': 5607, 'l8er': 5608, 'mega': 5609, 'bailiff': 5610, 'galileo': 5611, 'dobby': 5612, 'loxahatchee': 5613, 'burning': 5614, 'swhrt': 5615, 'balloon': 5616, 'audiitions': 5617, 'relocate': 5618, 'jerk': 5619, \"joke's\": 5620, 'fees': 5621, 'florida': 5622, 'gosh': 5623, 'spose': 5624, 'limping': 5625, 'aa': 5626, 'holy': 5627, 'you\\x89û÷ll': 5628, 'z': 5629, '09066358361': 5630, 'y87': 5631, 'spice': 5632, 'gsex': 5633, '2667': 5634, 'wc1n': 5635, '3xx': 5636, 'main': 5637, 'sources': 5638, 'unhappiness': 5639, 'blimey': 5640, 'exercise': 5641, 'langport': 5642, 'go2sri': 5643, 'lanka': 5644, 'chk': 5645, 'dict': 5646, \"table's\": 5647, 'occupied': 5648, 'didntgive': 5649, 'bellearlier': 5650, 'jez': 5651, 'todo': 5652, 'workand': 5653, 'whilltake': 5654, 'buzzzz': 5655, 'vibrator': 5656, 'shake': 5657, 'hangin': 5658, 'bookshelf': 5659, 'witin': 5660, 'bawling': 5661, 'failure': 5662, 'failing': 5663, \"when're\": 5664, 'mcr': 5665, 'excited': 5666, 'chik': 5667, \"100's\": 5668, 'filthy': 5669, 'filth': 5670, '69669': 5671, 'saristar': 5672, 'e14': 5673, '9yt': 5674, '08701752560': 5675, '450p': 5676, 'stop2': 5677, 'base': 5678, 'crucify': 5679, 'l': 5680, 'prix': 5681, 'shouting': 5682, 'thinl': 5683, 'sachin': 5684, 'breakfast': 5685, 'hamper': 5686, 'payed': 5687, 'suganya': 5688, 'sticky': 5689, 'buttons': 5690, 'durham': 5691, 'reserved': 5692, 'seat': 5693, 'arrived': 5694, 'hassling': 5695, 'andres': 5696, 'haughaighgtujhyguj': 5697, 'detail': 5698, 'headin': 5699, 'faith': 5700, 'remembrs': 5701, 'forgets': 5702, 'everytime': 5703, 'sickness': 5704, 'significant': 5705, 'ba': 5706, 'dao': 5707, 'keypad': 5708, '49557': 5709, 'betta': 5710, 'aging': 5711, 'products': 5712, 'knickers': 5713, 'beg': 5714, '01223585236': 5715, 'nikiyu4': 5716, 'boggy': 5717, 'biatch': 5718, 'meatballs': 5719, 'bangbabes': 5720, 'bangb': 5721, 'slacking': 5722, 'asus': 5723, 'reformat': 5724, 'presents': 5725, 'nicky': 5726, 'thout': 5727, 'becausethey': 5728, '09058098002': 5729, 'pobox1': 5730, 'w14rg': 5731, 'soooo': 5732, 'provider': 5733, 'tming': 5734, 'property': 5735, 'iåõd': 5736, 'animal': 5737, 'documents': 5738, 'submitted': 5739, 'stapati': 5740, '4w': 5741, 'technologies': 5742, 'axis': 5743, '88800': 5744, '89034': 5745, '08718711108': 5746, 'poem': 5747, 'woo': 5748, 'hoo': 5749, 'leading': 5750, '151': 5751, 'pause': 5752, 'surrender': 5753, 'hotmail': 5754, 'tallent': 5755, 'wasting': 5756, 'pubs': 5757, 'frankie': 5758, 'bennys': 5759, 'warner': 5760, 'entertain': 5761, 'khelate': 5762, 'kintu': 5763, 'opponenter': 5764, 'dhorte': 5765, 'lage': 5766, 'singapore': 5767, 'hottest': 5768, 'fudge': 5769, 'oreos': 5770, 'sun0819': 5771, 'hopeing': 5772, 'wasn\\x89û÷t': 5773, 'sisters': 5774, 'concerned': 5775, 'yuou': 5776, 'spot': 5777, 'promotion': 5778, '8714714': 5779, 'host': 5780, 'based': 5781, 'idps': 5782, 'linux': 5783, 'systems': 5784, '0578': 5785, 'heading': 5786, 'prediction': 5787, 'anythiing': 5788, 'okmail': 5789, 'pressies': 5790, 'conacted': 5791, '09111030116': 5792, 'pobox12n146tf15': 5793, 'wewa': 5794, '130': 5795, 'iriver': 5796, '255': 5797, '128': 5798, 'quarter': 5799, 'fixes': 5800, 'spelling': 5801, 'smoothly': 5802, 'challenging': 5803, 'txtstar': 5804, 'jide': 5805, 'visiting': 5806, 'parachute': 5807, 'gran': 5808, 'onlyfound': 5809, 'afew': 5810, 'cusoon': 5811, 'honi': 5812, 'recorded': 5813, 'cloth': 5814, 'pounded': 5815, 'mnths': 5816, 'ringing': 5817, 'houseful': 5818, 'brats': 5819, 'pulling': 5820, 'call09050000327': 5821, '08712402578': 5822, 'jeremiah': 5823, 'french': 5824, 'fooled': 5825, '078498': 5826, '08719180219': 5827, 'handsome': 5828, 'finding': 5829, 'offering': 5830, 'evr': 5831, 'msgrcvd': 5832, 'skip': 5833, 'customercare': 5834, 'beerage': 5835, 'fishrman': 5836, 'sack': 5837, 'strtd': 5838, 'throwin': 5839, '1stone': 5840, \"mrng''\": 5841, 'fireplace': 5842, 'icon': 5843, 'healthy': 5844, 'optin': 5845, 'bbc': 5846, 'charts': 5847, 'trauma': 5848, 'swear': 5849, 'cooped': 5850, 'select': 5851, 'astrology': 5852, 'gram': 5853, 'rules': 5854, 'bend': 5855, 'thia': 5856, 'inlude': 5857, 'previews': 5858, 'hire': 5859, 'hitman': 5860, 'abbey': 5861, 'jaklin': 5862, 'fiting': 5863, 'load': 5864, 'mj': 5865, 'proze': 5866, 'norcorp': 5867, 'conference': 5868, 'unconscious': 5869, 'adults': 5870, 'abnormally': 5871, 'wtc': 5872, 'weiyi': 5873, \"yetty's\": 5874, 'triple': 5875, 'echo': 5876, 'meg': 5877, 'invoices': 5878, 'sweater': 5879, 'mango': 5880, 'ami': 5881, 'parchi': 5882, 'kicchu': 5883, 'kaaj': 5884, 'korte': 5885, 'iccha': 5886, 'korche': 5887, 'tul': 5888, 'pours': 5889, 'sum1': 5890, 'celebrations': 5891, 'ditto': 5892, \"fr'ndship\": 5893, 'needle': 5894, '4few': 5895, 'conected': 5896, '9t': 5897, 'dusk': 5898, 'puzzles': 5899, 'lag': 5900, 'objection': 5901, 'guides': 5902, '07815296484': 5903, '41782': 5904, 'bani': 5905, 'å£750': 5906, '087187272008': 5907, 'now1': 5908, 'teju': 5909, 'funeral': 5910, 'audrey': 5911, 'ooooooh': 5912, 'yoville': 5913, 'ktv': 5914, 'snickering': 5915, 'chords': 5916, 'wikipedia': 5917, 'affectionate': 5918, 'sao': 5919, 'designation': 5920, 'developer': 5921, 'flaked': 5922, \"shit's\": 5923, 'pull': 5924, \"taylor's\": 5925, 'steamboat': 5926, 'decorating': 5927, 'reminded': 5928, 'missions': 5929, 'pocy': 5930, 'heåõs': 5931, 'bloke': 5932, '2getha': 5933, 'genus': 5934, 'syllabus': 5935, 'leanne': 5936, 'strict': 5937, 'hillsborough': 5938, '08714712412': 5939, 'disappeared': 5940, \"parents'\": 5941, 'spoil': 5942, 'lov': 5943, 'grr': 5944, 'pharmacy': 5945, 'smiled': 5946, 'melody': 5947, 'cough': 5948, 'hostile': 5949, 'shhhhh': 5950, 'sculpture': 5951, 'hooch': 5952, 'toaday': 5953, 'splat': 5954, 'grazed': 5955, 'knees': 5956, 'stayed': 5957, 'b4u': 5958, 'marsms': 5959, 'b4utele': 5960, '08717168528': 5961, 'babies': 5962, 'league': 5963, 'alter': 5964, 'aldrine': 5965, 'rtm': 5966, 'tops': 5967, 'grab': 5968, 'babyjontet': 5969, 'sweets': 5970, 'apologize': 5971, 'juswoke': 5972, 'boatin': 5973, 'docks': 5974, 'spinout': 5975, 'polo': 5976, '373': 5977, 'w1j': 5978, '6hl': 5979, 'wining': 5980, '946': 5981, 'vat': 5982, 'desparately': 5983, 'olowoyey': 5984, 'usc': 5985, 'argentina': 5986, 'enna': 5987, 'kalaachutaarama': 5988, 'jot': 5989, '2bold': 5990, 'hunting': 5991, \"armand's\": 5992, 'alto18': 5993, '44345': 5994, 'inner': 5995, 'tigress': 5996, 'pleasured': 5997, 'bunkers': 5998, 'daytime': 5999, 'busty': 6000, '09099726429': 6001, 'janinexx': 6002, '7cfca1a': 6003, 'continued': 6004, 'president': 6005, 'browsin': 6006, 'compulsory': 6007, 'nange': 6008, 'bakra': 6009, 'kalstiya': 6010, 'logoff': 6011, 'rugby': 6012, 'sts': 6013, 'grumble': 6014, \"party's\": 6015, 'contribute': 6016, 'greatly': 6017, '09061743386': 6018, 'mornin': 6019, 'thanku': 6020, 'changing': 6021, 'diapers': 6022, 'owed': 6023, 'urination': 6024, 'poyyarikatur': 6025, 'kolathupalayam': 6026, 'unjalur': 6027, 'erode': 6028, 'macha': 6029, 'mindset': 6030, 'banned': 6031, 'coimbatore': 6032, 'woul': 6033, 'curfew': 6034, 'gibe': 6035, 'getsleep': 6036, 'studdying': 6037, 'tooth': 6038, 'or2optout': 6039, 'hv9d': 6040, 'eachother': 6041, 'mapquest': 6042, 'dogwood': 6043, 'stash': 6044, 'raji': 6045, \"textin'\": 6046, 'å£s': 6047, 'orno': 6048, 'veggie': 6049, 'gotto': 6050, '220cm2': 6051, 'interfued': 6052, 'shortcode': 6053, '83332': 6054, '08081263000': 6055, 'refunded': 6056, 'heroes': 6057, 'tips': 6058, 'philosophical': 6059, 'hole': 6060, 'bx526': 6061, 'stuffing': 6062, 'defer': 6063, 'admission': 6064, 'board': 6065, 'overheating': 6066, 'reslove': 6067, 'inst': 6068, \"8'o\": 6069, 'repent': 6070, 'splash': 6071, 'tonexs': 6072, 'renewed': 6073, 'clubzed': 6074, 'billing': 6075, 'blank': 6076, 'cocksuckers': 6077, 'ipads': 6078, 'worthless': 6079, 'novelty': 6080, 'axel': 6081, 'akon': 6082, 'eyed': 6083, 'hesitate': 6084, 'weakness': 6085, 'notebook': 6086, 'emerging': 6087, 'fiend': 6088, 'impede': 6089, 'hesitant': 6090, 'dose': 6091, 'tablet': 6092, 'robs': 6093, 'avenge': 6094, 'ericson': 6095, 'der': 6096, 'luks': 6097, 'modl': 6098, 'necesity': 6099, 'witout': 6100, \"hw'd\": 6101, 'colleg': 6102, \"wat'll\": 6103, 'wth': 6104, 'functions': 6105, 'events': 6106, \"espe'll\": 6107, 'irritated': 6108, '4wrd': 6109, 'wthout': 6110, 'takecare': 6111, 'irritation': 6112, 'cc100p': 6113, '545': 6114, 'simpsons': 6115, '2007': 6116, 'band': 6117, 'beach': 6118, 'expected': 6119, 'bridgwater': 6120, 'banter': 6121, 'fwiw': 6122, 'afford': 6123, 'catches': 6124, 'experiencehttp': 6125, 'vouch4me': 6126, 'etlp': 6127, 'holby': 6128, 'african': 6129, 'soil': 6130, 'fifth': 6131, 'woozles': 6132, 'weasels': 6133, 'exeter': 6134, '08714712388': 6135, 'drunkard': 6136, 'memorable': 6137, 'oranges': 6138, 'upd8': 6139, 'warwick': 6140, 'tmw': 6141, 'canceled': 6142, \"havn't\": 6143, 'locks': 6144, 'jenne': 6145, 'ystrday': 6146, 'spiritual': 6147, 'puzzeles': 6148, 'dying': 6149, 'stalk': 6150, 'profiles': 6151, 'crashed': 6152, 'cuddled': 6153, 'chinatown': 6154, 'porridge': 6155, 'claypot': 6156, 'yam': 6157, 'fishhead': 6158, 'beehoon': 6159, 'wknd': 6160, 'unsubscribed': 6161, 'hunks': 6162, 'gotbabes': 6163, 'subscriptions': 6164, \"don't4get2text\": 6165, 'mary': 6166, 'jane': 6167, 'sittin': 6168, 'drops': 6169, 'scary': 6170, '09061744553': 6171, 'polyh': 6172, 'washob': 6173, 'nobbing': 6174, 'nickey': 6175, 'platt': 6176, 'nri': 6177, 'continent': 6178, 'fainting': 6179, 'housework': 6180, 'cuppa': 6181, 'chad': 6182, 'gymnastics': 6183, 'christians': 6184, 'sppok': 6185, 'str8': 6186, 'classic': 6187, '200p': 6188, 'lambda': 6189, 'browser': 6190, 'surf': 6191, 'marvel': 6192, 'ultimate': 6193, '83338': 6194, '8ball': 6195, '07753741225': 6196, '08715203677': 6197, '42478': 6198, 'smoked': 6199, 'spoons': 6200, 'afterwards': 6201, 'batt': 6202, 'improved': 6203, 'brolly': 6204, 'franxx': 6205, '09064017305': 6206, 'pobox75ldns7': 6207, 'zac': 6208, 'sometext': 6209, 'weirdy': 6210, 'brownies': 6211, 'screwd': 6212, 'hectic': 6213, 'practising': 6214, 'curtsey': 6215, 'acknowledgement': 6216, 'astoundingly': 6217, 'tactless': 6218, 'oath': 6219, 'fo': 6220, 'bmw': 6221, 'urgently': 6222, 'shortage': 6223, 'source': 6224, 'arng': 6225, 'amt': 6226, 'submitting': 6227, 'dearer': 6228, 'x29': 6229, '09065989180': 6230, 'spirit': 6231, 'burden': 6232, 'taught': 6233, 'becaus': 6234, 'verifying': 6235, 'prabu': 6236, '945': 6237, 'dump': 6238, 'heap': 6239, 'lowes': 6240, '09090900040': 6241, 'extreme': 6242, 'sic': 6243, '7mp': 6244, '0870753331018': 6245, 'slower': 6246, 'maniac': 6247, 'playng': 6248, 'gmw': 6249, 'connected': 6250, 'dudette': 6251, 'sindu': 6252, '09061221066': 6253, 'fromm': 6254, 'shadow': 6255, 'ffffffffff': 6256, 'recycling': 6257, 'earning': 6258, 'wetherspoons': 6259, 'gobi': 6260, 'surname': 6261, 'clue': 6262, 'begins': 6263, 'buyers': 6264, '08702490080': 6265, 'jam': 6266, 'hannaford': 6267, 'wheat': 6268, 'chex': 6269, 'arr': 6270, 'oscar': 6271, 'recpt': 6272, 'lamp': 6273, 'lapdancer': 6274, 'g2': 6275, '1da': 6276, '150ppmsg': 6277, 'sufficient': 6278, 'elephant': 6279, 'shove': 6280, 'um': 6281, 'discussed': 6282, 'entirely': 6283, 'nanny': 6284, 'paining': 6285, 'broken': 6286, 'hourish': 6287, 'treats': 6288, '9061100010': 6289, 'wire3': 6290, '1st4terms': 6291, 'mobcudb': 6292, 'kotees': 6293, 'sinco': 6294, 'payee': 6295, 'icicibank': 6296, 'frauds': 6297, 'disclose': 6298, 'tarot': 6299, '85555': 6300, 'deficient': 6301, 'gep': 6302, 'atten': 6303, 'stink': 6304, '09061749602': 6305, '528': 6306, 'hp20': 6307, '1yf': 6308, 'thankyou': 6309, 'mcfly': 6310, 'ab': 6311, 'sara': 6312, 'jorge': 6313, 'smith': 6314, 'impressed': 6315, 'funs': 6316, 'twinks': 6317, 'scallies': 6318, 'skins': 6319, 'jocks': 6320, '08712466669': 6321, 'formatting': 6322, 'detroit': 6323, 'multiply': 6324, 'independently': 6325, 'showed': 6326, 'dept': 6327, '08717507382': 6328, 'uses': 6329, 'dreading': 6330, 'thou': 6331, 'judgemental': 6332, 'fridays': 6333, 'neshanth': 6334, 'toledo': 6335, 'positions': 6336, 'kama': 6337, 'sutra': 6338, 'infra': 6339, 'pouch': 6340, \"all's\": 6341, 'yupz': 6342, 'dub': 6343, 'je': 6344, 'ambitious': 6345, 'orh': 6346, 'weaknesses': 6347, \"knee's\": 6348, 'exposes': 6349, 'pulls': 6350, 'wicked': 6351, 'dual': 6352, 'seventeen': 6353, 'ml': 6354, 'sleepy': 6355, '08715203652': 6356, '42810': 6357, 'postponed': 6358, 'stocked': 6359, 'kavalan': 6360, 'justbeen': 6361, 'overa': 6362, 'brains': 6363, 'mush': 6364, 'commit': 6365, 'oral': 6366, 'wondar': 6367, 'flim': 6368, 'antelope': 6369, 'toplay': 6370, 'fieldof': 6371, 'selfindependence': 6372, 'contention': 6373, 'uhhhhrmm': 6374, 'september': 6375, 'inconvenient': 6376, 'prometazine': 6377, 'syrup': 6378, '5mls': 6379, 'feed': 6380, 'applausestore': 6381, 'monthlysubscription': 6382, 'max6': 6383, 'csc': 6384, 'machines': 6385, 'steyn': 6386, 'wicket': 6387, 'broth': 6388, 'ramen': 6389, 'crucial': 6390, \"someone's\": 6391, \"x'mas\": 6392, 'ree': 6393, 'olol': 6394, \"biola's\": 6395, 'fne': 6396, 'involved': 6397, 'consensus': 6398, '09099725823': 6399, 'minmoremobsemspobox45po139wa': 6400, '7250': 6401, 'surly': 6402, '09058091870': 6403, 'hmv1': 6404, 'deny': 6405, 'mailed': 6406, 'varma': 6407, 'watever': 6408, 'built': 6409, 'lonlines': 6410, 'lotz': 6411, 'memories': 6412, 'tonght': 6413, 'situations': 6414, 'loosing': 6415, 'nachos': 6416, 'learned': 6417, '08707500020': 6418, 'club4mobiles': 6419, '87070': 6420, 'club4': 6421, 'box1146': 6422, 'mk45': 6423, '2wt': 6424, 'november': 6425, '09061104276': 6426, 'costå£3': 6427, '75max': 6428, 'jumpers': 6429, 'hat': 6430, 'belt': 6431, 'cribbs': 6432, 'corvettes': 6433, 'charming': 6434, 'boooo': 6435, 'adjustable': 6436, 'cooperative': 6437, 'allows': 6438, 'videosound': 6439, 'videosounds': 6440, 'musicnews': 6441, '09701213186': 6442, 'suppose': 6443, 'archive': 6444, 'freezing': 6445, 'sooooo': 6446, 'gyno': 6447, 'belong': 6448, 'comprehensive': 6449, 'fones': 6450, 'wild': 6451, 'stop2stop': 6452, 'gokila': 6453, 'intrepid': 6454, 'duo': 6455, 'xclusive': 6456, 'clubsaisai': 6457, 'speciale': 6458, 'zouk': 6459, 'nichols': 6460, 'roses': 6461, '07946746291': 6462, '07880867867': 6463, '4719': 6464, '523': 6465, 'pity': 6466, 'suggestions': 6467, 'nose': 6468, 'essay': 6469, '83039': 6470, '62735': 6471, 'å£450': 6472, 'accommodationvouchers': 6473, 'mustprovide': 6474, '15541': 6475, 'kidding': 6476, 'papa': 6477, 'punj': 6478, 'tiwary': 6479, 'wrongly': 6480, 'mei': 6481, 'haven': 6482, 'bao': 6483, 'sugardad': 6484, 'chase': 6485, 'crossing': 6486, \"'need'\": 6487, \"'comfort'\": 6488, \"'luxury'\": 6489, 'sold': 6490, 'mw': 6491, 'tuth': 6492, '077xxx': 6493, '09066362206': 6494, 'lunchtime': 6495, 'organise': 6496, 'drpd': 6497, 'deeraj': 6498, 'deepak': 6499, 'andros': 6500, 'steal': 6501, '28thfeb': 6502, 'rounds': 6503, 'foward': 6504, 'okday': 6505, 'image': 6506, 'dom': 6507, 'xam': 6508, 'hall': 6509, 'hesitation': 6510, 'intha': 6511, 'ponnungale': 6512, 'ipaditan': 6513, 'greatness': 6514, 'expressoffer': 6515, 'rubber': 6516, '09058094594': 6517, '0789xxxxxxx': 6518, '2find': 6519, 'bari': 6520, 'hudgi': 6521, 'yorge': 6522, 'pataistha': 6523, 'ertini': 6524, 'africa': 6525, 'avin': 6526, 'showers': 6527, 'possessiveness': 6528, 'poured': 6529, 'golden': 6530, 'rayman': 6531, 'golf': 6532, 'activ8': 6533, 'termsapply': 6534, 'footie': 6535, 'phil': 6536, 'neville': 6537, 'cthen': 6538, 'conclusion': 6539, 'references': 6540, 'equally': 6541, 'uneventful': 6542, 'pesky': 6543, 'cyclists': 6544, 'sg': 6545, 'phyhcmk': 6546, 'pc1323': 6547, 'sc': 6548, 'specialise': 6549, 'wad': 6550, 'patty': 6551, 'haul': 6552, 'wavering': 6553, 'decisions': 6554, 'individual': 6555, 'heal': 6556, 'fring': 6557, 'forfeit': 6558, '09053750005': 6559, '310303': 6560, '08718725756': 6561, '140ppm': 6562, 'teams': 6563, '09058094454': 6564, 'tirunelvai': 6565, 'expired': 6566, 'monoc': 6567, 'monos': 6568, 'polyc': 6569, 'stream': 6570, '0871212025016': 6571, 'asia': 6572, 'rocking': 6573, 'ashes': 6574, 'achan': 6575, 'amma': 6576, 'cps': 6577, 'outages': 6578, 'conserve': 6579, 'silly': 6580, 'isn\\x89û÷t': 6581, 'theres': 6582, 'chick': 6583, 'boobs': 6584, 'fans': 6585, '0870141701216': 6586, '4txt': 6587, '120p': 6588, 'pert': 6589, 'head\\x89û': 6590, 'alle': 6591, 'mone': 6592, 'eppolum': 6593, 'pole': 6594, 'allalo': 6595, 'vpod': 6596, 'outsider': 6597, 'deus': 6598, 'subscribers': 6599, 'endowed': 6600, 'immed': 6601, 'seperated': 6602, '\\x8eö´\\x89ó': 6603, '\\x8bû¬ud': 6604, '09058094583': 6605, 'squeeeeeze': 6606, 'frndshp': 6607, 'luvd': 6608, 'bothering': 6609, 'crickiting': 6610, 'radiator': 6611, 'shoul': 6612, 'cheery': 6613, 'predicting': 6614, 'accumulation': 6615, 'taj': 6616, 'lesser': 6617, 'known': 6618, 'facts': 6619, \"shahjahan's\": 6620, 'wifes': 6621, 'shahjahan': 6622, 'killed': 6623, 'arises': 6624, 'hari': 6625, 'court': 6626, \"anything's\": 6627, 'envy': 6628, \"see's\": 6629, 'ow': 6630, '60': 6631, '400thousad': 6632, 'wither': 6633, '23f': 6634, '23g': 6635, 'lubly': 6636, 'hogolo': 6637, 'kodstini': 6638, 'madstini': 6639, 'hogli': 6640, 'mutai': 6641, 'eerulli': 6642, 'kodthini': 6643, 'gek1510': 6644, 'punish': 6645, 'sip': 6646, 'dumb': 6647, 'tai': 6648, 'feng': 6649, 'reservations': 6650, 'squeezed': 6651, 'mention': 6652, 'served': 6653, 'iraq': 6654, 'afghanistan': 6655, 'stable': 6656, 'honest': 6657, 'traveling': 6658, 'dartboard': 6659, 'condition': 6660, 'doubles': 6661, 'trebles': 6662, 'adsense': 6663, 'approved': 6664, 'gauti': 6665, 'sehwag': 6666, 'parts': 6667, 'fortune': 6668, '09050002311': 6669, 'b4280703': 6670, '08718727868': 6671, '0906346330': 6672, '47': 6673, 'po19': 6674, '2ez': 6675, 'dentists': 6676, 'bowls': 6677, 'sometme': 6678, \"dobby's\": 6679, '08715205273': 6680, 'unni': 6681, 'recharge': 6682, 'chickened': 6683, 'woould': 6684, 'progress': 6685, 'freaky': 6686, 'hustle': 6687, 'forth': 6688, 'harlem': 6689, 'phony': 6690, 'hlday': 6691, 'camp': 6692, 'amrca': 6693, 'serena': 6694, 'stalking': 6695, '8pm': 6696, 'hidden': 6697, 'jog': 6698, 'memory': 6699, 'sian': 6700, 'hearts': 6701, 'cruisin': 6702, '09061743810': 6703, 'girlie': 6704, 'bleak': 6705, 'doit': 6706, 'mymoby': 6707, 'someonone': 6708, '09064015307': 6709, 'box334sk38ch': 6710, 'quitting': 6711, 'least5times': 6712, \"wudn't\": 6713, 'half8th': 6714, 'investigate': 6715, 'somewhr': 6716, 'crushes': 6717, 'coincidence': 6718, 'smsservices': 6719, 'yourinclusive': 6720, 'inpersonation': 6721, 'flea': 6722, 'forums': 6723, 'affidavit': 6724, 'twiggs': 6725, 'courtroom': 6726, '85233': 6727, 'adventure': 6728, 'professional': 6729, 'tiger': 6730, 'woods': 6731, 'smell': 6732, 'tobacco': 6733, 'monster': 6734, 'nooooooo': 6735, 'cable': 6736, 'outage': 6737, 'rt': 6738, 'pro': 6739, '08701237397': 6740, 'redeemable': 6741, 'rr': 6742, 'leo': 6743, 'wi': 6744, 'nz': 6745, '3000': 6746, \"weather's\": 6747, 'coveragd': 6748, 'vasai': 6749, \"4'o\": 6750, 'sry': 6751, 'tats': 6752, 'enjoyin': 6753, 'yourjob': 6754, 'iåõllspeak': 6755, 'soonlots': 6756, 'dependents': 6757, 'thanks2': 6758, 'degrees': 6759, 'hos': 6760, 'needy': 6761, 'the4th': 6762, 'october': 6763, 'flyng': 6764, 'star': 6765, 'aries': 6766, '4goten': 6767, 'scammers': 6768, 'further': 6769, 'every1': 6770, 'ava': 6771, 'goodtime': 6772, 'oli': 6773, 'melnite': 6774, 'ifink': 6775, 'everythin': 6776, 'l8rs': 6777, 'respectful': 6778, 'slob': 6779, 'recorder': 6780, 'canname': 6781, 'australia': 6782, 'mquiz': 6783, 'å£600': 6784, 'landmark': 6785, 'bob': 6786, 'barry': 6787, '83738': 6788, 'shaking': 6789, 'phonebook': 6790, '448712404000': 6791, '08712404000': 6792, 'dough': 6793, '09064018838': 6794, 'cro1327': 6795, 'hack': 6796, 'backdoor': 6797, 'fraction': 6798, 'neo69': 6799, '09050280520': 6800, 'subscribe': 6801, 'dps': 6802, 'bcm': 6803, '8027': 6804, 'involve': 6805, 'imposed': 6806, 'gsoh': 6807, 'spam': 6808, 'gigolo': 6809, 'mens': 6810, 'oncall': 6811, 'mjzgroup': 6812, '08714342399': 6813, '50rcvd': 6814, 'grandma': 6815, 'parade': 6816, 'nelson': 6817, \"bb's\": 6818, 'youphone': 6819, 'athome': 6820, 'youwanna': 6821, 'typical': 6822, '6times': 6823, 'nutter': 6824, 'cutter': 6825, 'ctter': 6826, 'cttergg': 6827, 'cttargg': 6828, 'ctargg': 6829, 'ctagg': 6830, 'ie': 6831, 'restrict': 6832, 'forwarding': 6833, \"cali's\": 6834, 'complexities': 6835, 'freely': 6836, 'taxes': 6837, 'outrageous': 6838, 'prayers': 6839, 'boltblue': 6840, 'poly3': 6841, 'jamz': 6842, 'toxic': 6843, 'slices': 6844, \"prashanthettan's\": 6845, 'fps': 6846, 'unfortunately': 6847, 'idew': 6848, 'physics': 6849, 'contacts': 6850, 'purple': 6851, 'yelow': 6852, 'brown': 6853, 'webadres': 6854, 'geting': 6855, 'harri': 6856, 'occasion': 6857, 'celebrated': 6858, 'reflection': 6859, 'values': 6860, 'affections': 6861, 'traditions': 6862, 'lambu': 6863, 'ji': 6864, 'batchlor': 6865, \"fren's\": 6866, 'brum': 6867, 'bits': 6868, 'ubandu': 6869, 'disk': 6870, 'dismissial': 6871, 'internal': 6872, 'extract': 6873, \"1000's\": 6874, 'virgins': 6875, 'sexual': 6876, 'theirs': 6877, '69911': 6878, '07808': 6879, 'xxxxxx': 6880, '08719899217': 6881, 'salad': 6882, 'beers': 6883, 'spotty': 6884, 'province': 6885, 'sterling': 6886, 'tke': 6887, 'environment': 6888, 'terrific': 6889, 'tau': 6890, 'piah': 6891, 'lasting': 6892, 'clas': 6893, \"account's\": 6894, 'arm': 6895, 'thirtyeight': 6896, 'pence': 6897, 'kickboxing': 6898, 'burgundy': 6899, 'captaining': 6900, 'forgive': 6901, '08718726970': 6902, 'olave': 6903, 'mandara': 6904, 'trishul': 6905, 'referin': 6906, \"mei's\": 6907, 'feelin': 6908, 'lnly': 6909, 'msg150p': 6910, '2rcv': 6911, 'hlp': 6912, '08712317606': 6913, 'waliking': 6914, 'reaction': 6915, 'mentionned': 6916, 'ahhh': 6917, 'vaguely': 6918, 'complacent': 6919, 'sonathaya': 6920, 'soladha': 6921, 'apples': 6922, 'pairs': 6923, 'malarky': 6924, 'ga': 6925, 'mad1': 6926, 'mad2': 6927, '88888': 6928, 'risk': 6929, 'lions': 6930, 'lionm': 6931, 'lionp': 6932, 'armenia': 6933, 'swann': 6934, 'ashley': 6935, 'teenager': 6936, 'ijust': 6937, 'talked': 6938, 'needa': 6939, 'misplaced': 6940, 'nighters': 6941, 'persevered': 6942, 'hype': 6943, 'studio': 6944, 'increase': 6945, 'alertfrom': 6946, 'jeri': 6947, 'stewartsize': 6948, '2kbsubject': 6949, 'low': 6950, 'prescripiton': 6951, 'drvgsto': 6952, 'vijaykanth': 6953, '08700469649': 6954, 'box420': 6955, 'joys': 6956, 'lifeis': 6957, 'daywith': 6958, 'somewheresomeone': 6959, 'tosend': 6960, 'greeting': 6961, 'linear': 6962, 'algebra': 6963, 'importantly': 6964, 'fujitsu': 6965, 'ibm': 6966, 'hp': 6967, 'virtual': 6968, 'print': 6969, 'outs': 6970, 'stressfull': 6971, 'adds': 6972, 'reassurance': 6973, 'breather': 6974, 'granted': 6975, 'fulfil': 6976, 'ambrith': 6977, 'madurai': 6978, 'arun': 6979, 'dha': 6980, 'marrge': 6981, 'fucks': 6982, 'entertaining': 6983, 'hugh': 6984, 'laurie': 6985, 'forced': 6986, \"hubby's\": 6987, '89938': 6988, 'strings': 6989, '50ea': 6990, 'otbox': 6991, '731': 6992, 'la1': 6993, '7ws': 6994, 'alian': 6995, 'scrounge': 6996, 'vomitin': 6997, 'somewhat': 6998, 'laden': 6999, 'wrecked': 7000, 'ujhhhhhhh': 7001, 'sandiago': 7002, 'parantella': 7003, 'bbd': 7004, 'pooja': 7005, 'sweatter': 7006, 'categories': 7007, 'ethnicity': 7008, 'census': 7009, 'transcribing': 7010, 'funk': 7011, 'tones2u': 7012, 'squatting': 7013, '30th': 7014, 'areyouunique': 7015, 'dealer': 7016, 'lunsford': 7017, 'truro': 7018, 'ext': 7019, 'ft': 7020, 'combination': 7021, 'reassuring': 7022, 'units': 7023, 'accent': 7024, '4years': 7025, 'dental': 7026, 'nmde': 7027, 'sapna': 7028, 'manege': 7029, \"y'day\": 7030, 'hogidhe': 7031, 'chinnu': 7032, 'swalpa': 7033, 'agidhane': 7034, 'hurting': 7035, 'meaningful': 7036, 'compromised': 7037, 'ned': 7038, 'whereare': 7039, 'friendsare': 7040, 'thekingshead': 7041, 'canlove': 7042, 'thinked': 7043, 'withdraw': 7044, 'anyhow': 7045, '45pm': 7046, \"that'll\": 7047, 'wamma': 7048, 'doggin': 7049, 'dogs': 7050, 'spageddies': 7051, 'stripes': 7052, 'skirt': 7053, 'clearing': 7054, 'fox': 7055, 'frndsship': 7056, 'dwn': 7057, 'agents': 7058, 'experiment': 7059, 'chapel': 7060, 'frontierville': 7061, 'appointments': 7062, 'gurl': 7063, 'appropriate': 7064, 'birthdate': 7065, \"partner's\": 7066, 'method': 7067, 'arabian': 7068, 'steed': 7069, 'rebooting': 7070, 'mising': 7071, 'crash': 7072, '2morrow': 7073, '8lb': 7074, '7oz': 7075, 'brilliantly': 7076, 'gopalettan': 7077, 'participate': 7078, 'julianaland': 7079, 'oblivious': 7080, 'nannys': 7081, '645': 7082, 'asthma': 7083, 'attack': 7084, '08712400200': 7085, 'squishy': 7086, 'mwahs': 7087, 'jack': 7088, 'helpful': 7089, 'pretend': 7090, 'hypotheticalhuagauahahuagahyuhagga': 7091, 'payasam': 7092, 'rinu': 7093, 'genuine': 7094, '100percent': 7095, 'reserves': 7096, \"tantrum's\": 7097, 'hen': 7098, 'elvis': 7099, 'presleys': 7100, 'brison': 7101, 'language': 7102, 'synced': 7103, 'shangela': 7104, 'breathing': 7105, 'neck': 7106, \"something's\": 7107, 'sections': 7108, 'clearer': 7109, 'maths': 7110, 'chapter': 7111, 'recieve': 7112, 'teletext': 7113, 'photoshop': 7114, 'å£125': 7115, 'freeentry': 7116, 'xt': 7117, '09058095201': 7118, 'resend': 7119, 'salam': 7120, 'wahleykkum': 7121, 'grace': 7122, 'visitor': 7123, 'shijutta': 7124, 'openings': 7125, 'upcharge': 7126, 'perpetual': 7127, 'dd': 7128, 'guessin': 7129, 'complaining': 7130, 'blogging': 7131, 'magicalsongs': 7132, 'blogspot': 7133, \"world's\": 7134, 'happiest': 7135, 'characters': 7136, 'differences': 7137, 'underdtand': 7138, 'canteen': 7139, 'thkin': 7140, 'nd': 7141, 'bhaskar': 7142, 'ola': 7143, 'reliant': 7144, 'chit': 7145, 'logon': 7146, '8883': 7147, 'cm': 7148, '4217': 7149, 'w1a': 7150, '6zf': 7151, '118p': 7152, 'played': 7153, 'panasonic': 7154, 'bluetoothhdset': 7155, 'doublemins': 7156, 'doubletxt': 7157, '08718738002': 7158, '48922': 7159, '0870737910216yrs': 7160, '09058091854': 7161, 'box385': 7162, 'm6': 7163, '6wu': 7164, 'priest': 7165, 'mirror': 7166, 'baaaaabe': 7167, 'misss': 7168, 'youuuuu': 7169, 'ignoring': 7170, 'companion': 7171, 'chef': 7172, 'listener': 7173, 'organizer': 7174, 'sympathetic': 7175, 'athletic': 7176, 'courageous': 7177, 'determined': 7178, 'dependable': 7179, 'psychologist': 7180, 'pest': 7181, 'exterminator': 7182, 'psychiatrist': 7183, 'healer': 7184, 'stylist': 7185, 'aaniye': 7186, 'pudunga': 7187, 'venaam': 7188, 'compliments': 7189, 'helens': 7190, 'princes': 7191, \"friend's\": 7192, 'sink': 7193, 'paces': 7194, 'cage': 7195, 'surrounded': 7196, 'cuck': 7197, 'brdget': 7198, 'jones': 7199, 'evaporated': 7200, 'stealing': 7201, \"employer's\": 7202, '08718727870150ppm': 7203, 'compass': 7204, 'gnun': 7205, 'way2sms': 7206, 'avalarr': 7207, 'hollalater': 7208, 'disconnected': 7209, 'mentor': 7210, 'percent': 7211, '08712402779': 7212, 'can\\x89û÷t': 7213, '087147123779am': 7214, \"dad's\": 7215, \"tyler's\": 7216, 'minor': 7217, 'destination': 7218, 'velusamy': 7219, \"sir's\": 7220, 'facilities': 7221, '146tf150p': 7222, 'japanese': 7223, 'proverb': 7224, 'jeans': 7225, 'ello': 7226, 'mandy': 7227, 'sullivan': 7228, 'hotmix': 7229, 'fm': 7230, 'easter': 7231, '09041940223': 7232, 'transferred': 7233, 'hundreds': 7234, 'handsomes': 7235, 'beauties': 7236, 'aunties': 7237, 'mylife': 7238, 'receipts': 7239, 'pendent': 7240, '449050000301': 7241, '09050000301': 7242, 'leads': 7243, 'nte': 7244, 'fredericksburg': 7245, 'onbus': 7246, '4a': 7247, 'donyt': 7248, 'latelyxxx': 7249, \"xin's\": 7250, 'brah': 7251, '61200': 7252, 'packs': 7253, 'itcould': 7254, 'seing': 7255, 'asssssholeeee': 7256, 'loses': 7257, 'chief': 7258, '1172': 7259, 'removal': 7260, '08708034412': 7261, '09061701851': 7262, 'k61': 7263, '12hours': 7264, '98321561': 7265, 'familiar': 7266, 'jade': 7267, 'paul': 7268, 'barmed': 7269, 'chile': 7270, 'subletting': 7271, \"åòit's\": 7272, 'flowers': 7273, '505060': 7274, '12mths': 7275, '2price': 7276, '100txt': 7277, \"b'tooth\": 7278, 'd3wv': 7279, 'biola': 7280, 'lux': 7281, 'james': 7282, 'eh74rr': 7283, '0871277810710p': 7284, \"unicef's\": 7285, 'asian': 7286, 'tsunami': 7287, 'disaster': 7288, 'fund': 7289, '864233': 7290, 'tscs08714740323': 7291, '1winawk': 7292, '50perweeksub': 7293, 'losers': 7294, \"they'll\": 7295, 'slurp': 7296, 'sday': 7297, '330': 7298, '1120': 7299, '1205': 7300, 'tall': 7301, 'predict': 7302, 'providing': 7303, 'assistance': 7304, 'bristol': 7305, 'les': 7306, 'rudi': 7307, 'snoring': 7308, 'ink': 7309, 'cl': 7310, 'europe': 7311, 'romcapspam': 7312, 'presence': 7313, 'outgoing': 7314, '09050003091': 7315, 'c52': 7316, 'aids': 7317, 'patent': 7318, 'suffering': 7319, 'dysentry': 7320, '09061209465': 7321, 'suprman': 7322, 'matrix3': 7323, 'starwars3': 7324, 'saeed': 7325, 'hallaq': 7326, 'emailed': 7327, 'yifeng': 7328, '01223585334': 7329, '2c': 7330, 'shagged': 7331, '2end': 7332, 'bitching': 7333, 'acted': 7334, \"nobody's\": 7335, 'shiny': 7336, 'warming': 7337, 'pocked': 7338, 'profile': 7339, 'bpo': 7340, 'ritten': 7341, 'fold': 7342, 'flying': 7343, 'throws': 7344, 'brothers': 7345, 'applebees': 7346, 'actor': 7347, 'ericsson': 7348, 'salesman': 7349, '08452810071': 7350, 'billy': 7351, 'jogging': 7352, 'chocolate': 7353, 'melt': 7354, 'forgotten': 7355, 'scrappy': 7356, 'digi': 7357, 'fab': 7358, 'coupla': 7359, 'natwest': 7360, 'sorta': 7361, 'blown': 7362, 'aaooooright': 7363, 'tunji': 7364, 'neft': 7365, 'beneficiary': 7366, 'butting': 7367, 'heads': 7368, 'vs': 7369, 'stoners': 7370, '08719839835': 7371, 'mgs': 7372, '89123': 7373, 'adventuring': 7374, 'k718': 7375, '09065069120': 7376, '420': 7377, 'sitter': 7378, 'kaitlyn': 7379, 'plumbers': 7380, 'wrench': 7381, 'bike': 7382, 'earliest': 7383, \"aunty's\": 7384, 'promises': 7385, 'gotten': 7386, \"guy's\": 7387, 'reache': 7388, 'jackson': 7389, 'weirdo': 7390, 'multis': 7391, 'poorly': 7392, 'punishment': 7393, 'brb': 7394, 'kill': 7395, '09066660100': 7396, '2309': 7397, 'tim': 7398, 'bollox': 7399, 'tol': 7400, 'prakesh': 7401, 'draws': 7402, '09058094565': 7403, 'smartcall': 7404, '68866': 7405, 'subscriptn3gbp': 7406, '08448714184': 7407, 'landlineonly': 7408, 'dine': 7409, 'macs': 7410, 'toot': 7411, 'prepared': 7412, 'apology': 7413, '09050000878': 7414, 'slippery': 7415, 'totes': 7416, 'spaces': 7417, 'embassy': 7418, 'sumfing': 7419, 'shant': 7420, 'nosy': 7421, 'reacting': 7422, 'freaked': 7423, 'noncomittal': 7424, 'ideas': 7425, 'luton': 7426, '0125698789': 7427, '08717898035': 7428, 'cudnt': 7429, 'drove': 7430, 'ctla': 7431, 'ente': 7432, 'ishtamayoo': 7433, 'bakrid': 7434, 'tahan': 7435, 'anot': 7436, 'success': 7437, 'filling': 7438, 'ridden': 7439, \"station's\": 7440, 'goodmate': 7441, 'asusual': 7442, 'cheered': 7443, 'franyxxxxx': 7444, 'u\\x89ûªve': 7445, 'instant': 7446, '08715203028': 7447, '9th': 7448, 'breaker': 7449, 'deluxe': 7450, 'features': 7451, 'graphics': 7452, 'bbdeluxe': 7453, 'spjanuary': 7454, 'noooooooo': 7455, 'youdoing': 7456, '0089': 7457, 'digits': 7458, '09063442151': 7459, 'level': 7460, 'torrents': 7461, 'particularly': 7462, 'slowing': 7463, 'rajitha': 7464, 'ranju': 7465, 'urfeeling': 7466, 'bettersn': 7467, 'probthat': 7468, 'overdose': 7469, 'sn': 7470, 'lovejen': 7471, 'prescribed': 7472, 'taxi': 7473, 'ing': 7474, 'sozi': 7475, 'culdnt': 7476, 'talkbut': 7477, 'wannatell': 7478, 'wenwecan': 7479, 'fuuuuck': 7480, 'cutting': 7481, 'arty': 7482, 'collages': 7483, 'tryin': 7484, 'chachi': 7485, 'pl': 7486, 'tiz': 7487, 'kanagu': 7488, 'shola': 7489, 'sagamu': 7490, 'lautech': 7491, 'vital': 7492, 'completes': 7493, 'education': 7494, 'zealand': 7495, 'que': 7496, 'pases': 7497, 'buen': 7498, 'tiempo': 7499, 'greece': 7500, 'stereo': 7501, 'mi': 7502, 'nuerologist': 7503, 'whn': 7504, 'duffer': 7505, 'dismay': 7506, '08712402902': 7507, 'decades': 7508, 'goverment': 7509, 'expects': 7510, 'printing': 7511, 'handing': 7512, 'nick': 7513, 'types': 7514, 'yeovil': 7515, 'motor': 7516, 'max': 7517, 'spatula': 7518, 'beads': 7519, 'agent': 7520, 'goodies': 7521, 'mat': 7522, 'everyso': 7523, 'panicks': 7524, '09050005321': 7525, '3pound': 7526, '09064017295': 7527, 'dats': 7528, 'dogg': 7529, '69969': 7530, 'bcmsfwc1n3xx': 7531, \"alex's\": 7532, 'sooo': 7533, 'swimsuit': 7534, 'outbid': 7535, 'simonwatson5120': 7536, 'shinco': 7537, 'plyr': 7538, 'smsrewards': 7539, 'notifications': 7540, 'hanks': 7541, 'lotsly': 7542, 'owe': 7543, '69888nyt': 7544, '31p': 7545, 'prevent': 7546, 'dehydration': 7547, 'fluids': 7548, 'das': 7549, 'iknow': 7550, 'wellda': 7551, 'peril': 7552, 'studentfinancial': 7553, 'sorts': 7554, 'western': 7555, 'pears': 7556, 'obedient': 7557, 'howda': 7558, 'mathe': 7559, 'samachara': 7560, 'computational': 7561, 'gimmi': 7562, 'goss': 7563, 'networking': 7564, 'field': 7565, 'stage': 7566, 'mobsi': 7567, '391784': 7568, 'maintaining': 7569, 'pump': 7570, 'uncountable': 7571, '24m': 7572, 'iron': 7573, 'depression': 7574, 'text82228': 7575, 'db': 7576, 'spiffing': 7577, 'workage': 7578, 'get4an18th': 7579, 'lodging': 7580, 'barred': 7581, 'twat': 7582, 'dungerees': 7583, 'decking': 7584, 'punch': 7585, 'atleast': 7586, 'shakespeare': 7587, 'hdd': 7588, 'casing': 7589, 'xafter': 7590, 'cst': 7591, 'chg': 7592, 'ovulate': 7593, '3wks': 7594, 'amk': 7595, 'friendships': 7596, 'randomlly': 7597, 'bffs': 7598, 'carly': 7599, 'adding': 7600, 'zeros': 7601, 'savings': 7602, 'qi': 7603, 'suddenly': 7604, '54': 7605, 'resubmit': 7606, 'expiry': 7607, 'gage': 7608, 'deck': 7609, 'cnupdates': 7610, 'newsletter': 7611, 'alerts': 7612, '0a': 7613, 'companies': 7614, 'responsible': 7615, 'suppliers': 7616, 'intend': 7617, 'iwas': 7618, 'marine': 7619, 'itried2tell': 7620, 'urmom': 7621, 'careabout': 7622, 'arrow': 7623, 'treasure': 7624, 'win150ppmx3age16': 7625, '083': 7626, '6089': 7627, 'gam': 7628, 'passable': 7629, 'phd': 7630, '5years': 7631, 'smsing': 7632, 'goggles': 7633, 'bw': 7634, 'form': 7635, 'clark': 7636, 'utter': 7637, '0721072': 7638, 'paranoid': 7639, 'dippeditinadew': 7640, 'lovingly': 7641, 'itwhichturnedinto': 7642, 'gifted': 7643, 'tomeandsaid': 7644, '2006': 7645, 'fifa': 7646, 'vid': 7647, 'keyword': 7648, 'guoyang': 7649, 'spark': 7650, 'rawring': 7651, 'xoxo': 7652, 'missy': 7653, 'belongs': 7654, 'fated': 7655, 'shoranur': 7656, 'fuelled': 7657, 'concern': 7658, 'prior': 7659, 'grief': 7660, 'arithmetic': 7661, 'percentages': 7662, 'allo': 7663, 'braved': 7664, 'buses': 7665, 'triumphed': 7666, 'b\\x89û÷ham': 7667, 'darker': 7668, 'styling': 7669, 'pop': 7670, 'w4': 7671, '5wq': 7672, 'costumes': 7673, 'yowifes': 7674, '08714712394': 7675, '5k': 7676, '09064011000': 7677, 'cr01327bt': 7678, 'fixedline': 7679, 'lined': 7680, '09061213237': 7681, '177': 7682, 'm227xy': 7683, 'erutupalam': 7684, 'thandiyachu': 7685, 'dice': 7686, 'brownie': 7687, '08719181513': 7688, 'solved': 7689, 'opened': 7690, 'shag': 7691, 'sextextuk': 7692, 'xxuk': 7693, '69876': 7694, 'apologetic': 7695, 'fallen': 7696, 'actin': 7697, 'spoilt': 7698, 'badly': 7699, 'easily': 7700, 'lengths': 7701, 'behalf': 7702, 'stunning': 7703, 'showrooms': 7704, 'shaping': 7705, 'fowler': 7706, 'accident': 7707, 'a30': 7708, 'divert': 7709, 'wadebridge': 7710, '09094100151': 7711, 'cast': 7712, 'gbp5': 7713, 'box61': 7714, 'm60': 7715, '1er': 7716, 'nigh': 7717, 'onwords': 7718, 'mtnl': 7719, 'mumbai': 7720, \"cann't\": 7721, 'possession': 7722, '09058095107': 7723, 's3xy': 7724, 'conversations': 7725, 'senses': 7726, 'overemphasise': 7727, 'notixiquating': 7728, 'laxinorficated': 7729, 'bambling': 7730, 'entropication': 7731, 'oblisingately': 7732, 'opted': 7733, 'masteriastering': 7734, 'amplikater': 7735, 'fidalfication': 7736, 'champlaxigating': 7737, 'atrocious': 7738, 'wotz': 7739, 'junna': 7740, 'expert': 7741, 'flew': 7742, 'enjoying': 7743, 'adewale': 7744, 'egbon': 7745, '0871277810910p': 7746, 'priority': 7747, 'needing': 7748, 'sez': 7749, 'arab': 7750, 'evry1': 7751, 'eshxxxxxxxxxxx': 7752, 'torture': 7753, '2mro': 7754, '730': 7755, 'å£1000call': 7756, '09071512432': 7757, '300603t': 7758, 'callcost150ppmmobilesvary': 7759, 'hyde': 7760, 'mel': 7761, 'opps': 7762, \"tt's\": 7763, 'restocked': 7764, 'maintain': 7765, 'sh': 7766, 'jas': 7767, 'mostly': 7768, 'footbl': 7769, 'crckt': 7770, 'båõday': 7771, 'vava': 7772, 'lastest': 7773, 'stereophonics': 7774, 'marley': 7775, 'dizzee': 7776, 'racal': 7777, 'libertines': 7778, 'strokes': 7779, 'nookii': 7780, 'bookmark': 7781, 'habba': 7782, 'grinule': 7783, 'faded': 7784, 'glory': 7785, 'ralphs': 7786, 'approaching': 7787, 'sankranti': 7788, 'republic': 7789, 'shivratri': 7790, 'ugadi': 7791, 'fools': 7792, 'independence': 7793, 'teachers': 7794, 'childrens': 7795, 'festival': 7796, 'dasara': 7797, 'mornings': 7798, 'afternoons': 7799, 'rememberi': 7800, \"your's\": 7801, 'luckily': 7802, 'starring': 7803, 'abroad': 7804, 'xxsp': 7805, 'visionsms': 7806, 'stopcost': 7807, '08712400603': 7808, 'parties': 7809, 'ay': 7810, 'smaller': 7811, 'capacity': 7812, 'seekers': 7813, '09061743811': 7814, 'tmorrow': 7815, 'accomodate': 7816, 'hearin': 7817, 'eldest': 7818, 'pure': 7819, 'hearted': 7820, 'enemies': 7821, 'smiley': 7822, 'crowd': 7823, 'cab': 7824, 'steps': 7825, 'deduct': 7826, 'andre': 7827, \"virgil's\": 7828, 'shanghai': 7829, 'cya': 7830, 'hero': 7831, 'apt': 7832, 'thesis': 7833, 'theoretically': 7834, 'ingredients': 7835, \"ny's\": 7836, 'split': 7837, 'sang': 7838, \"'uptown\": 7839, \"girl'\": 7840, \"80's\": 7841, 'volcanoes': 7842, 'erupt': 7843, 'arise': 7844, 'hurricanes': 7845, 'sway': 7846, 'aroundn': 7847, 'disasters': 7848, 'drugdealer': 7849, 'jelly': 7850, 'glo': 7851, 'completing': 7852, 'clarification': 7853, '08715500022': 7854, 'rpl': 7855, 'cnl': 7856, 'rushing': 7857, 'obey': 7858, '3lions': 7859, 'juliana': 7860, 'bomb': 7861, 'appy': 7862, 'fizz': 7863, 'contains': 7864, '09064019788': 7865, 'box42wr29c': 7866, '09094646899': 7867, 'biggest': 7868, 'vu': 7869, 'bcm1896wc1n3xx': 7870, 'maaaan': 7871, 'folks': 7872, 'community': 7873, '07099833605': 7874, '9280114': 7875, 'sales': 7876, 'shifad': 7877, 'raised': 7878, 'complaint': 7879, 'banneduk': 7880, 'tunde': 7881, 'jetton': 7882, 'checkup': 7883, 'smear': 7884, 'dang': 7885, 'kanji': 7886, 'flirtparty': 7887, 'replys150': 7888, 'wan2': 7889, 'westlife': 7890, 'm8': 7891, 'unbreakable': 7892, 'untamed': 7893, 'unkempt': 7894, '83049': 7895, 'starve': 7896, 'varunnathu': 7897, 'edukkukayee': 7898, 'raksha': 7899, 'ollu': 7900, 'meetins': 7901, 'cumin': 7902, '09099726395': 7903, 'thread': 7904, 'apeshit': 7905, \"sms'd\": 7906, 'beneath': 7907, 'pale': 7908, 'audrie': 7909, 'autocorrect': 7910, \"rct'\": 7911, 'thnq': 7912, 'adrian': 7913, 'vatian': 7914, 'caveboy': 7915, 'shitstorm': 7916, 'attributed': 7917, 'portege': 7918, 'm100': 7919, 'raviyog': 7920, 'peripherals': 7921, 'bhayandar': 7922, 'lim': 7923, 'asjesus': 7924, 'srs': 7925, 'invitation': 7926, 'cali': 7927, \"bloke's\": 7928, 'weddin': 7929, 'mys': 7930, 'yah': 7931, 'jod': 7932, 'revision': 7933, 'keris': 7934, 'smidgin': 7935, 'dirt': 7936, 'flowing': 7937, 'chores': 7938, 'exist': 7939, 'hail': 7940, 'mist': 7941, 'bluray': 7942, '600': 7943, '400': 7944, 'deltomorrow': 7945, 'beside': 7946, 'shell': 7947, 'unconsciously': 7948, 'unhappy': 7949, '09065394973': 7950, 'cld': 7951, 'nosh': 7952, 'chiong': 7953, 'accidant': 7954, 'tookplace': 7955, 'ghodbandar': 7956, 'traffic': 7957, 'slovely': 7958, 'guesses': 7959, 'attach': 7960, '08719899230': 7961, 'loyal': 7962, 'customers': 7963, '09066380611': 7964, '84484': 7965, '2yrs': 7966, 'sq825': 7967, 'arrival': 7968, 'chez': 7969, 'jules': 7970, 'protect': 7971, 'sib': 7972, 'sensitive': 7973, 'passwords': 7974, 'anybody': 7975, '087104711148': 7976, '0796xxxxxx': 7977, 'prizeawaiting': 7978, 'engalnd': 7979, 'mia': 7980, 'elliot': 7981, 'kissing': 7982}\n"
     ]
    }
   ],
   "source": [
    "tokenizer = Tokenizer()\n",
    "tokenizer.fit_on_texts(X_train)\n",
    "\n",
    "word_dict = tokenizer.word_index\n",
    "\n",
    "print(len(word_dict))\n",
    "print(word_dict)\n",
    "\n",
    "# for key in word_dict.keys():\n",
    "#     print(key, word_dict[key])"
   ]
  },
  {
   "cell_type": "markdown",
   "metadata": {
    "id": "zm8NHyW52oSv"
   },
   "source": [
    "## Create index sequences from sentences (word sequences)\n",
    "\n",
    "Transfer the word sequences to indexes"
   ]
  },
  {
   "cell_type": "code",
   "execution_count": 8,
   "metadata": {
    "colab": {
     "base_uri": "https://localhost:8080/"
    },
    "executionInfo": {
     "elapsed": 160,
     "status": "ok",
     "timestamp": 1678257390927,
     "user": {
      "displayName": "Pengxia Wu",
      "userId": "06372533848067580748"
     },
     "user_tz": 480
    },
    "id": "CF6yAVJM2oSv",
    "outputId": "14c4cf85-393d-4297-e20c-fc62c8be91b2"
   },
   "outputs": [
    {
     "name": "stdout",
     "output_type": "stream",
     "text": [
      "[[172, 211, 12, 13, 87, 92, 45, 8, 32, 3799, 231, 9, 7, 86, 6, 81, 1020, 5, 3800, 7, 1999, 11, 635, 241, 21, 25, 436, 928, 1110, 178, 131, 206, 929, 2564, 23, 1, 154, 80, 2, 110, 82, 48, 2, 135, 11, 929, 227, 98, 1639], [257, 307, 2, 1426, 2565, 6, 33, 30, 1245, 1246, 15, 49, 5, 337, 709, 7, 1427, 1428, 581, 68, 34, 2000, 88, 2, 2001], [22, 636, 13, 283, 211, 7, 26, 3, 17, 94, 1429, 67], [13, 296, 2, 30, 18, 4, 2002, 1640, 491, 16, 22, 1247, 37, 930, 258, 183, 931, 671, 401, 349, 1111, 1112, 1113, 1114, 1021, 8, 4, 553, 360, 16], [99, 203, 166, 1, 184, 3, 117, 3801, 148, 2, 52, 48, 3802, 22]]\n"
     ]
    }
   ],
   "source": [
    "X_train_seq = tokenizer.texts_to_sequences(X_train) \n",
    "X_test_seq = tokenizer.texts_to_sequences(X_test)\n",
    "\n",
    "print(X_train_seq[:5])\n",
    "\n",
    "# print(X_train_seq[0])\n",
    "# print(f\"The length of the first sentence is: {len(X_train_seq[0])}\")\n",
    "# print(df_train.iloc[0,:])\n",
    "# for el in X_train_seq[0]:\n",
    "#     print(word_dict[el], end=' ')\n",
    "\n",
    "\n",
    "# print(X_train_seq[1])\n",
    "# print(f\"The length of the second sentence is: {len(X_train_seq[1])}\")\n",
    "\n",
    "# print(df_train.iloc[1,:])\n",
    "# for el in X_train_seq[1]:\n",
    "#     print(word_dict[el], end=' ')"
   ]
  },
  {
   "cell_type": "markdown",
   "metadata": {
    "id": "Q14ZDN_32oSv"
   },
   "source": [
    "## Create pads with fix length\n",
    "Maximum length is 20"
   ]
  },
  {
   "cell_type": "code",
   "execution_count": 9,
   "metadata": {
    "colab": {
     "base_uri": "https://localhost:8080/"
    },
    "executionInfo": {
     "elapsed": 208,
     "status": "ok",
     "timestamp": 1678257393636,
     "user": {
      "displayName": "Pengxia Wu",
      "userId": "06372533848067580748"
     },
     "user_tz": 480
    },
    "id": "3nP7CEuy2oSv",
    "outputId": "d466231e-d5f3-431f-c44a-e8d5420c3e0f"
   },
   "outputs": [
    {
     "name": "stdout",
     "output_type": "stream",
     "text": [
      "[[ 178  131  206  929 2564   23    1  154   80    2  110   82   48    2\n",
      "   135   11  929  227   98 1639]\n",
      " [   6   33   30 1245 1246   15   49    5  337  709    7 1427 1428  581\n",
      "    68   34 2000   88    2 2001]\n",
      " [  22  636   13  283  211    7   26    3   17   94 1429   67    0    0\n",
      "     0    0    0    0    0    0]\n",
      " [  22 1247   37  930  258  183  931  671  401  349 1111 1112 1113 1114\n",
      "  1021    8    4  553  360   16]\n",
      " [  99  203  166    1  184    3  117 3801  148    2   52   48 3802   22\n",
      "     0    0    0    0    0    0]]\n"
     ]
    },
    {
     "data": {
      "text/plain": [
       "(4458, 20)"
      ]
     },
     "execution_count": 9,
     "metadata": {},
     "output_type": "execute_result"
    }
   ],
   "source": [
    "X_train_pad = pad_sequences(X_train_seq, maxlen=20, padding='post') \n",
    "X_test_pad = pad_sequences(X_test_seq, maxlen=20, padding='post')\n",
    "print(X_train_pad[:5])\n",
    "X_train_pad.shape\n",
    "\n",
    "#Qs: what happened for the sentences shorter than maxlen=20 ? "
   ]
  },
  {
   "cell_type": "markdown",
   "metadata": {
    "id": "SSpmgN6P2oSw"
   },
   "source": [
    "## Create Keras-model\n",
    "Use a simple RNN or \"Long Short Term Memory\" (LSTM)"
   ]
  },
  {
   "cell_type": "code",
   "execution_count": 10,
   "metadata": {
    "colab": {
     "base_uri": "https://localhost:8080/"
    },
    "executionInfo": {
     "elapsed": 470,
     "status": "ok",
     "timestamp": 1678257538448,
     "user": {
      "displayName": "Pengxia Wu",
      "userId": "06372533848067580748"
     },
     "user_tz": 480
    },
    "id": "jYn1OImO2oSw",
    "outputId": "7a212d1a-2027-4c4c-b540-ed7c82a039d9"
   },
   "outputs": [
    {
     "name": "stdout",
     "output_type": "stream",
     "text": [
      "Model: \"sequential\"\n",
      "_________________________________________________________________\n",
      " Layer (type)                Output Shape              Param #   \n",
      "=================================================================\n",
      " embedding (Embedding)       (None, 20, 20)            159660    \n",
      "                                                                 \n",
      " lstm (LSTM)                 (None, 400)               673600    \n",
      "                                                                 \n",
      " dense (Dense)               (None, 1)                 401       \n",
      "                                                                 \n",
      "=================================================================\n",
      "Total params: 833,661\n",
      "Trainable params: 833,661\n",
      "Non-trainable params: 0\n",
      "_________________________________________________________________\n"
     ]
    },
    {
     "name": "stderr",
     "output_type": "stream",
     "text": [
      "2023-03-08 15:20:36.236314: I tensorflow/stream_executor/cuda/cuda_gpu_executor.cc:975] successful NUMA node read from SysFS had negative value (-1), but there must be at least one NUMA node, so returning NUMA node zero\n",
      "2023-03-08 15:20:36.236568: W tensorflow/stream_executor/platform/default/dso_loader.cc:64] Could not load dynamic library 'libcublas.so.11'; dlerror: libcublas.so.11: cannot open shared object file: No such file or directory; LD_LIBRARY_PATH: /home/pengxia/anaconda3:\n",
      "2023-03-08 15:20:36.236608: W tensorflow/stream_executor/platform/default/dso_loader.cc:64] Could not load dynamic library 'libcublasLt.so.11'; dlerror: libcublasLt.so.11: cannot open shared object file: No such file or directory; LD_LIBRARY_PATH: /home/pengxia/anaconda3:\n",
      "2023-03-08 15:20:36.236644: W tensorflow/stream_executor/platform/default/dso_loader.cc:64] Could not load dynamic library 'libcufft.so.10'; dlerror: libcufft.so.10: cannot open shared object file: No such file or directory; LD_LIBRARY_PATH: /home/pengxia/anaconda3:\n",
      "2023-03-08 15:20:36.236677: W tensorflow/stream_executor/platform/default/dso_loader.cc:64] Could not load dynamic library 'libcurand.so.10'; dlerror: libcurand.so.10: cannot open shared object file: No such file or directory; LD_LIBRARY_PATH: /home/pengxia/anaconda3:\n",
      "2023-03-08 15:20:36.236711: W tensorflow/stream_executor/platform/default/dso_loader.cc:64] Could not load dynamic library 'libcusolver.so.11'; dlerror: libcusolver.so.11: cannot open shared object file: No such file or directory; LD_LIBRARY_PATH: /home/pengxia/anaconda3:\n",
      "2023-03-08 15:20:36.236746: W tensorflow/stream_executor/platform/default/dso_loader.cc:64] Could not load dynamic library 'libcusparse.so.11'; dlerror: libcusparse.so.11: cannot open shared object file: No such file or directory; LD_LIBRARY_PATH: /home/pengxia/anaconda3:\n",
      "2023-03-08 15:20:36.236778: W tensorflow/stream_executor/platform/default/dso_loader.cc:64] Could not load dynamic library 'libcudnn.so.8'; dlerror: libcudnn.so.8: cannot open shared object file: No such file or directory; LD_LIBRARY_PATH: /home/pengxia/anaconda3:\n",
      "2023-03-08 15:20:36.236782: W tensorflow/core/common_runtime/gpu/gpu_device.cc:1850] Cannot dlopen some GPU libraries. Please make sure the missing libraries mentioned above are installed properly if you would like to use GPU. Follow the guide at https://www.tensorflow.org/install/gpu for how to download and setup the required libraries for your platform.\n",
      "Skipping registering GPU devices...\n",
      "2023-03-08 15:20:36.237181: I tensorflow/core/platform/cpu_feature_guard.cc:193] This TensorFlow binary is optimized with oneAPI Deep Neural Network Library (oneDNN) to use the following CPU instructions in performance-critical operations:  AVX2 AVX512F AVX512_VNNI FMA\n",
      "To enable them in other operations, rebuild TensorFlow with the appropriate compiler flags.\n"
     ]
    }
   ],
   "source": [
    "T = len(X_train_pad[1])  # 20\n",
    "V = len(word_dict) # 7982\n",
    "D = 20\n",
    "\n",
    "model = Sequential()\n",
    "model.add(Embedding(input_dim=V+1, output_dim=D, input_length=T)) # \"V+1\" since word index starts from 1\n",
    "# model.add(SimpleRNN(400))\n",
    "model.add(LSTM(400))\n",
    "model.add(Dense(1, activation='sigmoid'))\n",
    "\n",
    "model.compile(loss='binary_crossentropy', optimizer='adam', metrics=['accuracy'])\n",
    "model.summary()"
   ]
  },
  {
   "cell_type": "markdown",
   "metadata": {
    "id": "FR-5Xjjp2oSw"
   },
   "source": [
    "## Train model"
   ]
  },
  {
   "cell_type": "code",
   "execution_count": 11,
   "metadata": {
    "colab": {
     "base_uri": "https://localhost:8080/"
    },
    "executionInfo": {
     "elapsed": 47365,
     "status": "ok",
     "timestamp": 1678257587894,
     "user": {
      "displayName": "Pengxia Wu",
      "userId": "06372533848067580748"
     },
     "user_tz": 480
    },
    "id": "UKq1_lFQ2oSw",
    "outputId": "55b343b9-b1b7-4574-a57b-1cec168ca93b"
   },
   "outputs": [
    {
     "name": "stdout",
     "output_type": "stream",
     "text": [
      "Epoch 1/10\n",
      "70/70 [==============================] - 4s 38ms/step - loss: 0.1991 - accuracy: 0.9327 - val_loss: 0.0663 - val_accuracy: 0.9847\n",
      "Epoch 2/10\n",
      "70/70 [==============================] - 2s 35ms/step - loss: 0.0327 - accuracy: 0.9908 - val_loss: 0.0585 - val_accuracy: 0.9847\n",
      "Epoch 3/10\n",
      "70/70 [==============================] - 2s 34ms/step - loss: 0.0166 - accuracy: 0.9957 - val_loss: 0.0828 - val_accuracy: 0.9820\n",
      "Epoch 4/10\n",
      "70/70 [==============================] - 2s 34ms/step - loss: 0.0068 - accuracy: 0.9989 - val_loss: 0.0872 - val_accuracy: 0.9785\n",
      "Epoch 5/10\n",
      "70/70 [==============================] - 2s 32ms/step - loss: 3.2713e-04 - accuracy: 1.0000 - val_loss: 0.1231 - val_accuracy: 0.9803\n",
      "Epoch 6/10\n",
      "70/70 [==============================] - 2s 32ms/step - loss: 1.1450e-04 - accuracy: 1.0000 - val_loss: 0.1318 - val_accuracy: 0.9803\n",
      "Epoch 7/10\n",
      "70/70 [==============================] - 2s 31ms/step - loss: 2.6893e-05 - accuracy: 1.0000 - val_loss: 0.1469 - val_accuracy: 0.9803\n",
      "Epoch 8/10\n",
      "70/70 [==============================] - 2s 32ms/step - loss: 1.3952e-05 - accuracy: 1.0000 - val_loss: 0.1576 - val_accuracy: 0.9803\n",
      "Epoch 9/10\n",
      "70/70 [==============================] - 2s 33ms/step - loss: 9.6960e-06 - accuracy: 1.0000 - val_loss: 0.1653 - val_accuracy: 0.9794\n",
      "Epoch 10/10\n",
      "70/70 [==============================] - 2s 32ms/step - loss: 7.3482e-06 - accuracy: 1.0000 - val_loss: 0.1718 - val_accuracy: 0.9785\n"
     ]
    }
   ],
   "source": [
    "history = model.fit(X_train_pad, y_train, epochs=10, batch_size=64, \n",
    "                    validation_data=(X_test_pad, y_test))"
   ]
  },
  {
   "cell_type": "markdown",
   "metadata": {
    "id": "NZxDRNiw2oSx"
   },
   "source": [
    "## Test-Estimation"
   ]
  },
  {
   "cell_type": "code",
   "execution_count": 20,
   "metadata": {
    "colab": {
     "base_uri": "https://localhost:8080/"
    },
    "executionInfo": {
     "elapsed": 351,
     "status": "ok",
     "timestamp": 1678257598274,
     "user": {
      "displayName": "Pengxia Wu",
      "userId": "06372533848067580748"
     },
     "user_tz": 480
    },
    "id": "rC6MAip62oSx",
    "outputId": "544c1c07-2e53-4356-b3cd-cf0cd6f20ed1"
   },
   "outputs": [
    {
     "name": "stdout",
     "output_type": "stream",
     "text": [
      "1/1 [==============================] - 0s 12ms/step\n"
     ]
    },
    {
     "data": {
      "text/plain": [
       "False"
      ]
     },
     "execution_count": 20,
     "metadata": {},
     "output_type": "execute_result"
    }
   ],
   "source": [
    "sms_test = ['This course is about deep learning']\n",
    "sms_seq = tokenizer.texts_to_sequences(sms_test)\n",
    "\n",
    "sms_pad = pad_sequences(sms_seq, maxlen=20, padding='post')\n",
    "tokenizer.index_word\n",
    "sms_pad\n",
    "predict_x=model.predict(sms_pad) \n",
    "predict_x\n",
    "classes_x = (predict_x[0, 0] > 0.5)\n",
    "classes_x"
   ]
  },
  {
   "cell_type": "markdown",
   "metadata": {
    "id": "Y-dVOWqm2oSx"
   },
   "source": [
    "... classified the text as no spam. Correct!"
   ]
  },
  {
   "cell_type": "code",
   "execution_count": 21,
   "metadata": {
    "colab": {
     "base_uri": "https://localhost:8080/"
    },
    "executionInfo": {
     "elapsed": 207,
     "status": "ok",
     "timestamp": 1678257600588,
     "user": {
      "displayName": "Pengxia Wu",
      "userId": "06372533848067580748"
     },
     "user_tz": 480
    },
    "id": "uFU__yKI2oSx",
    "outputId": "920e4dcc-c035-45f5-fa19-0689a4736c13"
   },
   "outputs": [
    {
     "name": "stdout",
     "output_type": "stream",
     "text": [
      "1/1 [==============================] - 0s 11ms/step\n"
     ]
    },
    {
     "data": {
      "text/plain": [
       "True"
      ]
     },
     "execution_count": 21,
     "metadata": {},
     "output_type": "execute_result"
    }
   ],
   "source": [
    "sms_test = ['Free service for everyone']\n",
    "sms_seq = tokenizer.texts_to_sequences(sms_test)\n",
    "\n",
    "sms_pad = pad_sequences(sms_seq, maxlen=20, padding='post')\n",
    "tokenizer.index_word\n",
    "sms_pad\n",
    "predict_x=model.predict(sms_pad) \n",
    "predict_x\n",
    "classes_x = (predict_x[0, 0] > 0.5)\n",
    "classes_x"
   ]
  },
  {
   "cell_type": "markdown",
   "metadata": {
    "id": "67WE-oX-2oSx"
   },
   "source": [
    "... classified the tet as spam. Correct again!"
   ]
  },
  {
   "cell_type": "code",
   "execution_count": null,
   "metadata": {
    "id": "H5fOhVIs2oSy"
   },
   "outputs": [],
   "source": []
  }
 ],
 "metadata": {
  "colab": {
   "provenance": []
  },
  "kernelspec": {
   "display_name": "tf",
   "language": "python",
   "name": "tf"
  },
  "language_info": {
   "codemirror_mode": {
    "name": "ipython",
    "version": 3
   },
   "file_extension": ".py",
   "mimetype": "text/x-python",
   "name": "python",
   "nbconvert_exporter": "python",
   "pygments_lexer": "ipython3",
   "version": "3.8.13"
  }
 },
 "nbformat": 4,
 "nbformat_minor": 1
}
